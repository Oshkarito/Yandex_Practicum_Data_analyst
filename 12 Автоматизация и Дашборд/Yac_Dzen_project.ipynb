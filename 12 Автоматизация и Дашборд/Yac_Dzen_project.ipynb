{
 "cells": [
  {
   "attachments": {},
   "cell_type": "markdown",
   "id": "dbd3717a",
   "metadata": {},
   "source": [
    "## План работы:\n",
    "1. [Импорт библиотек и данных, выгрузка csv-формат для работы Tableau](#импорт-библиотек-и-данных-выгрузка-csv-формат-для-работы-tableau)\n",
    "2. [Ссылка на дашборд в Tableau, ссылка на презентацию](#ссылка-на-дашборд-в-tableau-ссылка-на-презентацию)"
   ]
  },
  {
   "attachments": {},
   "cell_type": "markdown",
   "id": "a2df37be",
   "metadata": {},
   "source": [
    "### Импорт библиотек и данных, выгрузка csv-формат для работы Tableau"
   ]
  },
  {
   "cell_type": "code",
   "execution_count": 13,
   "id": "9df89801",
   "metadata": {},
   "outputs": [
    {
     "data": {
      "text/html": [
       "<div>\n",
       "<style scoped>\n",
       "    .dataframe tbody tr th:only-of-type {\n",
       "        vertical-align: middle;\n",
       "    }\n",
       "\n",
       "    .dataframe tbody tr th {\n",
       "        vertical-align: top;\n",
       "    }\n",
       "\n",
       "    .dataframe thead th {\n",
       "        text-align: right;\n",
       "    }\n",
       "</style>\n",
       "<table border=\"1\" class=\"dataframe\">\n",
       "  <thead>\n",
       "    <tr style=\"text-align: right;\">\n",
       "      <th></th>\n",
       "      <th>record_id</th>\n",
       "      <th>item_topic</th>\n",
       "      <th>source_topic</th>\n",
       "      <th>age_segment</th>\n",
       "      <th>dt</th>\n",
       "      <th>visits</th>\n",
       "    </tr>\n",
       "  </thead>\n",
       "  <tbody>\n",
       "    <tr>\n",
       "      <th>0</th>\n",
       "      <td>1040597</td>\n",
       "      <td>Деньги</td>\n",
       "      <td>Авто</td>\n",
       "      <td>18-25</td>\n",
       "      <td>2019-09-24 18:32:00</td>\n",
       "      <td>3</td>\n",
       "    </tr>\n",
       "    <tr>\n",
       "      <th>1</th>\n",
       "      <td>1040598</td>\n",
       "      <td>Деньги</td>\n",
       "      <td>Авто</td>\n",
       "      <td>18-25</td>\n",
       "      <td>2019-09-24 18:35:00</td>\n",
       "      <td>1</td>\n",
       "    </tr>\n",
       "    <tr>\n",
       "      <th>2</th>\n",
       "      <td>1040599</td>\n",
       "      <td>Деньги</td>\n",
       "      <td>Авто</td>\n",
       "      <td>18-25</td>\n",
       "      <td>2019-09-24 18:54:00</td>\n",
       "      <td>4</td>\n",
       "    </tr>\n",
       "    <tr>\n",
       "      <th>3</th>\n",
       "      <td>1040600</td>\n",
       "      <td>Деньги</td>\n",
       "      <td>Авто</td>\n",
       "      <td>18-25</td>\n",
       "      <td>2019-09-24 18:55:00</td>\n",
       "      <td>17</td>\n",
       "    </tr>\n",
       "    <tr>\n",
       "      <th>4</th>\n",
       "      <td>1040601</td>\n",
       "      <td>Деньги</td>\n",
       "      <td>Авто</td>\n",
       "      <td>18-25</td>\n",
       "      <td>2019-09-24 18:56:00</td>\n",
       "      <td>27</td>\n",
       "    </tr>\n",
       "  </tbody>\n",
       "</table>\n",
       "</div>"
      ],
      "text/plain": [
       "   record_id item_topic source_topic age_segment                  dt  visits\n",
       "0    1040597     Деньги         Авто       18-25 2019-09-24 18:32:00       3\n",
       "1    1040598     Деньги         Авто       18-25 2019-09-24 18:35:00       1\n",
       "2    1040599     Деньги         Авто       18-25 2019-09-24 18:54:00       4\n",
       "3    1040600     Деньги         Авто       18-25 2019-09-24 18:55:00      17\n",
       "4    1040601     Деньги         Авто       18-25 2019-09-24 18:56:00      27"
      ]
     },
     "execution_count": 13,
     "metadata": {},
     "output_type": "execute_result"
    }
   ],
   "source": [
    "# импортируем библиотеки\n",
    "import pandas as pd\n",
    "from sqlalchemy import create_engine\n",
    " \n",
    "db_config = {'user': 'praktikum_student', # имя пользователя\n",
    "            'pwd': 'Sdf4$2;d-d30pp', # пароль\n",
    "            'host': 'rc1b-wcoijxj3yxfsf3fs.mdb.yandexcloud.net',\n",
    "            'port': 6432, # порт подключения\n",
    "            'db': 'data-analyst-zen-project-db'} # название базы данных\n",
    " \n",
    "connection_string = 'postgresql://{}:{}@{}:{}/{}'.format(db_config['user'],\n",
    "                                                db_config['pwd'],\n",
    "                                                db_config['host'],\n",
    "                                                db_config['port'],\n",
    "                                                db_config['db'])\n",
    " \n",
    "engine = create_engine(connection_string)\n",
    " \n",
    "query = '''\n",
    "             SELECT *\n",
    "             FROM dash_visits\n",
    "        '''\n",
    "dash_visits = pd.io.sql.read_sql(query, con = engine) #сохранить результат в переменной dash_visits \n",
    "\n",
    "dash_visits.head()"
   ]
  },
  {
   "cell_type": "code",
   "execution_count": 14,
   "id": "505021ef",
   "metadata": {},
   "outputs": [],
   "source": [
    "dash_visits.to_csv('dash_visits.csv', index=False) # Датафрейм в csv в текущую директорию"
   ]
  },
  {
   "attachments": {},
   "cell_type": "markdown",
   "id": "673da000",
   "metadata": {},
   "source": [
    "### Ссылка на дашборд в Tableau, ссылка на презентацию"
   ]
  },
  {
   "attachments": {},
   "cell_type": "markdown",
   "id": "fa1a7bca",
   "metadata": {},
   "source": [
    "Ссылка на дашборд: <https://public.tableau.com/views/Dashboard_YandexDzen_16855626157100/Dashboard1?:language=en-US&:display_count=n&:origin=viz_share_link>"
   ]
  },
  {
   "attachments": {},
   "cell_type": "markdown",
   "id": "81d2e9f6",
   "metadata": {},
   "source": [
    " Ссылка на презентацию: <https://docs.google.com/presentation/d/1RfKNqdaZUgGSXvJKNocsWGR62bD2avb-KeOAvG2fphA/edit?usp=sharing>"
   ]
  }
 ],
 "metadata": {
  "ExecuteTimeLog": [
   {
    "duration": 1662,
    "start_time": "2022-04-02T12:21:54.317Z"
   },
   {
    "duration": 5,
    "start_time": "2022-04-02T12:21:55.981Z"
   },
   {
    "duration": 279,
    "start_time": "2022-04-02T12:21:55.988Z"
   },
   {
    "duration": 18,
    "start_time": "2022-04-02T12:21:56.271Z"
   },
   {
    "duration": 223,
    "start_time": "2022-04-02T12:21:56.291Z"
   },
   {
    "duration": 73,
    "start_time": "2022-04-02T12:21:56.517Z"
   },
   {
    "duration": 17,
    "start_time": "2022-04-02T12:21:56.593Z"
   },
   {
    "duration": 34,
    "start_time": "2022-04-02T12:21:56.613Z"
   },
   {
    "duration": 12,
    "start_time": "2022-04-02T12:21:56.683Z"
   },
   {
    "duration": 10,
    "start_time": "2022-04-02T12:21:56.699Z"
   },
   {
    "duration": 18,
    "start_time": "2022-04-02T12:21:56.711Z"
   },
   {
    "duration": 55,
    "start_time": "2022-04-02T12:21:56.731Z"
   },
   {
    "duration": 32,
    "start_time": "2022-04-02T12:21:56.789Z"
   },
   {
    "duration": 123,
    "start_time": "2022-04-02T12:21:56.823Z"
   },
   {
    "duration": 203,
    "start_time": "2022-04-02T12:21:56.948Z"
   },
   {
    "duration": 40,
    "start_time": "2022-04-02T12:21:57.153Z"
   },
   {
    "duration": 5,
    "start_time": "2022-04-02T12:21:57.195Z"
   },
   {
    "duration": 13,
    "start_time": "2022-04-02T12:21:57.203Z"
   },
   {
    "duration": 21,
    "start_time": "2022-04-02T12:21:57.219Z"
   },
   {
    "duration": 42,
    "start_time": "2022-04-02T12:21:57.243Z"
   },
   {
    "duration": 472,
    "start_time": "2022-04-02T12:21:57.287Z"
   },
   {
    "duration": 40,
    "start_time": "2022-04-02T12:21:57.761Z"
   },
   {
    "duration": 8,
    "start_time": "2022-04-02T12:21:57.803Z"
   },
   {
    "duration": 20,
    "start_time": "2022-04-02T12:21:57.813Z"
   },
   {
    "duration": 8,
    "start_time": "2022-04-02T12:21:57.835Z"
   },
   {
    "duration": 8,
    "start_time": "2022-04-02T12:21:57.884Z"
   },
   {
    "duration": 117,
    "start_time": "2022-04-02T12:21:57.894Z"
   },
   {
    "duration": 231,
    "start_time": "2022-04-02T12:21:58.016Z"
   },
   {
    "duration": 66,
    "start_time": "2022-04-02T12:21:58.250Z"
   },
   {
    "duration": 286,
    "start_time": "2022-04-02T12:21:58.318Z"
   },
   {
    "duration": 28,
    "start_time": "2022-04-02T12:21:58.607Z"
   },
   {
    "duration": 9,
    "start_time": "2022-04-02T12:21:58.637Z"
   },
   {
    "duration": 109,
    "start_time": "2022-04-02T12:21:58.649Z"
   },
   {
    "duration": 105,
    "start_time": "2022-04-02T12:21:58.761Z"
   },
   {
    "duration": 97,
    "start_time": "2022-04-02T12:21:58.868Z"
   },
   {
    "duration": 24,
    "start_time": "2022-04-02T12:21:58.968Z"
   },
   {
    "duration": 16,
    "start_time": "2022-04-02T12:21:58.994Z"
   },
   {
    "duration": 21,
    "start_time": "2022-04-02T12:21:59.013Z"
   },
   {
    "duration": 17,
    "start_time": "2022-04-02T12:21:59.037Z"
   },
   {
    "duration": 31,
    "start_time": "2022-04-02T12:21:59.056Z"
   },
   {
    "duration": 32,
    "start_time": "2022-04-02T12:21:59.090Z"
   },
   {
    "duration": 98,
    "start_time": "2022-04-02T12:21:59.124Z"
   },
   {
    "duration": 65,
    "start_time": "2022-04-02T12:21:59.224Z"
   },
   {
    "duration": 103,
    "start_time": "2022-04-02T12:21:59.292Z"
   },
   {
    "duration": 6,
    "start_time": "2022-04-02T12:56:15.140Z"
   },
   {
    "duration": 1623,
    "start_time": "2022-04-02T13:29:08.050Z"
   },
   {
    "duration": 9,
    "start_time": "2022-04-02T13:29:09.676Z"
   },
   {
    "duration": 261,
    "start_time": "2022-04-02T13:29:09.687Z"
   },
   {
    "duration": 12,
    "start_time": "2022-04-02T13:29:09.951Z"
   },
   {
    "duration": 195,
    "start_time": "2022-04-02T13:29:09.967Z"
   },
   {
    "duration": 42,
    "start_time": "2022-04-02T13:29:10.183Z"
   },
   {
    "duration": 15,
    "start_time": "2022-04-02T13:29:10.227Z"
   },
   {
    "duration": 65,
    "start_time": "2022-04-02T13:29:10.244Z"
   },
   {
    "duration": 11,
    "start_time": "2022-04-02T13:29:10.311Z"
   },
   {
    "duration": 18,
    "start_time": "2022-04-02T13:29:10.324Z"
   },
   {
    "duration": 46,
    "start_time": "2022-04-02T13:29:10.344Z"
   },
   {
    "duration": 15,
    "start_time": "2022-04-02T13:29:10.393Z"
   },
   {
    "duration": 29,
    "start_time": "2022-04-02T13:29:10.411Z"
   },
   {
    "duration": 137,
    "start_time": "2022-04-02T13:29:10.447Z"
   },
   {
    "duration": 205,
    "start_time": "2022-04-02T13:29:10.587Z"
   },
   {
    "duration": 31,
    "start_time": "2022-04-02T13:29:10.795Z"
   },
   {
    "duration": 6,
    "start_time": "2022-04-02T13:29:10.828Z"
   },
   {
    "duration": 14,
    "start_time": "2022-04-02T13:29:10.837Z"
   },
   {
    "duration": 50,
    "start_time": "2022-04-02T13:29:10.853Z"
   },
   {
    "duration": 7,
    "start_time": "2022-04-02T13:29:10.905Z"
   },
   {
    "duration": 485,
    "start_time": "2022-04-02T13:29:10.914Z"
   },
   {
    "duration": 26,
    "start_time": "2022-04-02T13:29:11.401Z"
   },
   {
    "duration": 8,
    "start_time": "2022-04-02T13:29:11.429Z"
   },
   {
    "duration": 48,
    "start_time": "2022-04-02T13:29:11.439Z"
   },
   {
    "duration": 9,
    "start_time": "2022-04-02T13:29:11.490Z"
   },
   {
    "duration": 14,
    "start_time": "2022-04-02T13:29:11.502Z"
   },
   {
    "duration": 130,
    "start_time": "2022-04-02T13:29:11.519Z"
   },
   {
    "duration": 234,
    "start_time": "2022-04-02T13:29:11.652Z"
   },
   {
    "duration": 110,
    "start_time": "2022-04-02T13:29:11.889Z"
   },
   {
    "duration": 218,
    "start_time": "2022-04-02T13:29:12.001Z"
   },
   {
    "duration": 18,
    "start_time": "2022-04-02T13:29:12.222Z"
   },
   {
    "duration": 17,
    "start_time": "2022-04-02T13:29:12.243Z"
   },
   {
    "duration": 74,
    "start_time": "2022-04-02T13:29:12.262Z"
   },
   {
    "duration": 88,
    "start_time": "2022-04-02T13:29:12.338Z"
   },
   {
    "duration": 73,
    "start_time": "2022-04-02T13:29:12.429Z"
   },
   {
    "duration": 8,
    "start_time": "2022-04-02T13:29:12.504Z"
   },
   {
    "duration": 28,
    "start_time": "2022-04-02T13:29:12.515Z"
   },
   {
    "duration": 32,
    "start_time": "2022-04-02T13:29:12.545Z"
   },
   {
    "duration": 32,
    "start_time": "2022-04-02T13:29:12.579Z"
   },
   {
    "duration": 23,
    "start_time": "2022-04-02T13:29:12.614Z"
   },
   {
    "duration": 36,
    "start_time": "2022-04-02T13:29:12.646Z"
   },
   {
    "duration": 110,
    "start_time": "2022-04-02T13:29:12.685Z"
   },
   {
    "duration": 47,
    "start_time": "2022-04-02T13:29:12.797Z"
   },
   {
    "duration": 90,
    "start_time": "2022-04-02T13:29:12.845Z"
   },
   {
    "duration": 48,
    "start_time": "2022-04-02T14:23:09.781Z"
   },
   {
    "duration": 1337,
    "start_time": "2022-04-02T14:23:18.673Z"
   },
   {
    "duration": 4,
    "start_time": "2022-04-02T14:23:20.012Z"
   },
   {
    "duration": 215,
    "start_time": "2022-04-02T14:23:20.018Z"
   },
   {
    "duration": 9,
    "start_time": "2022-04-02T14:23:20.235Z"
   },
   {
    "duration": 142,
    "start_time": "2022-04-02T14:23:20.246Z"
   },
   {
    "duration": 49,
    "start_time": "2022-04-02T14:23:20.389Z"
   },
   {
    "duration": 12,
    "start_time": "2022-04-02T14:23:20.439Z"
   },
   {
    "duration": 27,
    "start_time": "2022-04-02T14:23:20.453Z"
   },
   {
    "duration": 9,
    "start_time": "2022-04-02T14:23:20.482Z"
   },
   {
    "duration": 11,
    "start_time": "2022-04-02T14:23:20.493Z"
   },
   {
    "duration": 14,
    "start_time": "2022-04-02T14:23:20.534Z"
   },
   {
    "duration": 10,
    "start_time": "2022-04-02T14:23:20.549Z"
   },
   {
    "duration": 21,
    "start_time": "2022-04-02T14:23:20.561Z"
   },
   {
    "duration": 91,
    "start_time": "2022-04-02T14:23:20.584Z"
   },
   {
    "duration": 132,
    "start_time": "2022-04-02T14:23:20.677Z"
   },
   {
    "duration": 29,
    "start_time": "2022-04-02T14:23:20.811Z"
   },
   {
    "duration": 4,
    "start_time": "2022-04-02T14:23:20.842Z"
   },
   {
    "duration": 8,
    "start_time": "2022-04-02T14:23:20.848Z"
   },
   {
    "duration": 17,
    "start_time": "2022-04-02T14:23:20.858Z"
   },
   {
    "duration": 7,
    "start_time": "2022-04-02T14:23:20.877Z"
   },
   {
    "duration": 306,
    "start_time": "2022-04-02T14:23:20.886Z"
   },
   {
    "duration": 18,
    "start_time": "2022-04-02T14:23:21.194Z"
   },
   {
    "duration": 20,
    "start_time": "2022-04-02T14:23:21.213Z"
   },
   {
    "duration": 15,
    "start_time": "2022-04-02T14:23:21.235Z"
   },
   {
    "duration": 5,
    "start_time": "2022-04-02T14:23:21.251Z"
   },
   {
    "duration": 5,
    "start_time": "2022-04-02T14:23:21.258Z"
   },
   {
    "duration": 94,
    "start_time": "2022-04-02T14:23:21.264Z"
   },
   {
    "duration": 176,
    "start_time": "2022-04-02T14:23:21.361Z"
   },
   {
    "duration": 95,
    "start_time": "2022-04-02T14:23:21.539Z"
   },
   {
    "duration": 156,
    "start_time": "2022-04-02T14:23:21.636Z"
   },
   {
    "duration": 13,
    "start_time": "2022-04-02T14:23:21.795Z"
   },
   {
    "duration": 6,
    "start_time": "2022-04-02T14:23:21.834Z"
   },
   {
    "duration": 42,
    "start_time": "2022-04-02T14:23:21.841Z"
   },
   {
    "duration": 63,
    "start_time": "2022-04-02T14:23:21.885Z"
   },
   {
    "duration": 37,
    "start_time": "2022-04-02T14:23:21.950Z"
   },
   {
    "duration": 6,
    "start_time": "2022-04-02T14:23:21.989Z"
   },
   {
    "duration": 7,
    "start_time": "2022-04-02T14:23:21.997Z"
   },
   {
    "duration": 29,
    "start_time": "2022-04-02T14:23:22.005Z"
   },
   {
    "duration": 8,
    "start_time": "2022-04-02T14:23:22.036Z"
   },
   {
    "duration": 8,
    "start_time": "2022-04-02T14:23:22.046Z"
   },
   {
    "duration": 22,
    "start_time": "2022-04-02T14:23:22.056Z"
   },
   {
    "duration": 77,
    "start_time": "2022-04-02T14:23:22.080Z"
   },
   {
    "duration": 43,
    "start_time": "2022-04-02T14:23:22.159Z"
   },
   {
    "duration": 78,
    "start_time": "2022-04-02T14:23:22.204Z"
   },
   {
    "duration": 71,
    "start_time": "2022-04-02T14:43:31.294Z"
   },
   {
    "duration": 64,
    "start_time": "2022-04-02T14:43:48.347Z"
   },
   {
    "duration": 68,
    "start_time": "2022-04-02T14:44:04.549Z"
   },
   {
    "duration": 72,
    "start_time": "2022-04-02T14:44:13.343Z"
   },
   {
    "duration": 68,
    "start_time": "2022-04-02T14:44:36.417Z"
   },
   {
    "duration": 3,
    "start_time": "2022-04-02T14:44:43.916Z"
   },
   {
    "duration": 6,
    "start_time": "2022-04-02T14:44:43.921Z"
   },
   {
    "duration": 187,
    "start_time": "2022-04-02T14:44:43.928Z"
   },
   {
    "duration": 8,
    "start_time": "2022-04-02T14:44:44.117Z"
   },
   {
    "duration": 122,
    "start_time": "2022-04-02T14:44:44.126Z"
   },
   {
    "duration": 32,
    "start_time": "2022-04-02T14:44:44.250Z"
   },
   {
    "duration": 11,
    "start_time": "2022-04-02T14:44:44.284Z"
   },
   {
    "duration": 50,
    "start_time": "2022-04-02T14:44:44.297Z"
   },
   {
    "duration": 7,
    "start_time": "2022-04-02T14:44:44.349Z"
   },
   {
    "duration": 6,
    "start_time": "2022-04-02T14:44:44.358Z"
   },
   {
    "duration": 10,
    "start_time": "2022-04-02T14:44:44.365Z"
   },
   {
    "duration": 9,
    "start_time": "2022-04-02T14:44:44.378Z"
   },
   {
    "duration": 54,
    "start_time": "2022-04-02T14:44:44.388Z"
   },
   {
    "duration": 57,
    "start_time": "2022-04-02T14:44:44.444Z"
   },
   {
    "duration": 140,
    "start_time": "2022-04-02T14:44:44.503Z"
   },
   {
    "duration": 19,
    "start_time": "2022-04-02T14:44:44.645Z"
   },
   {
    "duration": 3,
    "start_time": "2022-04-02T14:44:44.666Z"
   },
   {
    "duration": 9,
    "start_time": "2022-04-02T14:44:44.670Z"
   },
   {
    "duration": 15,
    "start_time": "2022-04-02T14:44:44.680Z"
   },
   {
    "duration": 36,
    "start_time": "2022-04-02T14:44:44.697Z"
   },
   {
    "duration": 197,
    "start_time": "2022-04-02T14:44:44.735Z"
   },
   {
    "duration": 17,
    "start_time": "2022-04-02T14:44:44.934Z"
   },
   {
    "duration": 5,
    "start_time": "2022-04-02T14:44:44.953Z"
   },
   {
    "duration": 15,
    "start_time": "2022-04-02T14:44:44.960Z"
   },
   {
    "duration": 5,
    "start_time": "2022-04-02T14:44:44.977Z"
   },
   {
    "duration": 67,
    "start_time": "2022-04-02T14:44:47.157Z"
   },
   {
    "duration": 73,
    "start_time": "2022-04-02T14:45:05.611Z"
   },
   {
    "duration": 172,
    "start_time": "2022-04-02T14:48:42.888Z"
   },
   {
    "duration": 81,
    "start_time": "2022-04-02T14:49:58.875Z"
   },
   {
    "duration": 71,
    "start_time": "2022-04-02T14:50:28.848Z"
   },
   {
    "duration": 3,
    "start_time": "2022-04-02T14:51:12.449Z"
   },
   {
    "duration": 5,
    "start_time": "2022-04-02T14:51:12.454Z"
   },
   {
    "duration": 200,
    "start_time": "2022-04-02T14:51:12.461Z"
   },
   {
    "duration": 8,
    "start_time": "2022-04-02T14:51:12.663Z"
   },
   {
    "duration": 125,
    "start_time": "2022-04-02T14:51:12.673Z"
   },
   {
    "duration": 48,
    "start_time": "2022-04-02T14:51:12.800Z"
   },
   {
    "duration": 11,
    "start_time": "2022-04-02T14:51:12.850Z"
   },
   {
    "duration": 22,
    "start_time": "2022-04-02T14:51:12.863Z"
   },
   {
    "duration": 8,
    "start_time": "2022-04-02T14:51:12.887Z"
   },
   {
    "duration": 40,
    "start_time": "2022-04-02T14:51:12.897Z"
   },
   {
    "duration": 11,
    "start_time": "2022-04-02T14:51:12.938Z"
   },
   {
    "duration": 10,
    "start_time": "2022-04-02T14:51:12.950Z"
   },
   {
    "duration": 21,
    "start_time": "2022-04-02T14:51:12.962Z"
   },
   {
    "duration": 90,
    "start_time": "2022-04-02T14:51:12.984Z"
   },
   {
    "duration": 139,
    "start_time": "2022-04-02T14:51:13.075Z"
   },
   {
    "duration": 26,
    "start_time": "2022-04-02T14:51:13.215Z"
   },
   {
    "duration": 4,
    "start_time": "2022-04-02T14:51:13.243Z"
   },
   {
    "duration": 8,
    "start_time": "2022-04-02T14:51:13.248Z"
   },
   {
    "duration": 16,
    "start_time": "2022-04-02T14:51:13.257Z"
   },
   {
    "duration": 6,
    "start_time": "2022-04-02T14:51:13.274Z"
   },
   {
    "duration": 217,
    "start_time": "2022-04-02T14:51:13.281Z"
   },
   {
    "duration": 17,
    "start_time": "2022-04-02T14:51:13.500Z"
   },
   {
    "duration": 16,
    "start_time": "2022-04-02T14:51:13.518Z"
   },
   {
    "duration": 13,
    "start_time": "2022-04-02T14:51:13.535Z"
   },
   {
    "duration": 5,
    "start_time": "2022-04-02T14:51:13.550Z"
   },
   {
    "duration": 68,
    "start_time": "2022-04-02T14:51:17.345Z"
   },
   {
    "duration": 12,
    "start_time": "2022-04-02T14:51:47.045Z"
   },
   {
    "duration": 5,
    "start_time": "2022-04-02T14:52:17.234Z"
   },
   {
    "duration": 5,
    "start_time": "2022-04-02T14:52:25.980Z"
   },
   {
    "duration": 7,
    "start_time": "2022-04-02T14:52:31.036Z"
   },
   {
    "duration": 74,
    "start_time": "2022-04-02T14:53:12.243Z"
   },
   {
    "duration": 72,
    "start_time": "2022-04-02T15:00:16.540Z"
   },
   {
    "duration": 4,
    "start_time": "2022-04-02T15:00:24.757Z"
   },
   {
    "duration": 1205,
    "start_time": "2022-04-02T15:00:36.788Z"
   },
   {
    "duration": 4,
    "start_time": "2022-04-02T15:00:37.995Z"
   },
   {
    "duration": 250,
    "start_time": "2022-04-02T15:00:38.000Z"
   },
   {
    "duration": 9,
    "start_time": "2022-04-02T15:00:38.253Z"
   },
   {
    "duration": 149,
    "start_time": "2022-04-02T15:00:38.264Z"
   },
   {
    "duration": 56,
    "start_time": "2022-04-02T15:00:38.414Z"
   },
   {
    "duration": 11,
    "start_time": "2022-04-02T15:00:38.471Z"
   },
   {
    "duration": 24,
    "start_time": "2022-04-02T15:00:38.483Z"
   },
   {
    "duration": 35,
    "start_time": "2022-04-02T15:00:38.508Z"
   },
   {
    "duration": 15,
    "start_time": "2022-04-02T15:00:38.547Z"
   },
   {
    "duration": 14,
    "start_time": "2022-04-02T15:00:38.564Z"
   },
   {
    "duration": 10,
    "start_time": "2022-04-02T15:00:38.580Z"
   },
   {
    "duration": 61,
    "start_time": "2022-04-02T15:00:38.592Z"
   },
   {
    "duration": 79,
    "start_time": "2022-04-02T15:00:38.655Z"
   },
   {
    "duration": 178,
    "start_time": "2022-04-02T15:00:38.736Z"
   },
   {
    "duration": 28,
    "start_time": "2022-04-02T15:00:38.915Z"
   },
   {
    "duration": 8,
    "start_time": "2022-04-02T15:00:38.945Z"
   },
   {
    "duration": 12,
    "start_time": "2022-04-02T15:00:38.955Z"
   },
   {
    "duration": 16,
    "start_time": "2022-04-02T15:00:38.969Z"
   },
   {
    "duration": 5,
    "start_time": "2022-04-02T15:00:38.987Z"
   },
   {
    "duration": 319,
    "start_time": "2022-04-02T15:00:38.994Z"
   },
   {
    "duration": 32,
    "start_time": "2022-04-02T15:00:39.315Z"
   },
   {
    "duration": 7,
    "start_time": "2022-04-02T15:00:39.348Z"
   },
   {
    "duration": 15,
    "start_time": "2022-04-02T15:00:39.357Z"
   },
   {
    "duration": 5,
    "start_time": "2022-04-02T15:00:39.374Z"
   },
   {
    "duration": 12,
    "start_time": "2022-04-02T15:00:39.380Z"
   },
   {
    "duration": 103,
    "start_time": "2022-04-02T15:00:39.394Z"
   },
   {
    "duration": 190,
    "start_time": "2022-04-02T15:00:39.501Z"
   },
   {
    "duration": 46,
    "start_time": "2022-04-02T15:00:39.692Z"
   },
   {
    "duration": 157,
    "start_time": "2022-04-02T15:00:39.741Z"
   },
   {
    "duration": 21,
    "start_time": "2022-04-02T15:00:39.932Z"
   },
   {
    "duration": 8,
    "start_time": "2022-04-02T15:00:39.954Z"
   },
   {
    "duration": 46,
    "start_time": "2022-04-02T15:00:39.964Z"
   },
   {
    "duration": 68,
    "start_time": "2022-04-02T15:00:40.012Z"
   },
   {
    "duration": 65,
    "start_time": "2022-04-02T15:00:40.081Z"
   },
   {
    "duration": 6,
    "start_time": "2022-04-02T15:00:40.148Z"
   },
   {
    "duration": 12,
    "start_time": "2022-04-02T15:00:40.155Z"
   },
   {
    "duration": 9,
    "start_time": "2022-04-02T15:00:40.169Z"
   },
   {
    "duration": 11,
    "start_time": "2022-04-02T15:00:40.180Z"
   },
   {
    "duration": 11,
    "start_time": "2022-04-02T15:00:40.193Z"
   },
   {
    "duration": 47,
    "start_time": "2022-04-02T15:00:40.207Z"
   },
   {
    "duration": 45,
    "start_time": "2022-04-02T15:00:40.256Z"
   },
   {
    "duration": 58,
    "start_time": "2022-04-02T15:00:40.303Z"
   },
   {
    "duration": 41,
    "start_time": "2022-04-02T15:00:40.363Z"
   },
   {
    "duration": 41,
    "start_time": "2022-04-02T15:08:32.474Z"
   },
   {
    "duration": 39,
    "start_time": "2022-04-02T15:08:36.772Z"
   },
   {
    "duration": 1279,
    "start_time": "2022-04-02T15:08:50.203Z"
   },
   {
    "duration": 3,
    "start_time": "2022-04-02T15:08:51.484Z"
   },
   {
    "duration": 209,
    "start_time": "2022-04-02T15:08:51.488Z"
   },
   {
    "duration": 9,
    "start_time": "2022-04-02T15:08:51.699Z"
   },
   {
    "duration": 155,
    "start_time": "2022-04-02T15:08:51.710Z"
   },
   {
    "duration": 34,
    "start_time": "2022-04-02T15:08:51.867Z"
   },
   {
    "duration": 37,
    "start_time": "2022-04-02T15:08:51.902Z"
   },
   {
    "duration": 25,
    "start_time": "2022-04-02T15:08:51.941Z"
   },
   {
    "duration": 7,
    "start_time": "2022-04-02T15:08:51.968Z"
   },
   {
    "duration": 11,
    "start_time": "2022-04-02T15:08:51.978Z"
   },
   {
    "duration": 42,
    "start_time": "2022-04-02T15:08:51.991Z"
   },
   {
    "duration": 11,
    "start_time": "2022-04-02T15:08:52.035Z"
   },
   {
    "duration": 21,
    "start_time": "2022-04-02T15:08:52.048Z"
   },
   {
    "duration": 88,
    "start_time": "2022-04-02T15:08:52.071Z"
   },
   {
    "duration": 146,
    "start_time": "2022-04-02T15:08:52.161Z"
   },
   {
    "duration": 30,
    "start_time": "2022-04-02T15:08:52.308Z"
   },
   {
    "duration": 3,
    "start_time": "2022-04-02T15:08:52.340Z"
   },
   {
    "duration": 9,
    "start_time": "2022-04-02T15:08:52.345Z"
   },
   {
    "duration": 16,
    "start_time": "2022-04-02T15:08:52.355Z"
   },
   {
    "duration": 5,
    "start_time": "2022-04-02T15:08:52.373Z"
   },
   {
    "duration": 302,
    "start_time": "2022-04-02T15:08:52.380Z"
   },
   {
    "duration": 19,
    "start_time": "2022-04-02T15:08:52.684Z"
   },
   {
    "duration": 6,
    "start_time": "2022-04-02T15:08:52.705Z"
   },
   {
    "duration": 15,
    "start_time": "2022-04-02T15:08:52.732Z"
   },
   {
    "duration": 5,
    "start_time": "2022-04-02T15:08:52.749Z"
   },
   {
    "duration": 4,
    "start_time": "2022-04-02T15:08:52.756Z"
   },
   {
    "duration": 96,
    "start_time": "2022-04-02T15:08:52.762Z"
   },
   {
    "duration": 149,
    "start_time": "2022-04-02T15:08:52.861Z"
   },
   {
    "duration": 36,
    "start_time": "2022-04-02T15:08:53.012Z"
   },
   {
    "duration": 162,
    "start_time": "2022-04-02T15:08:53.050Z"
   },
   {
    "duration": 27,
    "start_time": "2022-04-02T15:08:53.214Z"
   },
   {
    "duration": 5,
    "start_time": "2022-04-02T15:08:53.242Z"
   },
   {
    "duration": 54,
    "start_time": "2022-04-02T15:08:53.248Z"
   },
   {
    "duration": 60,
    "start_time": "2022-04-02T15:08:53.304Z"
   },
   {
    "duration": 44,
    "start_time": "2022-04-02T15:08:53.366Z"
   },
   {
    "duration": 21,
    "start_time": "2022-04-02T15:08:53.412Z"
   },
   {
    "duration": 4,
    "start_time": "2022-04-02T15:08:53.435Z"
   },
   {
    "duration": 7,
    "start_time": "2022-04-02T15:08:53.441Z"
   },
   {
    "duration": 8,
    "start_time": "2022-04-02T15:08:53.450Z"
   },
   {
    "duration": 7,
    "start_time": "2022-04-02T15:08:53.460Z"
   },
   {
    "duration": 18,
    "start_time": "2022-04-02T15:08:53.469Z"
   },
   {
    "duration": 85,
    "start_time": "2022-04-02T15:08:53.489Z"
   },
   {
    "duration": 30,
    "start_time": "2022-04-02T15:08:53.577Z"
   },
   {
    "duration": 60,
    "start_time": "2022-04-02T15:08:53.609Z"
   },
   {
    "duration": 73,
    "start_time": "2022-04-02T15:12:04.309Z"
   },
   {
    "duration": 39,
    "start_time": "2022-04-02T15:12:56.160Z"
   },
   {
    "duration": 41,
    "start_time": "2022-04-02T15:14:25.673Z"
   },
   {
    "duration": 39,
    "start_time": "2022-04-02T15:17:55.067Z"
   },
   {
    "duration": 5,
    "start_time": "2022-04-02T15:18:06.214Z"
   },
   {
    "duration": 69,
    "start_time": "2022-04-02T15:18:08.829Z"
   },
   {
    "duration": 1290,
    "start_time": "2022-04-02T15:18:18.269Z"
   },
   {
    "duration": 4,
    "start_time": "2022-04-02T15:18:19.562Z"
   },
   {
    "duration": 274,
    "start_time": "2022-04-02T15:18:19.567Z"
   },
   {
    "duration": 13,
    "start_time": "2022-04-02T15:18:19.844Z"
   },
   {
    "duration": 224,
    "start_time": "2022-04-02T15:18:19.859Z"
   },
   {
    "duration": 50,
    "start_time": "2022-04-02T15:18:20.085Z"
   },
   {
    "duration": 11,
    "start_time": "2022-04-02T15:18:20.137Z"
   },
   {
    "duration": 29,
    "start_time": "2022-04-02T15:18:20.150Z"
   },
   {
    "duration": 7,
    "start_time": "2022-04-02T15:18:20.181Z"
   },
   {
    "duration": 42,
    "start_time": "2022-04-02T15:18:20.191Z"
   },
   {
    "duration": 15,
    "start_time": "2022-04-02T15:18:20.234Z"
   },
   {
    "duration": 10,
    "start_time": "2022-04-02T15:18:20.251Z"
   },
   {
    "duration": 21,
    "start_time": "2022-04-02T15:18:20.263Z"
   },
   {
    "duration": 95,
    "start_time": "2022-04-02T15:18:20.285Z"
   },
   {
    "duration": 142,
    "start_time": "2022-04-02T15:18:20.382Z"
   },
   {
    "duration": 24,
    "start_time": "2022-04-02T15:18:20.526Z"
   },
   {
    "duration": 3,
    "start_time": "2022-04-02T15:18:20.552Z"
   },
   {
    "duration": 10,
    "start_time": "2022-04-02T15:18:20.557Z"
   },
   {
    "duration": 16,
    "start_time": "2022-04-02T15:18:20.568Z"
   },
   {
    "duration": 5,
    "start_time": "2022-04-02T15:18:20.586Z"
   },
   {
    "duration": 293,
    "start_time": "2022-04-02T15:18:20.593Z"
   },
   {
    "duration": 18,
    "start_time": "2022-04-02T15:18:20.888Z"
   },
   {
    "duration": 26,
    "start_time": "2022-04-02T15:18:20.908Z"
   },
   {
    "duration": 13,
    "start_time": "2022-04-02T15:18:20.936Z"
   },
   {
    "duration": 5,
    "start_time": "2022-04-02T15:18:20.951Z"
   },
   {
    "duration": 4,
    "start_time": "2022-04-02T15:18:20.958Z"
   },
   {
    "duration": 91,
    "start_time": "2022-04-02T15:18:20.963Z"
   },
   {
    "duration": 161,
    "start_time": "2022-04-02T15:18:21.057Z"
   },
   {
    "duration": 44,
    "start_time": "2022-04-02T15:18:21.220Z"
   },
   {
    "duration": 200,
    "start_time": "2022-04-02T15:18:21.266Z"
   },
   {
    "duration": 90,
    "start_time": "2022-04-02T15:18:21.468Z"
   },
   {
    "duration": 15,
    "start_time": "2022-04-02T15:18:21.560Z"
   },
   {
    "duration": 5,
    "start_time": "2022-04-02T15:18:21.577Z"
   },
   {
    "duration": 64,
    "start_time": "2022-04-02T15:18:21.584Z"
   },
   {
    "duration": 41,
    "start_time": "2022-04-02T15:18:21.649Z"
   },
   {
    "duration": 53,
    "start_time": "2022-04-02T15:18:21.692Z"
   },
   {
    "duration": 5,
    "start_time": "2022-04-02T15:18:21.747Z"
   },
   {
    "duration": 6,
    "start_time": "2022-04-02T15:18:21.754Z"
   },
   {
    "duration": 9,
    "start_time": "2022-04-02T15:18:21.762Z"
   },
   {
    "duration": 6,
    "start_time": "2022-04-02T15:18:21.773Z"
   },
   {
    "duration": 7,
    "start_time": "2022-04-02T15:18:21.780Z"
   },
   {
    "duration": 45,
    "start_time": "2022-04-02T15:18:21.789Z"
   },
   {
    "duration": 44,
    "start_time": "2022-04-02T15:18:21.836Z"
   },
   {
    "duration": 30,
    "start_time": "2022-04-02T15:18:21.881Z"
   },
   {
    "duration": 56,
    "start_time": "2022-04-02T15:18:21.912Z"
   },
   {
    "duration": 70,
    "start_time": "2022-04-02T15:21:12.797Z"
   },
   {
    "duration": 1256,
    "start_time": "2022-04-02T15:24:27.725Z"
   },
   {
    "duration": 3,
    "start_time": "2022-04-02T15:24:28.983Z"
   },
   {
    "duration": 228,
    "start_time": "2022-04-02T15:24:28.988Z"
   },
   {
    "duration": 14,
    "start_time": "2022-04-02T15:24:29.219Z"
   },
   {
    "duration": 144,
    "start_time": "2022-04-02T15:24:29.235Z"
   },
   {
    "duration": 32,
    "start_time": "2022-04-02T15:24:29.381Z"
   },
   {
    "duration": 11,
    "start_time": "2022-04-02T15:24:29.414Z"
   },
   {
    "duration": 30,
    "start_time": "2022-04-02T15:24:29.427Z"
   },
   {
    "duration": 9,
    "start_time": "2022-04-02T15:24:29.458Z"
   },
   {
    "duration": 9,
    "start_time": "2022-04-02T15:24:29.470Z"
   },
   {
    "duration": 15,
    "start_time": "2022-04-02T15:24:29.481Z"
   },
   {
    "duration": 16,
    "start_time": "2022-04-02T15:24:29.497Z"
   },
   {
    "duration": 34,
    "start_time": "2022-04-02T15:24:29.514Z"
   },
   {
    "duration": 66,
    "start_time": "2022-04-02T15:24:29.550Z"
   },
   {
    "duration": 146,
    "start_time": "2022-04-02T15:24:29.617Z"
   },
   {
    "duration": 20,
    "start_time": "2022-04-02T15:24:29.765Z"
   },
   {
    "duration": 4,
    "start_time": "2022-04-02T15:24:29.787Z"
   },
   {
    "duration": 9,
    "start_time": "2022-04-02T15:24:29.792Z"
   },
   {
    "duration": 19,
    "start_time": "2022-04-02T15:24:29.802Z"
   },
   {
    "duration": 13,
    "start_time": "2022-04-02T15:24:29.823Z"
   },
   {
    "duration": 352,
    "start_time": "2022-04-02T15:24:29.839Z"
   },
   {
    "duration": 18,
    "start_time": "2022-04-02T15:24:30.192Z"
   },
   {
    "duration": 5,
    "start_time": "2022-04-02T15:24:30.212Z"
   },
   {
    "duration": 20,
    "start_time": "2022-04-02T15:24:30.219Z"
   },
   {
    "duration": 14,
    "start_time": "2022-04-02T15:24:30.241Z"
   },
   {
    "duration": 8,
    "start_time": "2022-04-02T15:24:30.257Z"
   },
   {
    "duration": 81,
    "start_time": "2022-04-02T15:24:30.267Z"
   },
   {
    "duration": 853,
    "start_time": "2022-04-02T15:24:30.352Z"
   },
   {
    "duration": 32,
    "start_time": "2022-04-02T15:24:31.206Z"
   },
   {
    "duration": 96,
    "start_time": "2022-04-02T15:24:31.240Z"
   },
   {
    "duration": 12,
    "start_time": "2022-04-02T15:24:31.337Z"
   },
   {
    "duration": 5,
    "start_time": "2022-04-02T15:24:31.350Z"
   },
   {
    "duration": 41,
    "start_time": "2022-04-02T15:24:31.356Z"
   },
   {
    "duration": 49,
    "start_time": "2022-04-02T15:24:31.399Z"
   },
   {
    "duration": 40,
    "start_time": "2022-04-02T15:24:31.449Z"
   },
   {
    "duration": 4,
    "start_time": "2022-04-02T15:24:31.491Z"
   },
   {
    "duration": 8,
    "start_time": "2022-04-02T15:24:31.497Z"
   },
   {
    "duration": 5,
    "start_time": "2022-04-02T15:24:31.506Z"
   },
   {
    "duration": 7,
    "start_time": "2022-04-02T15:24:31.513Z"
   },
   {
    "duration": 6,
    "start_time": "2022-04-02T15:24:31.521Z"
   },
   {
    "duration": 16,
    "start_time": "2022-04-02T15:24:31.529Z"
   },
   {
    "duration": 44,
    "start_time": "2022-04-02T15:24:31.547Z"
   },
   {
    "duration": 29,
    "start_time": "2022-04-02T15:24:31.592Z"
   },
   {
    "duration": 44,
    "start_time": "2022-04-02T15:24:31.623Z"
   },
   {
    "duration": 1780,
    "start_time": "2022-04-03T10:33:34.606Z"
   },
   {
    "duration": 5,
    "start_time": "2022-04-03T10:33:36.389Z"
   },
   {
    "duration": 274,
    "start_time": "2022-04-03T10:33:36.396Z"
   },
   {
    "duration": 13,
    "start_time": "2022-04-03T10:33:36.674Z"
   },
   {
    "duration": 214,
    "start_time": "2022-04-03T10:33:36.689Z"
   },
   {
    "duration": 42,
    "start_time": "2022-04-03T10:33:36.906Z"
   },
   {
    "duration": 36,
    "start_time": "2022-04-03T10:33:36.950Z"
   },
   {
    "duration": 34,
    "start_time": "2022-04-03T10:33:36.988Z"
   },
   {
    "duration": 11,
    "start_time": "2022-04-03T10:33:37.025Z"
   },
   {
    "duration": 12,
    "start_time": "2022-04-03T10:33:37.092Z"
   },
   {
    "duration": 16,
    "start_time": "2022-04-03T10:33:37.106Z"
   },
   {
    "duration": 19,
    "start_time": "2022-04-03T10:33:37.124Z"
   },
   {
    "duration": 64,
    "start_time": "2022-04-03T10:33:37.145Z"
   },
   {
    "duration": 113,
    "start_time": "2022-04-03T10:33:37.211Z"
   },
   {
    "duration": 201,
    "start_time": "2022-04-03T10:33:37.326Z"
   },
   {
    "duration": 26,
    "start_time": "2022-04-03T10:33:37.529Z"
   },
   {
    "duration": 22,
    "start_time": "2022-04-03T10:33:37.558Z"
   },
   {
    "duration": 20,
    "start_time": "2022-04-03T10:33:37.583Z"
   },
   {
    "duration": 22,
    "start_time": "2022-04-03T10:33:37.606Z"
   },
   {
    "duration": 8,
    "start_time": "2022-04-03T10:33:37.630Z"
   },
   {
    "duration": 490,
    "start_time": "2022-04-03T10:33:37.640Z"
   },
   {
    "duration": 26,
    "start_time": "2022-04-03T10:33:38.132Z"
   },
   {
    "duration": 22,
    "start_time": "2022-04-03T10:33:38.159Z"
   },
   {
    "duration": 37,
    "start_time": "2022-04-03T10:33:38.184Z"
   },
   {
    "duration": 21,
    "start_time": "2022-04-03T10:33:38.223Z"
   },
   {
    "duration": 14,
    "start_time": "2022-04-03T10:33:38.247Z"
   },
   {
    "duration": 110,
    "start_time": "2022-04-03T10:33:38.263Z"
   },
   {
    "duration": 272,
    "start_time": "2022-04-03T10:33:38.379Z"
   },
   {
    "duration": 46,
    "start_time": "2022-04-03T10:33:38.654Z"
   },
   {
    "duration": 224,
    "start_time": "2022-04-03T10:33:38.702Z"
   },
   {
    "duration": 18,
    "start_time": "2022-04-03T10:33:38.928Z"
   },
   {
    "duration": 35,
    "start_time": "2022-04-03T10:33:38.949Z"
   },
   {
    "duration": 64,
    "start_time": "2022-04-03T10:33:38.988Z"
   },
   {
    "duration": 65,
    "start_time": "2022-04-03T10:33:39.054Z"
   },
   {
    "duration": 73,
    "start_time": "2022-04-03T10:33:39.122Z"
   },
   {
    "duration": 7,
    "start_time": "2022-04-03T10:33:39.198Z"
   },
   {
    "duration": 24,
    "start_time": "2022-04-03T10:33:39.207Z"
   },
   {
    "duration": 13,
    "start_time": "2022-04-03T10:33:39.233Z"
   },
   {
    "duration": 51,
    "start_time": "2022-04-03T10:33:39.248Z"
   },
   {
    "duration": 12,
    "start_time": "2022-04-03T10:33:39.301Z"
   },
   {
    "duration": 26,
    "start_time": "2022-04-03T10:33:39.315Z"
   },
   {
    "duration": 69,
    "start_time": "2022-04-03T10:33:39.343Z"
   },
   {
    "duration": 46,
    "start_time": "2022-04-03T10:33:39.414Z"
   },
   {
    "duration": 64,
    "start_time": "2022-04-03T10:33:39.473Z"
   },
   {
    "duration": 1630,
    "start_time": "2022-04-03T11:06:44.910Z"
   },
   {
    "duration": 5,
    "start_time": "2022-04-03T11:06:46.542Z"
   },
   {
    "duration": 284,
    "start_time": "2022-04-03T11:06:46.549Z"
   },
   {
    "duration": 13,
    "start_time": "2022-04-03T11:06:46.836Z"
   },
   {
    "duration": 236,
    "start_time": "2022-04-03T11:06:46.852Z"
   },
   {
    "duration": 59,
    "start_time": "2022-04-03T11:06:47.091Z"
   },
   {
    "duration": 18,
    "start_time": "2022-04-03T11:06:47.173Z"
   },
   {
    "duration": 54,
    "start_time": "2022-04-03T11:06:47.193Z"
   },
   {
    "duration": 37,
    "start_time": "2022-04-03T11:06:47.249Z"
   },
   {
    "duration": 13,
    "start_time": "2022-04-03T11:06:47.292Z"
   },
   {
    "duration": 27,
    "start_time": "2022-04-03T11:06:47.308Z"
   },
   {
    "duration": 13,
    "start_time": "2022-04-03T11:06:47.337Z"
   },
   {
    "duration": 50,
    "start_time": "2022-04-03T11:06:47.374Z"
   },
   {
    "duration": 132,
    "start_time": "2022-04-03T11:06:47.427Z"
   },
   {
    "duration": 229,
    "start_time": "2022-04-03T11:06:47.562Z"
   },
   {
    "duration": 35,
    "start_time": "2022-04-03T11:06:47.794Z"
   },
   {
    "duration": 5,
    "start_time": "2022-04-03T11:06:47.831Z"
   },
   {
    "duration": 11,
    "start_time": "2022-04-03T11:06:47.838Z"
   },
   {
    "duration": 34,
    "start_time": "2022-04-03T11:06:47.888Z"
   },
   {
    "duration": 10,
    "start_time": "2022-04-03T11:06:47.924Z"
   },
   {
    "duration": 597,
    "start_time": "2022-04-03T11:06:47.937Z"
   },
   {
    "duration": 28,
    "start_time": "2022-04-03T11:06:48.537Z"
   },
   {
    "duration": 12,
    "start_time": "2022-04-03T11:06:48.574Z"
   },
   {
    "duration": 49,
    "start_time": "2022-04-03T11:06:48.590Z"
   },
   {
    "duration": 7,
    "start_time": "2022-04-03T11:06:48.641Z"
   },
   {
    "duration": 6,
    "start_time": "2022-04-03T11:06:48.651Z"
   },
   {
    "duration": 138,
    "start_time": "2022-04-03T11:06:48.659Z"
   },
   {
    "duration": 293,
    "start_time": "2022-04-03T11:06:48.803Z"
   },
   {
    "duration": 99,
    "start_time": "2022-04-03T11:06:49.099Z"
   },
   {
    "duration": 258,
    "start_time": "2022-04-03T11:06:49.200Z"
   },
   {
    "duration": 22,
    "start_time": "2022-04-03T11:06:49.461Z"
   },
   {
    "duration": 35,
    "start_time": "2022-04-03T11:06:49.485Z"
   },
   {
    "duration": 58,
    "start_time": "2022-04-03T11:06:49.522Z"
   },
   {
    "duration": 65,
    "start_time": "2022-04-03T11:06:49.583Z"
   },
   {
    "duration": 87,
    "start_time": "2022-04-03T11:06:49.649Z"
   },
   {
    "duration": 7,
    "start_time": "2022-04-03T11:06:49.738Z"
   },
   {
    "duration": 29,
    "start_time": "2022-04-03T11:06:49.748Z"
   },
   {
    "duration": 9,
    "start_time": "2022-04-03T11:06:49.779Z"
   },
   {
    "duration": 30,
    "start_time": "2022-04-03T11:06:49.791Z"
   },
   {
    "duration": 10,
    "start_time": "2022-04-03T11:06:49.823Z"
   },
   {
    "duration": 24,
    "start_time": "2022-04-03T11:06:49.834Z"
   },
   {
    "duration": 75,
    "start_time": "2022-04-03T11:06:49.873Z"
   },
   {
    "duration": 79,
    "start_time": "2022-04-03T11:06:49.950Z"
   },
   {
    "duration": 91,
    "start_time": "2022-04-03T11:06:50.031Z"
   }
  ],
  "kernelspec": {
   "display_name": "Python 3 (ipykernel)",
   "language": "python",
   "name": "python3"
  },
  "language_info": {
   "codemirror_mode": {
    "name": "ipython",
    "version": 3
   },
   "file_extension": ".py",
   "mimetype": "text/x-python",
   "name": "python",
   "nbconvert_exporter": "python",
   "pygments_lexer": "ipython3",
   "version": "3.11.4"
  },
  "toc": {
   "base_numbering": 1,
   "nav_menu": {},
   "number_sections": true,
   "sideBar": true,
   "skip_h1_title": false,
   "title_cell": "Table of Contents",
   "title_sidebar": "Contents",
   "toc_cell": false,
   "toc_position": {
    "height": "calc(100% - 180px)",
    "left": "10px",
    "top": "150px",
    "width": "382.969px"
   },
   "toc_section_display": true,
   "toc_window_display": true
  }
 },
 "nbformat": 4,
 "nbformat_minor": 5
}
