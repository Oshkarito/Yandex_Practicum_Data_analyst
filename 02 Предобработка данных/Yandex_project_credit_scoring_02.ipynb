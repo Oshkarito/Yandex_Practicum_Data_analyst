{
 "cells": [
  {
   "attachments": {},
   "cell_type": "markdown",
   "id": "236690f9",
   "metadata": {
    "deletable": false,
    "editable": false,
    "id": "c81daeeb"
   },
   "source": [
    "# Исследование надежности заемщиков\n"
   ]
  },
  {
   "attachments": {},
   "cell_type": "markdown",
   "id": "1b053c40",
   "metadata": {
    "deletable": false,
    "editable": false,
    "id": "827c20bf"
   },
   "source": [
    "Во второй части проекта вы выполните шаги 3 и 4. Их вручную проверит ревьюер.\n",
    "Чтобы вам не пришлось писать код заново для шагов 1 и 2, мы добавили авторские решения в ячейки с кодом. \n",
    "\n"
   ]
  },
  {
   "attachments": {},
   "cell_type": "markdown",
   "id": "8e331a87",
   "metadata": {
    "deletable": false,
    "editable": false,
    "id": "744d7639"
   },
   "source": [
    "## Откройте таблицу и изучите общую информацию о данных"
   ]
  },
  {
   "attachments": {},
   "cell_type": "markdown",
   "id": "86e4cd61",
   "metadata": {
    "deletable": false,
    "editable": false,
    "id": "e7a14c31"
   },
   "source": [
    "**Задание 1. Импортируйте библиотеку pandas. Считайте данные из csv-файла в датафрейм и сохраните в переменную `data`. Путь к файлу:**\n",
    "\n",
    "`/datasets/data.csv`"
   ]
  },
  {
   "cell_type": "code",
   "execution_count": 1,
   "id": "fdd1effa",
   "metadata": {
    "deletable": false,
    "id": "7bcf75c9"
   },
   "outputs": [],
   "source": [
    "import pandas as pd\n",
    "\n",
    "try:\n",
    "    data = pd.read_csv('/datasets/data.csv')\n",
    "except:\n",
    "    data = pd.read_csv('https://code.s3.yandex.net/datasets/data.csv')"
   ]
  },
  {
   "attachments": {},
   "cell_type": "markdown",
   "id": "98ca0837",
   "metadata": {
    "deletable": false,
    "editable": false,
    "id": "b8038fe3"
   },
   "source": [
    "**Задание 2. Выведите первые 20 строчек датафрейма `data` на экран.**"
   ]
  },
  {
   "cell_type": "code",
   "execution_count": 2,
   "id": "7d2c1d24",
   "metadata": {
    "deletable": false,
    "id": "2a7cab99",
    "outputId": "1a8f3ef2-d323-4ec2-ddf7-89670b5944c4"
   },
   "outputs": [
    {
     "data": {
      "text/html": [
       "<div>\n",
       "<style scoped>\n",
       "    .dataframe tbody tr th:only-of-type {\n",
       "        vertical-align: middle;\n",
       "    }\n",
       "\n",
       "    .dataframe tbody tr th {\n",
       "        vertical-align: top;\n",
       "    }\n",
       "\n",
       "    .dataframe thead th {\n",
       "        text-align: right;\n",
       "    }\n",
       "</style>\n",
       "<table border=\"1\" class=\"dataframe\">\n",
       "  <thead>\n",
       "    <tr style=\"text-align: right;\">\n",
       "      <th></th>\n",
       "      <th>children</th>\n",
       "      <th>days_employed</th>\n",
       "      <th>dob_years</th>\n",
       "      <th>education</th>\n",
       "      <th>education_id</th>\n",
       "      <th>family_status</th>\n",
       "      <th>family_status_id</th>\n",
       "      <th>gender</th>\n",
       "      <th>income_type</th>\n",
       "      <th>debt</th>\n",
       "      <th>total_income</th>\n",
       "      <th>purpose</th>\n",
       "    </tr>\n",
       "  </thead>\n",
       "  <tbody>\n",
       "    <tr>\n",
       "      <th>0</th>\n",
       "      <td>1</td>\n",
       "      <td>-8437.673028</td>\n",
       "      <td>42</td>\n",
       "      <td>высшее</td>\n",
       "      <td>0</td>\n",
       "      <td>женат / замужем</td>\n",
       "      <td>0</td>\n",
       "      <td>F</td>\n",
       "      <td>сотрудник</td>\n",
       "      <td>0</td>\n",
       "      <td>253875.639453</td>\n",
       "      <td>покупка жилья</td>\n",
       "    </tr>\n",
       "    <tr>\n",
       "      <th>1</th>\n",
       "      <td>1</td>\n",
       "      <td>-4024.803754</td>\n",
       "      <td>36</td>\n",
       "      <td>среднее</td>\n",
       "      <td>1</td>\n",
       "      <td>женат / замужем</td>\n",
       "      <td>0</td>\n",
       "      <td>F</td>\n",
       "      <td>сотрудник</td>\n",
       "      <td>0</td>\n",
       "      <td>112080.014102</td>\n",
       "      <td>приобретение автомобиля</td>\n",
       "    </tr>\n",
       "    <tr>\n",
       "      <th>2</th>\n",
       "      <td>0</td>\n",
       "      <td>-5623.422610</td>\n",
       "      <td>33</td>\n",
       "      <td>Среднее</td>\n",
       "      <td>1</td>\n",
       "      <td>женат / замужем</td>\n",
       "      <td>0</td>\n",
       "      <td>M</td>\n",
       "      <td>сотрудник</td>\n",
       "      <td>0</td>\n",
       "      <td>145885.952297</td>\n",
       "      <td>покупка жилья</td>\n",
       "    </tr>\n",
       "    <tr>\n",
       "      <th>3</th>\n",
       "      <td>3</td>\n",
       "      <td>-4124.747207</td>\n",
       "      <td>32</td>\n",
       "      <td>среднее</td>\n",
       "      <td>1</td>\n",
       "      <td>женат / замужем</td>\n",
       "      <td>0</td>\n",
       "      <td>M</td>\n",
       "      <td>сотрудник</td>\n",
       "      <td>0</td>\n",
       "      <td>267628.550329</td>\n",
       "      <td>дополнительное образование</td>\n",
       "    </tr>\n",
       "    <tr>\n",
       "      <th>4</th>\n",
       "      <td>0</td>\n",
       "      <td>340266.072047</td>\n",
       "      <td>53</td>\n",
       "      <td>среднее</td>\n",
       "      <td>1</td>\n",
       "      <td>гражданский брак</td>\n",
       "      <td>1</td>\n",
       "      <td>F</td>\n",
       "      <td>пенсионер</td>\n",
       "      <td>0</td>\n",
       "      <td>158616.077870</td>\n",
       "      <td>сыграть свадьбу</td>\n",
       "    </tr>\n",
       "    <tr>\n",
       "      <th>5</th>\n",
       "      <td>0</td>\n",
       "      <td>-926.185831</td>\n",
       "      <td>27</td>\n",
       "      <td>высшее</td>\n",
       "      <td>0</td>\n",
       "      <td>гражданский брак</td>\n",
       "      <td>1</td>\n",
       "      <td>M</td>\n",
       "      <td>компаньон</td>\n",
       "      <td>0</td>\n",
       "      <td>255763.565419</td>\n",
       "      <td>покупка жилья</td>\n",
       "    </tr>\n",
       "    <tr>\n",
       "      <th>6</th>\n",
       "      <td>0</td>\n",
       "      <td>-2879.202052</td>\n",
       "      <td>43</td>\n",
       "      <td>высшее</td>\n",
       "      <td>0</td>\n",
       "      <td>женат / замужем</td>\n",
       "      <td>0</td>\n",
       "      <td>F</td>\n",
       "      <td>компаньон</td>\n",
       "      <td>0</td>\n",
       "      <td>240525.971920</td>\n",
       "      <td>операции с жильем</td>\n",
       "    </tr>\n",
       "    <tr>\n",
       "      <th>7</th>\n",
       "      <td>0</td>\n",
       "      <td>-152.779569</td>\n",
       "      <td>50</td>\n",
       "      <td>СРЕДНЕЕ</td>\n",
       "      <td>1</td>\n",
       "      <td>женат / замужем</td>\n",
       "      <td>0</td>\n",
       "      <td>M</td>\n",
       "      <td>сотрудник</td>\n",
       "      <td>0</td>\n",
       "      <td>135823.934197</td>\n",
       "      <td>образование</td>\n",
       "    </tr>\n",
       "    <tr>\n",
       "      <th>8</th>\n",
       "      <td>2</td>\n",
       "      <td>-6929.865299</td>\n",
       "      <td>35</td>\n",
       "      <td>ВЫСШЕЕ</td>\n",
       "      <td>0</td>\n",
       "      <td>гражданский брак</td>\n",
       "      <td>1</td>\n",
       "      <td>F</td>\n",
       "      <td>сотрудник</td>\n",
       "      <td>0</td>\n",
       "      <td>95856.832424</td>\n",
       "      <td>на проведение свадьбы</td>\n",
       "    </tr>\n",
       "    <tr>\n",
       "      <th>9</th>\n",
       "      <td>0</td>\n",
       "      <td>-2188.756445</td>\n",
       "      <td>41</td>\n",
       "      <td>среднее</td>\n",
       "      <td>1</td>\n",
       "      <td>женат / замужем</td>\n",
       "      <td>0</td>\n",
       "      <td>M</td>\n",
       "      <td>сотрудник</td>\n",
       "      <td>0</td>\n",
       "      <td>144425.938277</td>\n",
       "      <td>покупка жилья для семьи</td>\n",
       "    </tr>\n",
       "    <tr>\n",
       "      <th>10</th>\n",
       "      <td>2</td>\n",
       "      <td>-4171.483647</td>\n",
       "      <td>36</td>\n",
       "      <td>высшее</td>\n",
       "      <td>0</td>\n",
       "      <td>женат / замужем</td>\n",
       "      <td>0</td>\n",
       "      <td>M</td>\n",
       "      <td>компаньон</td>\n",
       "      <td>0</td>\n",
       "      <td>113943.491460</td>\n",
       "      <td>покупка недвижимости</td>\n",
       "    </tr>\n",
       "    <tr>\n",
       "      <th>11</th>\n",
       "      <td>0</td>\n",
       "      <td>-792.701887</td>\n",
       "      <td>40</td>\n",
       "      <td>среднее</td>\n",
       "      <td>1</td>\n",
       "      <td>женат / замужем</td>\n",
       "      <td>0</td>\n",
       "      <td>F</td>\n",
       "      <td>сотрудник</td>\n",
       "      <td>0</td>\n",
       "      <td>77069.234271</td>\n",
       "      <td>покупка коммерческой недвижимости</td>\n",
       "    </tr>\n",
       "    <tr>\n",
       "      <th>12</th>\n",
       "      <td>0</td>\n",
       "      <td>NaN</td>\n",
       "      <td>65</td>\n",
       "      <td>среднее</td>\n",
       "      <td>1</td>\n",
       "      <td>гражданский брак</td>\n",
       "      <td>1</td>\n",
       "      <td>M</td>\n",
       "      <td>пенсионер</td>\n",
       "      <td>0</td>\n",
       "      <td>NaN</td>\n",
       "      <td>сыграть свадьбу</td>\n",
       "    </tr>\n",
       "    <tr>\n",
       "      <th>13</th>\n",
       "      <td>0</td>\n",
       "      <td>-1846.641941</td>\n",
       "      <td>54</td>\n",
       "      <td>неоконченное высшее</td>\n",
       "      <td>2</td>\n",
       "      <td>женат / замужем</td>\n",
       "      <td>0</td>\n",
       "      <td>F</td>\n",
       "      <td>сотрудник</td>\n",
       "      <td>0</td>\n",
       "      <td>130458.228857</td>\n",
       "      <td>приобретение автомобиля</td>\n",
       "    </tr>\n",
       "    <tr>\n",
       "      <th>14</th>\n",
       "      <td>0</td>\n",
       "      <td>-1844.956182</td>\n",
       "      <td>56</td>\n",
       "      <td>высшее</td>\n",
       "      <td>0</td>\n",
       "      <td>гражданский брак</td>\n",
       "      <td>1</td>\n",
       "      <td>F</td>\n",
       "      <td>компаньон</td>\n",
       "      <td>1</td>\n",
       "      <td>165127.911772</td>\n",
       "      <td>покупка жилой недвижимости</td>\n",
       "    </tr>\n",
       "    <tr>\n",
       "      <th>15</th>\n",
       "      <td>1</td>\n",
       "      <td>-972.364419</td>\n",
       "      <td>26</td>\n",
       "      <td>среднее</td>\n",
       "      <td>1</td>\n",
       "      <td>женат / замужем</td>\n",
       "      <td>0</td>\n",
       "      <td>F</td>\n",
       "      <td>сотрудник</td>\n",
       "      <td>0</td>\n",
       "      <td>116820.904450</td>\n",
       "      <td>строительство собственной недвижимости</td>\n",
       "    </tr>\n",
       "    <tr>\n",
       "      <th>16</th>\n",
       "      <td>0</td>\n",
       "      <td>-1719.934226</td>\n",
       "      <td>35</td>\n",
       "      <td>среднее</td>\n",
       "      <td>1</td>\n",
       "      <td>женат / замужем</td>\n",
       "      <td>0</td>\n",
       "      <td>F</td>\n",
       "      <td>сотрудник</td>\n",
       "      <td>0</td>\n",
       "      <td>289202.704229</td>\n",
       "      <td>недвижимость</td>\n",
       "    </tr>\n",
       "    <tr>\n",
       "      <th>17</th>\n",
       "      <td>0</td>\n",
       "      <td>-2369.999720</td>\n",
       "      <td>33</td>\n",
       "      <td>высшее</td>\n",
       "      <td>0</td>\n",
       "      <td>гражданский брак</td>\n",
       "      <td>1</td>\n",
       "      <td>M</td>\n",
       "      <td>сотрудник</td>\n",
       "      <td>0</td>\n",
       "      <td>90410.586745</td>\n",
       "      <td>строительство недвижимости</td>\n",
       "    </tr>\n",
       "    <tr>\n",
       "      <th>18</th>\n",
       "      <td>0</td>\n",
       "      <td>400281.136913</td>\n",
       "      <td>53</td>\n",
       "      <td>среднее</td>\n",
       "      <td>1</td>\n",
       "      <td>вдовец / вдова</td>\n",
       "      <td>2</td>\n",
       "      <td>F</td>\n",
       "      <td>пенсионер</td>\n",
       "      <td>0</td>\n",
       "      <td>56823.777243</td>\n",
       "      <td>на покупку подержанного автомобиля</td>\n",
       "    </tr>\n",
       "    <tr>\n",
       "      <th>19</th>\n",
       "      <td>0</td>\n",
       "      <td>-10038.818549</td>\n",
       "      <td>48</td>\n",
       "      <td>СРЕДНЕЕ</td>\n",
       "      <td>1</td>\n",
       "      <td>в разводе</td>\n",
       "      <td>3</td>\n",
       "      <td>F</td>\n",
       "      <td>сотрудник</td>\n",
       "      <td>0</td>\n",
       "      <td>242831.107982</td>\n",
       "      <td>на покупку своего автомобиля</td>\n",
       "    </tr>\n",
       "  </tbody>\n",
       "</table>\n",
       "</div>"
      ],
      "text/plain": [
       "    children  days_employed  dob_years            education  education_id  \\\n",
       "0          1   -8437.673028         42               высшее             0   \n",
       "1          1   -4024.803754         36              среднее             1   \n",
       "2          0   -5623.422610         33              Среднее             1   \n",
       "3          3   -4124.747207         32              среднее             1   \n",
       "4          0  340266.072047         53              среднее             1   \n",
       "5          0    -926.185831         27               высшее             0   \n",
       "6          0   -2879.202052         43               высшее             0   \n",
       "7          0    -152.779569         50              СРЕДНЕЕ             1   \n",
       "8          2   -6929.865299         35               ВЫСШЕЕ             0   \n",
       "9          0   -2188.756445         41              среднее             1   \n",
       "10         2   -4171.483647         36               высшее             0   \n",
       "11         0    -792.701887         40              среднее             1   \n",
       "12         0            NaN         65              среднее             1   \n",
       "13         0   -1846.641941         54  неоконченное высшее             2   \n",
       "14         0   -1844.956182         56               высшее             0   \n",
       "15         1    -972.364419         26              среднее             1   \n",
       "16         0   -1719.934226         35              среднее             1   \n",
       "17         0   -2369.999720         33               высшее             0   \n",
       "18         0  400281.136913         53              среднее             1   \n",
       "19         0  -10038.818549         48              СРЕДНЕЕ             1   \n",
       "\n",
       "       family_status  family_status_id gender income_type  debt  \\\n",
       "0    женат / замужем                 0      F   сотрудник     0   \n",
       "1    женат / замужем                 0      F   сотрудник     0   \n",
       "2    женат / замужем                 0      M   сотрудник     0   \n",
       "3    женат / замужем                 0      M   сотрудник     0   \n",
       "4   гражданский брак                 1      F   пенсионер     0   \n",
       "5   гражданский брак                 1      M   компаньон     0   \n",
       "6    женат / замужем                 0      F   компаньон     0   \n",
       "7    женат / замужем                 0      M   сотрудник     0   \n",
       "8   гражданский брак                 1      F   сотрудник     0   \n",
       "9    женат / замужем                 0      M   сотрудник     0   \n",
       "10   женат / замужем                 0      M   компаньон     0   \n",
       "11   женат / замужем                 0      F   сотрудник     0   \n",
       "12  гражданский брак                 1      M   пенсионер     0   \n",
       "13   женат / замужем                 0      F   сотрудник     0   \n",
       "14  гражданский брак                 1      F   компаньон     1   \n",
       "15   женат / замужем                 0      F   сотрудник     0   \n",
       "16   женат / замужем                 0      F   сотрудник     0   \n",
       "17  гражданский брак                 1      M   сотрудник     0   \n",
       "18    вдовец / вдова                 2      F   пенсионер     0   \n",
       "19         в разводе                 3      F   сотрудник     0   \n",
       "\n",
       "     total_income                                 purpose  \n",
       "0   253875.639453                           покупка жилья  \n",
       "1   112080.014102                 приобретение автомобиля  \n",
       "2   145885.952297                           покупка жилья  \n",
       "3   267628.550329              дополнительное образование  \n",
       "4   158616.077870                         сыграть свадьбу  \n",
       "5   255763.565419                           покупка жилья  \n",
       "6   240525.971920                       операции с жильем  \n",
       "7   135823.934197                             образование  \n",
       "8    95856.832424                   на проведение свадьбы  \n",
       "9   144425.938277                 покупка жилья для семьи  \n",
       "10  113943.491460                    покупка недвижимости  \n",
       "11   77069.234271       покупка коммерческой недвижимости  \n",
       "12            NaN                         сыграть свадьбу  \n",
       "13  130458.228857                 приобретение автомобиля  \n",
       "14  165127.911772              покупка жилой недвижимости  \n",
       "15  116820.904450  строительство собственной недвижимости  \n",
       "16  289202.704229                            недвижимость  \n",
       "17   90410.586745              строительство недвижимости  \n",
       "18   56823.777243      на покупку подержанного автомобиля  \n",
       "19  242831.107982            на покупку своего автомобиля  "
      ]
     },
     "execution_count": 2,
     "metadata": {},
     "output_type": "execute_result"
    }
   ],
   "source": [
    "data.head(20)"
   ]
  },
  {
   "attachments": {},
   "cell_type": "markdown",
   "id": "2514725c",
   "metadata": {
    "deletable": false,
    "editable": false,
    "id": "1c12e233"
   },
   "source": [
    "**Задание 3. Выведите основную информацию о датафрейме с помощью метода `info()`.**"
   ]
  },
  {
   "cell_type": "code",
   "execution_count": 3,
   "id": "1539dd53",
   "metadata": {
    "deletable": false,
    "id": "2b757bca",
    "outputId": "15376089-8dad-46c9-b520-c05248d43158"
   },
   "outputs": [
    {
     "name": "stdout",
     "output_type": "stream",
     "text": [
      "<class 'pandas.core.frame.DataFrame'>\n",
      "RangeIndex: 21525 entries, 0 to 21524\n",
      "Data columns (total 12 columns):\n",
      " #   Column            Non-Null Count  Dtype  \n",
      "---  ------            --------------  -----  \n",
      " 0   children          21525 non-null  int64  \n",
      " 1   days_employed     19351 non-null  float64\n",
      " 2   dob_years         21525 non-null  int64  \n",
      " 3   education         21525 non-null  object \n",
      " 4   education_id      21525 non-null  int64  \n",
      " 5   family_status     21525 non-null  object \n",
      " 6   family_status_id  21525 non-null  int64  \n",
      " 7   gender            21525 non-null  object \n",
      " 8   income_type       21525 non-null  object \n",
      " 9   debt              21525 non-null  int64  \n",
      " 10  total_income      19351 non-null  float64\n",
      " 11  purpose           21525 non-null  object \n",
      "dtypes: float64(2), int64(5), object(5)\n",
      "memory usage: 2.0+ MB\n"
     ]
    }
   ],
   "source": [
    "data.info()"
   ]
  },
  {
   "attachments": {},
   "cell_type": "markdown",
   "id": "990b80e8",
   "metadata": {
    "deletable": false,
    "editable": false,
    "id": "333ec665"
   },
   "source": [
    "## Предобработка данных"
   ]
  },
  {
   "attachments": {},
   "cell_type": "markdown",
   "id": "7e20e9e2",
   "metadata": {
    "deletable": false,
    "editable": false,
    "id": "02d92d53"
   },
   "source": [
    "### Удаление пропусков"
   ]
  },
  {
   "attachments": {},
   "cell_type": "markdown",
   "id": "f1916597",
   "metadata": {
    "deletable": false,
    "editable": false,
    "id": "cd84967c"
   },
   "source": [
    "**Задание 4. Выведите количество пропущенных значений для каждого столбца. Используйте комбинацию двух методов.**"
   ]
  },
  {
   "cell_type": "code",
   "execution_count": 4,
   "id": "c318749a",
   "metadata": {
    "deletable": false,
    "id": "7f9b2309",
    "outputId": "81f4d817-781c-465c-ed15-91ce4446810d"
   },
   "outputs": [
    {
     "data": {
      "text/plain": [
       "children               0\n",
       "days_employed       2174\n",
       "dob_years              0\n",
       "education              0\n",
       "education_id           0\n",
       "family_status          0\n",
       "family_status_id       0\n",
       "gender                 0\n",
       "income_type            0\n",
       "debt                   0\n",
       "total_income        2174\n",
       "purpose                0\n",
       "dtype: int64"
      ]
     },
     "execution_count": 4,
     "metadata": {},
     "output_type": "execute_result"
    }
   ],
   "source": [
    "data.isna().sum()"
   ]
  },
  {
   "attachments": {},
   "cell_type": "markdown",
   "id": "a4a64582",
   "metadata": {
    "deletable": false,
    "editable": false,
    "id": "db86e27b"
   },
   "source": [
    "**Задание 5. В двух столбцах есть пропущенные значения. Один из них — `days_employed`. Пропуски в этом столбце вы обработаете на следующем этапе. Другой столбец с пропущенными значениями — `total_income` — хранит данные о доходах. На сумму дохода сильнее всего влияет тип занятости, поэтому заполнить пропуски в этом столбце нужно медианным значением по каждому типу из столбца `income_type`. Например, у человека с типом занятости `сотрудник` пропуск в столбце `total_income` должен быть заполнен медианным доходом среди всех записей с тем же типом.**"
   ]
  },
  {
   "cell_type": "code",
   "execution_count": 5,
   "id": "3d58b9e5",
   "metadata": {
    "deletable": false,
    "id": "42006a93"
   },
   "outputs": [],
   "source": [
    "for t in data['income_type'].unique():\n",
    "    data.loc[(data['income_type'] == t) & (data['total_income'].isna()), 'total_income'] = \\\n",
    "    data.loc[(data['income_type'] == t), 'total_income'].median()"
   ]
  },
  {
   "attachments": {},
   "cell_type": "markdown",
   "id": "07e1f2e7",
   "metadata": {
    "deletable": false,
    "editable": false,
    "id": "89da5ece"
   },
   "source": [
    "### Обработка аномальных значений"
   ]
  },
  {
   "attachments": {},
   "cell_type": "markdown",
   "id": "8a978f53",
   "metadata": {
    "deletable": false,
    "editable": false,
    "id": "57964554"
   },
   "source": [
    "**Задание 6. В данных могут встречаться артефакты (аномалии) — значения, которые не отражают действительность и появились по какой-то ошибке. таким артефактом будет отрицательное количество дней трудового стажа в столбце `days_employed`. Для реальных данных это нормально. Обработайте значения в этом столбце: замените все отрицательные значения положительными с помощью метода `abs()`.**"
   ]
  },
  {
   "cell_type": "code",
   "execution_count": 6,
   "id": "cc526720",
   "metadata": {
    "deletable": false,
    "id": "f6f055bf"
   },
   "outputs": [],
   "source": [
    "data['days_employed'] = data['days_employed'].abs()"
   ]
  },
  {
   "attachments": {},
   "cell_type": "markdown",
   "id": "0edd30a1",
   "metadata": {
    "deletable": false,
    "editable": false,
    "id": "6107dd2f"
   },
   "source": [
    "**Задание 7. Для каждого типа занятости выведите медианное значение трудового стажа `days_employed` в днях.**"
   ]
  },
  {
   "cell_type": "code",
   "execution_count": 7,
   "id": "98a27e08",
   "metadata": {
    "deletable": false,
    "id": "85a5faf6",
    "outputId": "801ef80e-522b-4668-f34e-565af7432bcf"
   },
   "outputs": [
    {
     "data": {
      "text/plain": [
       "income_type\n",
       "безработный        366413.652744\n",
       "в декрете            3296.759962\n",
       "госслужащий          2689.368353\n",
       "компаньон            1547.382223\n",
       "пенсионер          365213.306266\n",
       "предприниматель       520.848083\n",
       "сотрудник            1574.202821\n",
       "студент               578.751554\n",
       "Name: days_employed, dtype: float64"
      ]
     },
     "execution_count": 7,
     "metadata": {},
     "output_type": "execute_result"
    }
   ],
   "source": [
    "data.groupby('income_type')['days_employed'].agg('median')"
   ]
  },
  {
   "attachments": {},
   "cell_type": "markdown",
   "id": "e7bf6816",
   "metadata": {
    "deletable": false,
    "editable": false,
    "id": "38d1a030"
   },
   "source": [
    "У двух типов (безработные и пенсионеры) получатся аномально большие значения. Исправить такие значения сложно, поэтому оставьте их как есть. Тем более этот столбец не понадобится вам для исследования."
   ]
  },
  {
   "attachments": {},
   "cell_type": "markdown",
   "id": "02082ad4",
   "metadata": {
    "deletable": false,
    "editable": false,
    "id": "d8a9f147"
   },
   "source": [
    "**Задание 8. Выведите перечень уникальных значений столбца `children`.**"
   ]
  },
  {
   "cell_type": "code",
   "execution_count": 8,
   "id": "5a894103",
   "metadata": {
    "deletable": false,
    "id": "ef5056eb",
    "outputId": "6975b15c-7f95-4697-d16d-a0c79b657b03"
   },
   "outputs": [
    {
     "data": {
      "text/plain": [
       "array([ 1,  0,  3,  2, -1,  4, 20,  5])"
      ]
     },
     "execution_count": 8,
     "metadata": {},
     "output_type": "execute_result"
    }
   ],
   "source": [
    "data['children'].unique()"
   ]
  },
  {
   "attachments": {},
   "cell_type": "markdown",
   "id": "bbda683a",
   "metadata": {
    "deletable": false,
    "editable": false,
    "id": "40b9ebf2"
   },
   "source": [
    "**Задание 9. В столбце `children` есть два аномальных значения. Удалите строки, в которых встречаются такие аномальные значения из датафрейма `data`.**"
   ]
  },
  {
   "cell_type": "code",
   "execution_count": 9,
   "id": "6305d623",
   "metadata": {
    "deletable": false,
    "id": "3ff9801d"
   },
   "outputs": [],
   "source": [
    "data = data[(data['children'] != -1) & (data['children'] != 20)]"
   ]
  },
  {
   "attachments": {},
   "cell_type": "markdown",
   "id": "b7dbe066",
   "metadata": {
    "deletable": false,
    "editable": false,
    "id": "bbc4d0ce"
   },
   "source": [
    "**Задание 10. Ещё раз выведите перечень уникальных значений столбца `children`, чтобы убедиться, что артефакты удалены.**"
   ]
  },
  {
   "cell_type": "code",
   "execution_count": 10,
   "id": "ad9a67a3",
   "metadata": {
    "deletable": false,
    "id": "ad4fa8b7",
    "outputId": "b2097101-d49d-44d9-901b-32a65c9463d1"
   },
   "outputs": [
    {
     "data": {
      "text/plain": [
       "array([1, 0, 3, 2, 4, 5])"
      ]
     },
     "execution_count": 10,
     "metadata": {},
     "output_type": "execute_result"
    }
   ],
   "source": [
    "data['children'].unique()"
   ]
  },
  {
   "attachments": {},
   "cell_type": "markdown",
   "id": "c0b20c95",
   "metadata": {
    "deletable": false,
    "editable": false,
    "id": "75440b63"
   },
   "source": [
    "### Удаление пропусков (продолжение)"
   ]
  },
  {
   "attachments": {},
   "cell_type": "markdown",
   "id": "710d0300",
   "metadata": {
    "deletable": false,
    "editable": false,
    "id": "f4ea573f"
   },
   "source": [
    "**Задание 11. Заполните пропуски в столбце `days_employed` медианными значениями по каждого типа занятости `income_type`.**"
   ]
  },
  {
   "cell_type": "code",
   "execution_count": 11,
   "id": "70cf73b7",
   "metadata": {
    "deletable": false,
    "id": "af6b1a7e"
   },
   "outputs": [],
   "source": [
    "for t in data['income_type'].unique():\n",
    "    data.loc[(data['income_type'] == t) & (data['days_employed'].isna()), 'days_employed'] = \\\n",
    "    data.loc[(data['income_type'] == t), 'days_employed'].median()"
   ]
  },
  {
   "attachments": {},
   "cell_type": "markdown",
   "id": "29e55cbd",
   "metadata": {
    "deletable": false,
    "editable": false,
    "id": "2753f40d"
   },
   "source": [
    "**Задание 12. Убедитесь, что все пропуски заполнены. Проверьте себя и ещё раз выведите количество пропущенных значений для каждого столбца с помощью двух методов.**"
   ]
  },
  {
   "cell_type": "code",
   "execution_count": 12,
   "id": "dab20e54",
   "metadata": {
    "deletable": false,
    "id": "55f78bc2",
    "outputId": "8da1e4e1-358e-4e87-98c9-f261bce0a7b2"
   },
   "outputs": [
    {
     "data": {
      "text/plain": [
       "children            0\n",
       "days_employed       0\n",
       "dob_years           0\n",
       "education           0\n",
       "education_id        0\n",
       "family_status       0\n",
       "family_status_id    0\n",
       "gender              0\n",
       "income_type         0\n",
       "debt                0\n",
       "total_income        0\n",
       "purpose             0\n",
       "dtype: int64"
      ]
     },
     "execution_count": 12,
     "metadata": {},
     "output_type": "execute_result"
    }
   ],
   "source": [
    "data.isna().sum()"
   ]
  },
  {
   "attachments": {},
   "cell_type": "markdown",
   "id": "12c840f5",
   "metadata": {
    "deletable": false,
    "editable": false,
    "id": "ddc81e43"
   },
   "source": [
    "### Изменение типов данных"
   ]
  },
  {
   "attachments": {},
   "cell_type": "markdown",
   "id": "89988bbe",
   "metadata": {
    "deletable": false,
    "editable": false,
    "id": "42d19d24"
   },
   "source": [
    "**Задание 13. Замените вещественный тип данных в столбце `total_income` на целочисленный с помощью метода `astype()`.**"
   ]
  },
  {
   "cell_type": "code",
   "execution_count": 13,
   "id": "de50086c",
   "metadata": {
    "deletable": false,
    "id": "920b65ad"
   },
   "outputs": [],
   "source": [
    "data['total_income'] = data['total_income'].astype(int)"
   ]
  },
  {
   "attachments": {},
   "cell_type": "markdown",
   "id": "f0a7ebba",
   "metadata": {
    "deletable": false,
    "editable": false,
    "id": "80c420ba"
   },
   "source": [
    "### Обработка дубликатов"
   ]
  },
  {
   "attachments": {},
   "cell_type": "markdown",
   "id": "d6cb0be1",
   "metadata": {
    "deletable": false,
    "editable": false
   },
   "source": [
    "**Задание 14. Обработайте неявные дубликаты в столбце `education`. В этом столбце есть одни и те же значения, но записанные по-разному: с использованием заглавных и строчных букв. Приведите их к нижнему регистру.**"
   ]
  },
  {
   "cell_type": "code",
   "execution_count": 14,
   "id": "96d34497",
   "metadata": {
    "deletable": false
   },
   "outputs": [],
   "source": [
    "data['education'] = data['education'].str.lower()"
   ]
  },
  {
   "attachments": {},
   "cell_type": "markdown",
   "id": "4d5594db",
   "metadata": {
    "deletable": false,
    "editable": false,
    "id": "dc587695"
   },
   "source": [
    "**Задание 15. Выведите на экран количество строк-дубликатов в данных. Если такие строки присутствуют, удалите их.**"
   ]
  },
  {
   "cell_type": "code",
   "execution_count": 15,
   "id": "8f39d111",
   "metadata": {
    "deletable": false,
    "id": "3ee445e4",
    "outputId": "9684deba-1934-42d1-99e1-cda61740f822"
   },
   "outputs": [
    {
     "data": {
      "text/plain": [
       "71"
      ]
     },
     "execution_count": 15,
     "metadata": {},
     "output_type": "execute_result"
    }
   ],
   "source": [
    "data.duplicated().sum()"
   ]
  },
  {
   "cell_type": "code",
   "execution_count": 16,
   "id": "fe65c408",
   "metadata": {
    "deletable": false,
    "id": "8575fe05"
   },
   "outputs": [],
   "source": [
    "data = data.drop_duplicates()"
   ]
  },
  {
   "attachments": {},
   "cell_type": "markdown",
   "id": "7363e314",
   "metadata": {
    "deletable": false,
    "editable": false,
    "id": "9904cf55"
   },
   "source": [
    "### Категоризация данных"
   ]
  },
  {
   "attachments": {},
   "cell_type": "markdown",
   "id": "f3869046",
   "metadata": {
    "deletable": false,
    "editable": false,
    "id": "72fcc8a2"
   },
   "source": [
    "**Задание 16. На основании диапазонов, указанных ниже, создайте в датафрейме `data` столбец `total_income_category` с категориями:**\n",
    "\n",
    "- 0–30000 — `'E'`;\n",
    "- 30001–50000 — `'D'`;\n",
    "- 50001–200000 — `'C'`;\n",
    "- 200001–1000000 — `'B'`;\n",
    "- 1000001 и выше — `'A'`.\n",
    "\n",
    "\n",
    "**Например, кредитополучателю с доходом 25000 нужно назначить категорию `'E'`, а клиенту, получающему 235000, — `'B'`. Используйте собственную функцию с именем `categorize_income()` и метод `apply()`.**"
   ]
  },
  {
   "cell_type": "code",
   "execution_count": 17,
   "id": "16ec3a94",
   "metadata": {
    "deletable": false,
    "id": "e1771346"
   },
   "outputs": [],
   "source": [
    "def categorize_income(income):\n",
    "    try:\n",
    "        if 0 <= income <= 30000:\n",
    "            return 'E'\n",
    "        elif 30001 <= income <= 50000:\n",
    "            return 'D'\n",
    "        elif 50001 <= income <= 200000:\n",
    "            return 'C'\n",
    "        elif 200001 <= income <= 1000000:\n",
    "            return 'B'\n",
    "        elif income >= 1000001:\n",
    "            return 'A'\n",
    "    except:\n",
    "        pass"
   ]
  },
  {
   "cell_type": "code",
   "execution_count": 18,
   "id": "64bd0133",
   "metadata": {
    "deletable": false,
    "id": "d5f3586d"
   },
   "outputs": [],
   "source": [
    "data['total_income_category'] = data['total_income'].apply(categorize_income)"
   ]
  },
  {
   "attachments": {},
   "cell_type": "markdown",
   "id": "1e07e5c2",
   "metadata": {
    "deletable": false,
    "editable": false,
    "id": "dde49b5c"
   },
   "source": [
    "**Задание 17. Выведите на экран перечень уникальных целей взятия кредита из столбца `purpose`.**"
   ]
  },
  {
   "cell_type": "code",
   "execution_count": 19,
   "id": "4f85b965",
   "metadata": {
    "deletable": false,
    "id": "f67ce9b3",
    "outputId": "673c12d9-7d7e-4ae0-9812-c622c89dd244"
   },
   "outputs": [
    {
     "data": {
      "text/plain": [
       "array(['покупка жилья', 'приобретение автомобиля',\n",
       "       'дополнительное образование', 'сыграть свадьбу',\n",
       "       'операции с жильем', 'образование', 'на проведение свадьбы',\n",
       "       'покупка жилья для семьи', 'покупка недвижимости',\n",
       "       'покупка коммерческой недвижимости', 'покупка жилой недвижимости',\n",
       "       'строительство собственной недвижимости', 'недвижимость',\n",
       "       'строительство недвижимости', 'на покупку подержанного автомобиля',\n",
       "       'на покупку своего автомобиля',\n",
       "       'операции с коммерческой недвижимостью',\n",
       "       'строительство жилой недвижимости', 'жилье',\n",
       "       'операции со своей недвижимостью', 'автомобили',\n",
       "       'заняться образованием', 'сделка с подержанным автомобилем',\n",
       "       'получение образования', 'автомобиль', 'свадьба',\n",
       "       'получение дополнительного образования', 'покупка своего жилья',\n",
       "       'операции с недвижимостью', 'получение высшего образования',\n",
       "       'свой автомобиль', 'сделка с автомобилем',\n",
       "       'профильное образование', 'высшее образование',\n",
       "       'покупка жилья для сдачи', 'на покупку автомобиля', 'ремонт жилью',\n",
       "       'заняться высшим образованием'], dtype=object)"
      ]
     },
     "execution_count": 19,
     "metadata": {},
     "output_type": "execute_result"
    }
   ],
   "source": [
    "data['purpose'].unique()"
   ]
  },
  {
   "attachments": {},
   "cell_type": "markdown",
   "id": "d13a514e",
   "metadata": {
    "deletable": false,
    "editable": false,
    "id": "85d0aef0"
   },
   "source": [
    "**Задание 18. Создайте функцию, которая на основании данных из столбца `purpose` сформирует новый столбец `purpose_category`, в который войдут следующие категории:**\n",
    "\n",
    "- `'операции с автомобилем'`,\n",
    "- `'операции с недвижимостью'`,\n",
    "- `'проведение свадьбы'`,\n",
    "- `'получение образования'`.\n",
    "\n",
    "**Например, если в столбце `purpose` находится подстрока `'на покупку автомобиля'`, то в столбце `purpose_category` должна появиться строка `'операции с автомобилем'`.**\n",
    "\n",
    "**Используйте собственную функцию с именем `categorize_purpose()` и метод `apply()`. Изучите данные в столбце `purpose` и определите, какие подстроки помогут вам правильно определить категорию.**"
   ]
  },
  {
   "cell_type": "code",
   "execution_count": 20,
   "id": "358c65a6",
   "metadata": {
    "deletable": false,
    "id": "e149fab4"
   },
   "outputs": [],
   "source": [
    "def categorize_purpose(row):\n",
    "    try:\n",
    "        if 'автом' in row:\n",
    "            return 'операции с автомобилем'\n",
    "        elif 'жил' in row or 'недвиж' in row:\n",
    "            return 'операции с недвижимостью'\n",
    "        elif 'свад' in row:\n",
    "            return 'проведение свадьбы'\n",
    "        elif 'образов' in row:\n",
    "            return 'получение образования'\n",
    "    except:\n",
    "        return 'нет категории'"
   ]
  },
  {
   "cell_type": "code",
   "execution_count": 21,
   "id": "8cba02b2",
   "metadata": {
    "deletable": false,
    "id": "bf36e69b"
   },
   "outputs": [],
   "source": [
    "data['purpose_category'] = data['purpose'].apply(categorize_purpose)"
   ]
  },
  {
   "attachments": {},
   "cell_type": "markdown",
   "id": "2ef3df87",
   "metadata": {
    "deletable": false,
    "editable": false,
    "id": "09b242bf"
   },
   "source": [
    "### Шаг 3. Исследуйте данные и ответьте на вопросы"
   ]
  },
  {
   "attachments": {},
   "cell_type": "markdown",
   "id": "dd1cd725",
   "metadata": {
    "deletable": false,
    "editable": false,
    "id": "c5d66278"
   },
   "source": [
    "#### 3.1 Есть ли зависимость между количеством детей и возвратом кредита в срок?"
   ]
  },
  {
   "attachments": {},
   "cell_type": "markdown",
   "id": "2d99738a",
   "metadata": {},
   "source": [
    "1.**Создадим таблицу отношений** *Чтобы понять сколько и в каких группах люди не платят вовремя или наоборот.*"
   ]
  },
  {
   "cell_type": "code",
   "execution_count": 22,
   "id": "2568c399",
   "metadata": {
    "deletable": false,
    "id": "2cacfc4a"
   },
   "outputs": [
    {
     "data": {
      "text/plain": [
       "children  debt\n",
       "0         0       13028\n",
       "          1        1063\n",
       "1         0        4364\n",
       "          1         444\n",
       "2         0        1858\n",
       "          1         194\n",
       "3         0         303\n",
       "          1          27\n",
       "4         0          37\n",
       "          1           4\n",
       "5         0           9\n",
       "Name: debt, dtype: int64"
      ]
     },
     "execution_count": 22,
     "metadata": {},
     "output_type": "execute_result"
    }
   ],
   "source": [
    "data.groupby('children')['debt'].value_counts() # Ваш код будет здесь. Вы можете создавать новые ячейки."
   ]
  },
  {
   "attachments": {},
   "cell_type": "markdown",
   "id": "a68da8b9",
   "metadata": {},
   "source": [
    "2.**Создадим функцию подсчета для каждой группы в процентах.** *И посмотрим на результаты*\n",
    "\n",
    "- Функция принимает одну группу  как входной параметр и вычисляет долю значений 1 в столбце 'debt' для этой группы.\n",
    "\n",
    "- Сначала функция считает общее количество строк в группе с помощью метода shape, а затем считает количество строк   со значением 1 с помощью метода sum."
   ]
  },
  {
   "cell_type": "code",
   "execution_count": 23,
   "id": "ac14ac08",
   "metadata": {},
   "outputs": [
    {
     "data": {
      "text/plain": [
       "children\n",
       "0    7.54\n",
       "1    9.23\n",
       "2    9.45\n",
       "3    8.18\n",
       "4    9.76\n",
       "5    0.00\n",
       "Name: debt, dtype: float64"
      ]
     },
     "execution_count": 23,
     "metadata": {},
     "output_type": "execute_result"
    }
   ],
   "source": [
    "def calculate_proportion(group): #create function\n",
    "    total_count = group.shape[0]\n",
    "    ones_count = group.sum()\n",
    "    return ones_count / total_count * 100\n",
    "\n",
    "proportions = data.groupby('children')['debt'].apply(calculate_proportion).round(2)\n",
    "proportions"
   ]
  },
  {
   "attachments": {},
   "cell_type": "markdown",
   "id": "956355ff",
   "metadata": {
    "deletable": false,
    "id": "3a6b99ec"
   },
   "source": [
    "**Вывод:** Есть зависимость между теми у кого нет детей и у кого они в принципе есть, первые гораздо дисциплинированы в большинстве своем,в возвратах кредитов в срок. Между группами которые имеют детей корреляция не очевидна, за исключением группы с тремя детьми, она имеет отличные от других групп имеющих детей показатели.Хотя количественные показатели группы с четырмя детьми и пятью не являются поводом делать выводы(они слишком малы)"
   ]
  },
  {
   "attachments": {},
   "cell_type": "markdown",
   "id": "5a7a8183",
   "metadata": {
    "deletable": false,
    "editable": false,
    "id": "97be82ca"
   },
   "source": [
    "#### 3.2 Есть ли зависимость между семейным положением и возвратом кредита в срок?"
   ]
  },
  {
   "cell_type": "code",
   "execution_count": 24,
   "id": "4df7eadf",
   "metadata": {
    "deletable": false,
    "id": "dc3f7ee8",
    "scrolled": true
   },
   "outputs": [
    {
     "data": {
      "text/plain": [
       "family_status          debt\n",
       "Не женат / не замужем  0        2523\n",
       "                       1         273\n",
       "в разводе              0        1105\n",
       "                       1          84\n",
       "вдовец / вдова         0         888\n",
       "                       1          63\n",
       "гражданский брак       0        3749\n",
       "                       1         385\n",
       "женат / замужем        0       11334\n",
       "                       1         927\n",
       "Name: debt, dtype: int64"
      ]
     },
     "execution_count": 24,
     "metadata": {},
     "output_type": "execute_result"
    }
   ],
   "source": [
    "data.groupby('family_status')['debt'].value_counts() # Ваш код будет здесь. Вы можете создавать новые ячейки."
   ]
  },
  {
   "cell_type": "code",
   "execution_count": 25,
   "id": "efff19a8",
   "metadata": {},
   "outputs": [
    {
     "data": {
      "text/plain": [
       "family_status\n",
       "Не женат / не замужем    9.76\n",
       "в разводе                7.06\n",
       "вдовец / вдова           6.62\n",
       "гражданский брак         9.31\n",
       "женат / замужем          7.56\n",
       "Name: debt, dtype: float64"
      ]
     },
     "execution_count": 25,
     "metadata": {},
     "output_type": "execute_result"
    }
   ],
   "source": [
    "proportions = data.groupby('family_status')['debt'].apply(calculate_proportion).round(2) # работает функция\n",
    "proportions"
   ]
  },
  {
   "attachments": {},
   "cell_type": "markdown",
   "id": "8530b5a4",
   "metadata": {
    "deletable": false,
    "id": "1cef7837"
   },
   "source": [
    "**Вывод:**  Люди категории Не женат / не замужем, а также проживающие в гражданском браке меньше всего стремятся выполнить взятые на себя кредитные обязательства в срок. И зависимость между семейным положением и возвратом кредита в срок, прослеживается. *Возможно нужно брать пример с вдовцов или вдов или это жизненный опыт (потерял жену/мужа, зато деньги в банк заносишь стабильно, а раньше был совсем другим человеком)*"
   ]
  },
  {
   "attachments": {},
   "cell_type": "markdown",
   "id": "9e63fe17",
   "metadata": {
    "deletable": false,
    "editable": false,
    "id": "1e8b2fca"
   },
   "source": [
    "#### 3.3 Есть ли зависимость между уровнем дохода и возвратом кредита в срок?"
   ]
  },
  {
   "cell_type": "code",
   "execution_count": 26,
   "id": "c65d10d8",
   "metadata": {},
   "outputs": [
    {
     "data": {
      "text/plain": [
       "total_income_category  debt\n",
       "A                      0          23\n",
       "                       1           2\n",
       "B                      0        4660\n",
       "                       1         354\n",
       "C                      0       14568\n",
       "                       1        1353\n",
       "D                      0         328\n",
       "                       1          21\n",
       "E                      0          20\n",
       "                       1           2\n",
       "Name: debt, dtype: int64"
      ]
     },
     "execution_count": 26,
     "metadata": {},
     "output_type": "execute_result"
    }
   ],
   "source": [
    "data.groupby('total_income_category')['debt'].value_counts()# Ваш код будет здесь. Вы можете создавать новые ячейки."
   ]
  },
  {
   "cell_type": "code",
   "execution_count": 27,
   "id": "3f1736e8",
   "metadata": {
    "deletable": false,
    "id": "cd7e3720"
   },
   "outputs": [
    {
     "data": {
      "text/plain": [
       "total_income_category\n",
       "A    8.00\n",
       "B    7.06\n",
       "C    8.50\n",
       "D    6.02\n",
       "E    9.09\n",
       "Name: debt, dtype: float64"
      ]
     },
     "execution_count": 27,
     "metadata": {},
     "output_type": "execute_result"
    }
   ],
   "source": [
    "proportions = data.groupby('total_income_category')['debt'].apply(calculate_proportion).round(2) # работает функция\n",
    "proportions"
   ]
  },
  {
   "attachments": {},
   "cell_type": "markdown",
   "id": "83ea4ce4",
   "metadata": {
    "deletable": false,
    "id": "e8593def"
   },
   "source": [
    "**Вывод:** В категориях А и Е мало количественных показателей и выводы делать, наверно не правильно. В трех других с ростом доходов показатели возврата то падают, то возрастают. Думаю что зависимости на данном фрейме нет."
   ]
  },
  {
   "attachments": {},
   "cell_type": "markdown",
   "id": "d6300466",
   "metadata": {
    "deletable": false,
    "editable": false,
    "id": "99ecbd1f"
   },
   "source": [
    "#### 3.4 Как разные цели кредита влияют на его возврат в срок?"
   ]
  },
  {
   "cell_type": "code",
   "execution_count": 28,
   "id": "7d1d0fbb",
   "metadata": {
    "deletable": false,
    "id": "2b687290"
   },
   "outputs": [
    {
     "data": {
      "text/plain": [
       "purpose_category          debt\n",
       "операции с автомобилем    0       3879\n",
       "                          1        400\n",
       "операции с недвижимостью  0       9971\n",
       "                          1        780\n",
       "получение образования     0       3619\n",
       "                          1        369\n",
       "проведение свадьбы        0       2130\n",
       "                          1        183\n",
       "Name: debt, dtype: int64"
      ]
     },
     "execution_count": 28,
     "metadata": {},
     "output_type": "execute_result"
    }
   ],
   "source": [
    "data.groupby('purpose_category')['debt'].value_counts()# Ваш код будет здесь. Вы можете создавать новые ячейки."
   ]
  },
  {
   "cell_type": "code",
   "execution_count": 29,
   "id": "87d8ed78",
   "metadata": {},
   "outputs": [
    {
     "data": {
      "text/plain": [
       "purpose_category\n",
       "операции с автомобилем      9.35\n",
       "операции с недвижимостью    7.26\n",
       "получение образования       9.25\n",
       "проведение свадьбы          7.91\n",
       "Name: debt, dtype: float64"
      ]
     },
     "execution_count": 29,
     "metadata": {},
     "output_type": "execute_result"
    }
   ],
   "source": [
    "proportions = data.groupby('purpose_category')['debt'].apply(calculate_proportion).round(2) # работает функция\n",
    "proportions"
   ]
  },
  {
   "attachments": {},
   "cell_type": "markdown",
   "id": "a4f0e9e5",
   "metadata": {
    "deletable": false,
    "id": "b4bb2ce6"
   },
   "source": [
    "**Вывод:** Разные цели кредита влияют на его возврат в срок, так например операции с автомобилем и получение образования, люди взявшие кредиты на эти цели имеют высокий процент просрочки. Люди же которые берут деньги на операции с недвижимостью более трептно относятся к возврату"
   ]
  },
  {
   "attachments": {},
   "cell_type": "markdown",
   "id": "7fcf6c6d",
   "metadata": {
    "deletable": false,
    "editable": false,
    "id": "09c3ac4c"
   },
   "source": [
    "#### 3.5 Приведите возможные причины появления пропусков в исходных данных."
   ]
  },
  {
   "attachments": {},
   "cell_type": "markdown",
   "id": "cd32242a",
   "metadata": {
    "deletable": false,
    "id": "9da2ceda"
   },
   "source": [
    "*Ответ:*  \n",
    "\n",
    "**Ошибки ввода:** возможно, данные вводились вручную и при этом были допущены опечатки или неточности.\n",
    "\n",
    "**Отсутствие информации:** возможно, некоторые данные не были известны в момент сбора или ввода информации, или не могли быть получены.\n",
    "\n",
    "**Ошибки сбора данных:** неправильное настройка оборудования,  программы, неправильно сформулированных вопросов  при использовании которых можно получить  неправильно собранные данные.\n",
    "\n",
    "*Данные могут быть повреждены в ходе хранения или передачи, что может привести к появлению пропусков.*"
   ]
  },
  {
   "attachments": {},
   "cell_type": "markdown",
   "id": "adcb747a",
   "metadata": {
    "deletable": false,
    "editable": false,
    "id": "7b0487d6"
   },
   "source": [
    "#### 3.6 Объясните, почему заполнить пропуски медианным значением — лучшее решение для количественных переменных."
   ]
  },
  {
   "attachments": {},
   "cell_type": "markdown",
   "id": "331b780f",
   "metadata": {
    "deletable": false,
    "id": "7ecf2b8e"
   },
   "source": [
    "*Ответ:* \n",
    "\n",
    "**Одним из основных преимуществ** использования медианы в качестве способа заполнения пропусков является то, что она не является *чувствительной к выбросам* (т.е. к очень большим или очень маленьким значениям). В то время как среднее значение может быть сильно искажено выбросами, медиана остается *неизменной*."
   ]
  },
  {
   "attachments": {},
   "cell_type": "markdown",
   "id": "fb3fa933",
   "metadata": {
    "deletable": false,
    "editable": false,
    "id": "6db5255a"
   },
   "source": [
    "### Шаг 4: общий вывод."
   ]
  },
  {
   "attachments": {},
   "cell_type": "markdown",
   "id": "fec797ad",
   "metadata": {
    "deletable": false,
    "id": "bad65432"
   },
   "source": [
    "**Общий вывод** Надежность заемщика зависит от семейного положения женат/не женат, вдовец/вдова и т.д , если дети или их нет, а также на какие цели были взяты заемные средства. В тоже время некоторых данных явно не достаточно что бы проводить явные корреляции."
   ]
  }
 ],
 "metadata": {
  "ExecuteTimeLog": [
   {
    "duration": 43,
    "start_time": "2022-12-29T14:39:56.276Z"
   },
   {
    "duration": 587,
    "start_time": "2022-12-29T14:40:01.752Z"
   },
   {
    "duration": 21,
    "start_time": "2022-12-29T14:40:02.341Z"
   },
   {
    "duration": 44,
    "start_time": "2022-12-29T14:40:02.364Z"
   },
   {
    "duration": 60,
    "start_time": "2022-12-29T14:40:02.410Z"
   },
   {
    "duration": 68,
    "start_time": "2022-12-29T14:40:02.472Z"
   },
   {
    "duration": 40,
    "start_time": "2022-12-29T14:40:02.541Z"
   },
   {
    "duration": 38,
    "start_time": "2022-12-29T14:40:02.583Z"
   },
   {
    "duration": 20,
    "start_time": "2022-12-29T14:40:02.623Z"
   },
   {
    "duration": 29,
    "start_time": "2022-12-29T14:40:02.644Z"
   },
   {
    "duration": 29,
    "start_time": "2022-12-29T14:40:02.675Z"
   },
   {
    "duration": 84,
    "start_time": "2022-12-29T14:40:02.706Z"
   },
   {
    "duration": 8,
    "start_time": "2022-12-29T14:40:02.792Z"
   },
   {
    "duration": 43,
    "start_time": "2022-12-29T14:40:02.802Z"
   },
   {
    "duration": 33,
    "start_time": "2022-12-29T14:40:02.847Z"
   },
   {
    "duration": 70,
    "start_time": "2022-12-29T14:40:02.882Z"
   },
   {
    "duration": 40,
    "start_time": "2022-12-29T14:40:02.954Z"
   },
   {
    "duration": 43,
    "start_time": "2022-12-29T14:40:02.995Z"
   },
   {
    "duration": 21,
    "start_time": "2022-12-29T14:40:03.040Z"
   },
   {
    "duration": 14,
    "start_time": "2022-12-29T14:40:03.062Z"
   },
   {
    "duration": 8,
    "start_time": "2022-12-29T14:40:03.078Z"
   },
   {
    "duration": 16,
    "start_time": "2022-12-29T14:40:03.087Z"
   },
   {
    "duration": 8,
    "start_time": "2022-12-29T14:40:03.105Z"
   },
   {
    "duration": 7,
    "start_time": "2022-12-29T14:40:03.114Z"
   },
   {
    "duration": 9,
    "start_time": "2022-12-29T14:40:03.122Z"
   },
   {
    "duration": 16,
    "start_time": "2022-12-29T14:40:03.133Z"
   },
   {
    "duration": 8,
    "start_time": "2022-12-29T14:41:20.650Z"
   },
   {
    "duration": 11,
    "start_time": "2022-12-29T14:47:36.306Z"
   },
   {
    "duration": 9,
    "start_time": "2022-12-29T14:59:24.760Z"
   },
   {
    "duration": 11,
    "start_time": "2022-12-29T15:00:00.189Z"
   },
   {
    "duration": 11,
    "start_time": "2022-12-29T15:12:35.690Z"
   },
   {
    "duration": 9,
    "start_time": "2022-12-29T15:12:50.464Z"
   },
   {
    "duration": 9,
    "start_time": "2022-12-29T16:01:52.206Z"
   },
   {
    "duration": 1045,
    "start_time": "2022-12-29T16:03:11.405Z"
   },
   {
    "duration": 11,
    "start_time": "2022-12-29T16:04:46.233Z"
   },
   {
    "duration": 8,
    "start_time": "2022-12-29T16:06:03.089Z"
   },
   {
    "duration": 8,
    "start_time": "2022-12-29T16:06:52.923Z"
   },
   {
    "duration": 12,
    "start_time": "2022-12-29T16:15:08.478Z"
   },
   {
    "duration": 9,
    "start_time": "2022-12-29T16:36:26.416Z"
   },
   {
    "duration": 11,
    "start_time": "2022-12-29T16:37:05.664Z"
   },
   {
    "duration": 86,
    "start_time": "2022-12-29T16:39:02.160Z"
   },
   {
    "duration": 17,
    "start_time": "2022-12-29T16:39:02.249Z"
   },
   {
    "duration": 33,
    "start_time": "2022-12-29T16:39:02.267Z"
   },
   {
    "duration": 22,
    "start_time": "2022-12-29T16:39:02.302Z"
   },
   {
    "duration": 36,
    "start_time": "2022-12-29T16:39:02.326Z"
   },
   {
    "duration": 3,
    "start_time": "2022-12-29T16:39:02.364Z"
   },
   {
    "duration": 37,
    "start_time": "2022-12-29T16:39:02.368Z"
   },
   {
    "duration": 34,
    "start_time": "2022-12-29T16:39:02.406Z"
   },
   {
    "duration": 24,
    "start_time": "2022-12-29T16:39:02.442Z"
   },
   {
    "duration": 22,
    "start_time": "2022-12-29T16:39:02.468Z"
   },
   {
    "duration": 51,
    "start_time": "2022-12-29T16:39:02.491Z"
   },
   {
    "duration": 9,
    "start_time": "2022-12-29T16:39:02.543Z"
   },
   {
    "duration": 15,
    "start_time": "2022-12-29T16:39:02.553Z"
   },
   {
    "duration": 24,
    "start_time": "2022-12-29T16:39:02.569Z"
   },
   {
    "duration": 25,
    "start_time": "2022-12-29T16:39:02.594Z"
   },
   {
    "duration": 15,
    "start_time": "2022-12-29T16:39:02.622Z"
   },
   {
    "duration": 4,
    "start_time": "2022-12-29T16:39:02.638Z"
   },
   {
    "duration": 51,
    "start_time": "2022-12-29T16:39:02.643Z"
   },
   {
    "duration": 19,
    "start_time": "2022-12-29T16:39:02.697Z"
   },
   {
    "duration": 9,
    "start_time": "2022-12-29T16:39:02.718Z"
   },
   {
    "duration": 27,
    "start_time": "2022-12-29T16:39:02.728Z"
   },
   {
    "duration": 12,
    "start_time": "2022-12-29T16:39:02.757Z"
   },
   {
    "duration": 11,
    "start_time": "2022-12-29T16:39:02.771Z"
   },
   {
    "duration": 15,
    "start_time": "2022-12-29T16:39:02.784Z"
   },
   {
    "duration": 10,
    "start_time": "2022-12-29T16:39:02.801Z"
   },
   {
    "duration": 15,
    "start_time": "2022-12-29T16:39:02.812Z"
   },
   {
    "duration": 13,
    "start_time": "2022-12-29T16:39:02.829Z"
   },
   {
    "duration": 11,
    "start_time": "2022-12-29T16:39:02.845Z"
   },
   {
    "duration": 9,
    "start_time": "2022-12-29T16:39:02.858Z"
   },
   {
    "duration": 400,
    "start_time": "2022-12-29T18:48:42.077Z"
   },
   {
    "duration": 22,
    "start_time": "2022-12-29T18:48:42.479Z"
   },
   {
    "duration": 15,
    "start_time": "2022-12-29T18:48:42.502Z"
   },
   {
    "duration": 8,
    "start_time": "2022-12-29T18:48:42.526Z"
   },
   {
    "duration": 31,
    "start_time": "2022-12-29T18:48:42.536Z"
   },
   {
    "duration": 4,
    "start_time": "2022-12-29T18:48:42.568Z"
   },
   {
    "duration": 11,
    "start_time": "2022-12-29T18:48:42.573Z"
   },
   {
    "duration": 19,
    "start_time": "2022-12-29T18:48:42.586Z"
   },
   {
    "duration": 27,
    "start_time": "2022-12-29T18:48:42.607Z"
   },
   {
    "duration": 11,
    "start_time": "2022-12-29T18:48:42.637Z"
   },
   {
    "duration": 37,
    "start_time": "2022-12-29T18:48:42.650Z"
   },
   {
    "duration": 8,
    "start_time": "2022-12-29T18:48:42.688Z"
   },
   {
    "duration": 34,
    "start_time": "2022-12-29T18:48:42.698Z"
   },
   {
    "duration": 27,
    "start_time": "2022-12-29T18:48:42.733Z"
   },
   {
    "duration": 24,
    "start_time": "2022-12-29T18:48:42.761Z"
   },
   {
    "duration": 16,
    "start_time": "2022-12-29T18:48:42.787Z"
   },
   {
    "duration": 3,
    "start_time": "2022-12-29T18:48:42.805Z"
   },
   {
    "duration": 30,
    "start_time": "2022-12-29T18:48:42.809Z"
   },
   {
    "duration": 19,
    "start_time": "2022-12-29T18:48:42.840Z"
   },
   {
    "duration": 4,
    "start_time": "2022-12-29T18:48:42.860Z"
   },
   {
    "duration": 16,
    "start_time": "2022-12-29T18:48:42.866Z"
   },
   {
    "duration": 7,
    "start_time": "2022-12-29T18:48:42.884Z"
   },
   {
    "duration": 7,
    "start_time": "2022-12-29T18:48:42.892Z"
   },
   {
    "duration": 19,
    "start_time": "2022-12-29T18:48:42.900Z"
   },
   {
    "duration": 10,
    "start_time": "2022-12-29T18:48:42.921Z"
   },
   {
    "duration": 9,
    "start_time": "2022-12-29T18:48:42.933Z"
   },
   {
    "duration": 9,
    "start_time": "2022-12-29T18:48:42.943Z"
   },
   {
    "duration": 13,
    "start_time": "2022-12-29T18:48:42.954Z"
   },
   {
    "duration": 27,
    "start_time": "2022-12-29T18:48:42.969Z"
   },
   {
    "duration": 8,
    "start_time": "2022-12-29T19:06:33.504Z"
   },
   {
    "duration": 463,
    "start_time": "2022-12-29T19:28:28.536Z"
   },
   {
    "duration": 34,
    "start_time": "2022-12-29T19:28:29.001Z"
   },
   {
    "duration": 16,
    "start_time": "2022-12-29T19:28:29.037Z"
   },
   {
    "duration": 14,
    "start_time": "2022-12-29T19:28:29.056Z"
   },
   {
    "duration": 53,
    "start_time": "2022-12-29T19:28:29.073Z"
   },
   {
    "duration": 4,
    "start_time": "2022-12-29T19:28:29.128Z"
   },
   {
    "duration": 17,
    "start_time": "2022-12-29T19:28:29.133Z"
   },
   {
    "duration": 4,
    "start_time": "2022-12-29T19:28:29.153Z"
   },
   {
    "duration": 10,
    "start_time": "2022-12-29T19:28:29.160Z"
   },
   {
    "duration": 5,
    "start_time": "2022-12-29T19:28:29.174Z"
   },
   {
    "duration": 52,
    "start_time": "2022-12-29T19:28:29.180Z"
   },
   {
    "duration": 9,
    "start_time": "2022-12-29T19:28:29.233Z"
   },
   {
    "duration": 17,
    "start_time": "2022-12-29T19:28:29.244Z"
   },
   {
    "duration": 11,
    "start_time": "2022-12-29T19:28:29.263Z"
   },
   {
    "duration": 21,
    "start_time": "2022-12-29T19:28:29.275Z"
   },
   {
    "duration": 31,
    "start_time": "2022-12-29T19:28:29.297Z"
   },
   {
    "duration": 3,
    "start_time": "2022-12-29T19:28:29.330Z"
   },
   {
    "duration": 16,
    "start_time": "2022-12-29T19:28:29.335Z"
   },
   {
    "duration": 10,
    "start_time": "2022-12-29T19:28:29.352Z"
   },
   {
    "duration": 4,
    "start_time": "2022-12-29T19:28:29.364Z"
   },
   {
    "duration": 10,
    "start_time": "2022-12-29T19:28:29.370Z"
   },
   {
    "duration": 10,
    "start_time": "2022-12-29T19:28:29.381Z"
   },
   {
    "duration": 7,
    "start_time": "2022-12-29T19:28:29.392Z"
   },
   {
    "duration": 35,
    "start_time": "2022-12-29T19:28:29.401Z"
   },
   {
    "duration": 12,
    "start_time": "2022-12-29T19:28:29.438Z"
   },
   {
    "duration": 14,
    "start_time": "2022-12-29T19:28:29.452Z"
   },
   {
    "duration": 7,
    "start_time": "2022-12-29T19:28:29.469Z"
   },
   {
    "duration": 23,
    "start_time": "2022-12-29T19:28:29.479Z"
   },
   {
    "duration": 24,
    "start_time": "2022-12-29T19:28:29.503Z"
   },
   {
    "duration": 84,
    "start_time": "2023-01-02T08:44:52.791Z"
   },
   {
    "duration": 74,
    "start_time": "2023-01-02T08:46:22.938Z"
   },
   {
    "duration": 71,
    "start_time": "2023-01-02T08:46:38.567Z"
   },
   {
    "duration": 74,
    "start_time": "2023-01-02T08:47:51.143Z"
   },
   {
    "duration": 74,
    "start_time": "2023-01-02T08:48:12.760Z"
   },
   {
    "duration": 74,
    "start_time": "2023-01-02T08:48:36.099Z"
   },
   {
    "duration": 77,
    "start_time": "2023-01-02T08:50:21.782Z"
   },
   {
    "duration": 74,
    "start_time": "2023-01-02T08:50:43.222Z"
   },
   {
    "duration": 619,
    "start_time": "2023-01-02T08:51:03.224Z"
   },
   {
    "duration": 33,
    "start_time": "2023-01-02T08:51:03.845Z"
   },
   {
    "duration": 23,
    "start_time": "2023-01-02T08:51:03.880Z"
   },
   {
    "duration": 19,
    "start_time": "2023-01-02T08:51:03.906Z"
   },
   {
    "duration": 77,
    "start_time": "2023-01-02T08:51:03.926Z"
   },
   {
    "duration": 5,
    "start_time": "2023-01-02T08:51:04.005Z"
   },
   {
    "duration": 30,
    "start_time": "2023-01-02T08:51:04.012Z"
   },
   {
    "duration": 14,
    "start_time": "2023-01-02T08:51:04.044Z"
   },
   {
    "duration": 23,
    "start_time": "2023-01-02T08:51:04.061Z"
   },
   {
    "duration": 7,
    "start_time": "2023-01-02T08:51:04.088Z"
   },
   {
    "duration": 47,
    "start_time": "2023-01-02T08:51:04.097Z"
   },
   {
    "duration": 14,
    "start_time": "2023-01-02T08:51:04.146Z"
   },
   {
    "duration": 11,
    "start_time": "2023-01-02T08:51:04.163Z"
   },
   {
    "duration": 28,
    "start_time": "2023-01-02T08:51:04.178Z"
   },
   {
    "duration": 34,
    "start_time": "2023-01-02T08:51:04.208Z"
   },
   {
    "duration": 23,
    "start_time": "2023-01-02T08:51:04.254Z"
   },
   {
    "duration": 33,
    "start_time": "2023-01-02T08:51:04.279Z"
   },
   {
    "duration": 48,
    "start_time": "2023-01-02T08:51:04.315Z"
   },
   {
    "duration": 14,
    "start_time": "2023-01-02T08:51:04.365Z"
   },
   {
    "duration": 11,
    "start_time": "2023-01-02T08:51:04.381Z"
   },
   {
    "duration": 24,
    "start_time": "2023-01-02T08:51:04.394Z"
   },
   {
    "duration": 26,
    "start_time": "2023-01-02T08:51:04.420Z"
   },
   {
    "duration": 12,
    "start_time": "2023-01-02T08:51:04.448Z"
   },
   {
    "duration": 32,
    "start_time": "2023-01-02T08:51:04.462Z"
   },
   {
    "duration": 22,
    "start_time": "2023-01-02T08:51:04.496Z"
   },
   {
    "duration": 12,
    "start_time": "2023-01-02T08:51:04.521Z"
   },
   {
    "duration": 18,
    "start_time": "2023-01-02T08:51:04.536Z"
   },
   {
    "duration": 16,
    "start_time": "2023-01-02T08:51:04.557Z"
   },
   {
    "duration": 16,
    "start_time": "2023-01-02T08:51:04.576Z"
   },
   {
    "duration": 74,
    "start_time": "2023-01-02T08:51:04.594Z"
   },
   {
    "duration": 83,
    "start_time": "2023-01-02T08:51:49.135Z"
   },
   {
    "duration": 454,
    "start_time": "2023-01-02T08:54:41.999Z"
   },
   {
    "duration": 24,
    "start_time": "2023-01-02T08:54:42.455Z"
   },
   {
    "duration": 16,
    "start_time": "2023-01-02T08:54:42.481Z"
   },
   {
    "duration": 11,
    "start_time": "2023-01-02T08:54:42.499Z"
   },
   {
    "duration": 64,
    "start_time": "2023-01-02T08:54:42.511Z"
   },
   {
    "duration": 4,
    "start_time": "2023-01-02T08:54:42.577Z"
   },
   {
    "duration": 19,
    "start_time": "2023-01-02T08:54:42.582Z"
   },
   {
    "duration": 4,
    "start_time": "2023-01-02T08:54:42.603Z"
   },
   {
    "duration": 10,
    "start_time": "2023-01-02T08:54:42.609Z"
   },
   {
    "duration": 16,
    "start_time": "2023-01-02T08:54:42.622Z"
   },
   {
    "duration": 44,
    "start_time": "2023-01-02T08:54:42.640Z"
   },
   {
    "duration": 11,
    "start_time": "2023-01-02T08:54:42.686Z"
   },
   {
    "duration": 5,
    "start_time": "2023-01-02T08:54:42.700Z"
   },
   {
    "duration": 15,
    "start_time": "2023-01-02T08:54:42.706Z"
   },
   {
    "duration": 47,
    "start_time": "2023-01-02T08:54:42.722Z"
   },
   {
    "duration": 19,
    "start_time": "2023-01-02T08:54:42.771Z"
   },
   {
    "duration": 5,
    "start_time": "2023-01-02T08:54:42.792Z"
   },
   {
    "duration": 13,
    "start_time": "2023-01-02T08:54:42.799Z"
   },
   {
    "duration": 6,
    "start_time": "2023-01-02T08:54:42.814Z"
   },
   {
    "duration": 31,
    "start_time": "2023-01-02T08:54:42.822Z"
   },
   {
    "duration": 15,
    "start_time": "2023-01-02T08:54:42.855Z"
   },
   {
    "duration": 12,
    "start_time": "2023-01-02T08:54:42.871Z"
   },
   {
    "duration": 10,
    "start_time": "2023-01-02T08:54:42.884Z"
   },
   {
    "duration": 11,
    "start_time": "2023-01-02T08:54:42.896Z"
   },
   {
    "duration": 43,
    "start_time": "2023-01-02T08:54:42.909Z"
   },
   {
    "duration": 10,
    "start_time": "2023-01-02T08:54:42.954Z"
   },
   {
    "duration": 11,
    "start_time": "2023-01-02T08:54:42.966Z"
   },
   {
    "duration": 11,
    "start_time": "2023-01-02T08:54:42.981Z"
   },
   {
    "duration": 10,
    "start_time": "2023-01-02T08:54:42.993Z"
   }
  ],
  "colab": {
   "name": "dpp_template_part2.ipynb",
   "provenance": []
  },
  "kernelspec": {
   "display_name": "Python 3 (ipykernel)",
   "language": "python",
   "name": "python3"
  },
  "language_info": {
   "codemirror_mode": {
    "name": "ipython",
    "version": 3
   },
   "file_extension": ".py",
   "mimetype": "text/x-python",
   "name": "python",
   "nbconvert_exporter": "python",
   "pygments_lexer": "ipython3",
   "version": "3.11.4"
  },
  "toc": {
   "base_numbering": 1,
   "nav_menu": {},
   "number_sections": true,
   "sideBar": true,
   "skip_h1_title": true,
   "title_cell": "Table of Contents",
   "title_sidebar": "Contents",
   "toc_cell": false,
   "toc_position": {},
   "toc_section_display": true,
   "toc_window_display": false
  }
 },
 "nbformat": 4,
 "nbformat_minor": 5
}
