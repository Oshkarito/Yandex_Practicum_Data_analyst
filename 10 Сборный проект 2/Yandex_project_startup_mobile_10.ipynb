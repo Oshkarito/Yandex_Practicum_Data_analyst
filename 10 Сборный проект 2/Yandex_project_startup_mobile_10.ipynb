{
 "cells": [
  {
   "attachments": {},
   "cell_type": "markdown",
   "metadata": {
    "id": "u0YCkdunOG-M"
   },
   "source": [
    "## Описание проекта:\n",
    "Работаем в стартапе, который продаёт продукты питания. Нужно разобраться, как ведут себя пользователи нашего мобильного приложения. \n",
    "1. Изучим воронку продаж. Узнаем, как пользователи доходят до покупки. Сколько пользователей доходит до покупки, а сколько — «застревает» на предыдущих шагах? На каких именно?\n",
    "2. После этого исследуем результаты A/A/B-эксперимента. Дизайнеры захотели поменять шрифты во всём приложении, а менеджеры испугались, что пользователям будет непривычно. Договорились принять решение по результатам A/A/B-теста. Пользователей разбили на 3 группы: 2 контрольные со старыми шрифтами и одну экспериментальную — с новыми. Выясним, какой шрифт лучше.\n",
    "3. Создание двух групп A вместо одной имеет определённые преимущества. Если две контрольные группы окажутся равны, мы можем быть уверены в точности проведенного тестирования. Если же между значениями A и A будут существенные различия, это поможет обнаружить факторы, которые привели к искажению результатов. Сравнение контрольных групп также поможет понять, сколько времени и данных потребуется для дальнейших тестов.\n",
    "\n",
    "В случае общей аналитики и A/A/B-эксперимента работайте с одними и теми же данными. В реальных проектах всегда идут эксперименты. Аналитики исследуют качество работы приложения по общим данным, не учитывая принадлежность пользователей к экспериментам."
   ]
  },
  {
   "attachments": {},
   "cell_type": "markdown",
   "metadata": {
    "id": "jRiFdp8BOG-Q"
   },
   "source": [
    "#### Описание данных:\n",
    "* Каждая запись в логе — это действие пользователя, или событие. \n",
    "* EventName — название события;\n",
    "* DeviceIDHash — уникальный идентификатор пользователя;\n",
    "* EventTimestamp — время события;\n",
    "* ExpId — номер эксперимента: 246 и 247 — контрольные группы, а 248 — экспериментальная.\n"
   ]
  },
  {
   "attachments": {},
   "cell_type": "markdown",
   "metadata": {
    "id": "u7-xJpl1ytHN"
   },
   "source": [
    "## 1. Посмотрим на данные и импортируем нужные библиотеки"
   ]
  },
  {
   "cell_type": "code",
   "execution_count": 1,
   "metadata": {
    "id": "WAEVVLYdOG-Q"
   },
   "outputs": [],
   "source": [
    "import re\n",
    "import pandas as pd\n",
    "import numpy as np\n",
    "import scipy.stats as stats\n",
    "import plotly.express as px # пробуем plotly\n",
    "import plotly.graph_objects as go\n",
    "import plotly.subplots as sp\n",
    "import math\n",
    "from datetime import datetime, timedelta\n",
    "from plotly.subplots import make_subplots\n",
    "from scipy import stats as st"
   ]
  },
  {
   "cell_type": "code",
   "execution_count": 2,
   "metadata": {
    "id": "VYafeqocOG-R"
   },
   "outputs": [],
   "source": [
    "try:\n",
    "    logs = pd.read_csv('/datasets/logs_exp.csv', sep='\\t')\n",
    "except:\n",
    "    logs = pd.read_csv('https://code.s3.yandex.net//datasets/logs_exp.csv', sep='\\t')\n"
   ]
  },
  {
   "cell_type": "code",
   "execution_count": 3,
   "metadata": {
    "colab": {
     "base_uri": "https://localhost:8080/",
     "height": 206
    },
    "id": "f0EDw3G8OtYG",
    "outputId": "1b5690d2-a16e-4c45-9c32-3c283355b05b"
   },
   "outputs": [
    {
     "data": {
      "text/html": [
       "<div>\n",
       "<style scoped>\n",
       "    .dataframe tbody tr th:only-of-type {\n",
       "        vertical-align: middle;\n",
       "    }\n",
       "\n",
       "    .dataframe tbody tr th {\n",
       "        vertical-align: top;\n",
       "    }\n",
       "\n",
       "    .dataframe thead th {\n",
       "        text-align: right;\n",
       "    }\n",
       "</style>\n",
       "<table border=\"1\" class=\"dataframe\">\n",
       "  <thead>\n",
       "    <tr style=\"text-align: right;\">\n",
       "      <th></th>\n",
       "      <th>EventName</th>\n",
       "      <th>DeviceIDHash</th>\n",
       "      <th>EventTimestamp</th>\n",
       "      <th>ExpId</th>\n",
       "    </tr>\n",
       "  </thead>\n",
       "  <tbody>\n",
       "    <tr>\n",
       "      <th>0</th>\n",
       "      <td>MainScreenAppear</td>\n",
       "      <td>4575588528974610257</td>\n",
       "      <td>1564029816</td>\n",
       "      <td>246</td>\n",
       "    </tr>\n",
       "    <tr>\n",
       "      <th>1</th>\n",
       "      <td>MainScreenAppear</td>\n",
       "      <td>7416695313311560658</td>\n",
       "      <td>1564053102</td>\n",
       "      <td>246</td>\n",
       "    </tr>\n",
       "    <tr>\n",
       "      <th>2</th>\n",
       "      <td>PaymentScreenSuccessful</td>\n",
       "      <td>3518123091307005509</td>\n",
       "      <td>1564054127</td>\n",
       "      <td>248</td>\n",
       "    </tr>\n",
       "    <tr>\n",
       "      <th>3</th>\n",
       "      <td>CartScreenAppear</td>\n",
       "      <td>3518123091307005509</td>\n",
       "      <td>1564054127</td>\n",
       "      <td>248</td>\n",
       "    </tr>\n",
       "    <tr>\n",
       "      <th>4</th>\n",
       "      <td>PaymentScreenSuccessful</td>\n",
       "      <td>6217807653094995999</td>\n",
       "      <td>1564055322</td>\n",
       "      <td>248</td>\n",
       "    </tr>\n",
       "  </tbody>\n",
       "</table>\n",
       "</div>"
      ],
      "text/plain": [
       "                 EventName         DeviceIDHash  EventTimestamp  ExpId\n",
       "0         MainScreenAppear  4575588528974610257      1564029816    246\n",
       "1         MainScreenAppear  7416695313311560658      1564053102    246\n",
       "2  PaymentScreenSuccessful  3518123091307005509      1564054127    248\n",
       "3         CartScreenAppear  3518123091307005509      1564054127    248\n",
       "4  PaymentScreenSuccessful  6217807653094995999      1564055322    248"
      ]
     },
     "execution_count": 3,
     "metadata": {},
     "output_type": "execute_result"
    }
   ],
   "source": [
    "logs.head()"
   ]
  },
  {
   "cell_type": "code",
   "execution_count": 4,
   "metadata": {
    "colab": {
     "base_uri": "https://localhost:8080/"
    },
    "id": "7QY-hFndt_70",
    "outputId": "1bcfdc9b-eca6-4b33-eee4-ef599ae46fe8"
   },
   "outputs": [
    {
     "name": "stdout",
     "output_type": "stream",
     "text": [
      "<class 'pandas.core.frame.DataFrame'>\n",
      "RangeIndex: 244126 entries, 0 to 244125\n",
      "Data columns (total 4 columns):\n",
      " #   Column          Non-Null Count   Dtype \n",
      "---  ------          --------------   ----- \n",
      " 0   EventName       244126 non-null  object\n",
      " 1   DeviceIDHash    244126 non-null  int64 \n",
      " 2   EventTimestamp  244126 non-null  int64 \n",
      " 3   ExpId           244126 non-null  int64 \n",
      "dtypes: int64(3), object(1)\n",
      "memory usage: 7.5+ MB\n"
     ]
    }
   ],
   "source": [
    "logs.info()"
   ]
  },
  {
   "attachments": {},
   "cell_type": "markdown",
   "metadata": {
    "id": "I_dHRcIyytHS"
   },
   "source": [
    "Пропусков нет, названия стоблцов не в Python формате, поле EventTimestamp имеет тип int64, а это время."
   ]
  },
  {
   "attachments": {},
   "cell_type": "markdown",
   "metadata": {
    "id": "dOeMOcX1ytHT"
   },
   "source": [
    "## 2. Подготовим данные"
   ]
  },
  {
   "cell_type": "code",
   "execution_count": 5,
   "metadata": {
    "colab": {
     "base_uri": "https://localhost:8080/"
    },
    "id": "p1RUVxjCytHT",
    "outputId": "275b1b32-b608-46ee-8861-9848bbd84cf5"
   },
   "outputs": [
    {
     "data": {
      "text/plain": [
       "413"
      ]
     },
     "execution_count": 5,
     "metadata": {},
     "output_type": "execute_result"
    }
   ],
   "source": [
    "logs.duplicated().sum() # проверим на дублиткаты"
   ]
  },
  {
   "cell_type": "code",
   "execution_count": 6,
   "metadata": {
    "id": "HQlFJv1xytHU"
   },
   "outputs": [],
   "source": [
    "logs = logs.drop_duplicates().reset_index(drop=True) # удаляю явные дубликаты"
   ]
  },
  {
   "cell_type": "code",
   "execution_count": 7,
   "metadata": {
    "colab": {
     "base_uri": "https://localhost:8080/",
     "height": 206
    },
    "id": "3q5pvujruK0C",
    "outputId": "43bba5d3-c27e-45ae-a05c-921606a4b611"
   },
   "outputs": [
    {
     "data": {
      "text/html": [
       "<div>\n",
       "<style scoped>\n",
       "    .dataframe tbody tr th:only-of-type {\n",
       "        vertical-align: middle;\n",
       "    }\n",
       "\n",
       "    .dataframe tbody tr th {\n",
       "        vertical-align: top;\n",
       "    }\n",
       "\n",
       "    .dataframe thead th {\n",
       "        text-align: right;\n",
       "    }\n",
       "</style>\n",
       "<table border=\"1\" class=\"dataframe\">\n",
       "  <thead>\n",
       "    <tr style=\"text-align: right;\">\n",
       "      <th></th>\n",
       "      <th>event_name</th>\n",
       "      <th>device_idhash</th>\n",
       "      <th>event_timestamp</th>\n",
       "      <th>exp_id</th>\n",
       "      <th>date_time</th>\n",
       "      <th>date</th>\n",
       "    </tr>\n",
       "  </thead>\n",
       "  <tbody>\n",
       "    <tr>\n",
       "      <th>0</th>\n",
       "      <td>MainScreenAppear</td>\n",
       "      <td>4575588528974610257</td>\n",
       "      <td>1564029816</td>\n",
       "      <td>246</td>\n",
       "      <td>2019-07-25 04:43:36</td>\n",
       "      <td>2019-07-25</td>\n",
       "    </tr>\n",
       "    <tr>\n",
       "      <th>1</th>\n",
       "      <td>MainScreenAppear</td>\n",
       "      <td>7416695313311560658</td>\n",
       "      <td>1564053102</td>\n",
       "      <td>246</td>\n",
       "      <td>2019-07-25 11:11:42</td>\n",
       "      <td>2019-07-25</td>\n",
       "    </tr>\n",
       "    <tr>\n",
       "      <th>2</th>\n",
       "      <td>PaymentScreenSuccessful</td>\n",
       "      <td>3518123091307005509</td>\n",
       "      <td>1564054127</td>\n",
       "      <td>248</td>\n",
       "      <td>2019-07-25 11:28:47</td>\n",
       "      <td>2019-07-25</td>\n",
       "    </tr>\n",
       "    <tr>\n",
       "      <th>3</th>\n",
       "      <td>CartScreenAppear</td>\n",
       "      <td>3518123091307005509</td>\n",
       "      <td>1564054127</td>\n",
       "      <td>248</td>\n",
       "      <td>2019-07-25 11:28:47</td>\n",
       "      <td>2019-07-25</td>\n",
       "    </tr>\n",
       "    <tr>\n",
       "      <th>4</th>\n",
       "      <td>PaymentScreenSuccessful</td>\n",
       "      <td>6217807653094995999</td>\n",
       "      <td>1564055322</td>\n",
       "      <td>248</td>\n",
       "      <td>2019-07-25 11:48:42</td>\n",
       "      <td>2019-07-25</td>\n",
       "    </tr>\n",
       "  </tbody>\n",
       "</table>\n",
       "</div>"
      ],
      "text/plain": [
       "                event_name        device_idhash  event_timestamp  exp_id  \\\n",
       "0         MainScreenAppear  4575588528974610257       1564029816     246   \n",
       "1         MainScreenAppear  7416695313311560658       1564053102     246   \n",
       "2  PaymentScreenSuccessful  3518123091307005509       1564054127     248   \n",
       "3         CartScreenAppear  3518123091307005509       1564054127     248   \n",
       "4  PaymentScreenSuccessful  6217807653094995999       1564055322     248   \n",
       "\n",
       "            date_time       date  \n",
       "0 2019-07-25 04:43:36 2019-07-25  \n",
       "1 2019-07-25 11:11:42 2019-07-25  \n",
       "2 2019-07-25 11:28:47 2019-07-25  \n",
       "3 2019-07-25 11:28:47 2019-07-25  \n",
       "4 2019-07-25 11:48:42 2019-07-25  "
      ]
     },
     "execution_count": 7,
     "metadata": {},
     "output_type": "execute_result"
    }
   ],
   "source": [
    "logs.columns = (logs.columns.str.replace('(?<=[a-z])(?=[A-Z])', '_', regex=True).str.lower()) # столбцы в snake_case\n",
    "logs['date_time'] = pd.to_datetime(logs['event_timestamp'] , unit='s') # добавляем стобец с датой и временем\n",
    "logs['date'] = pd.to_datetime(logs['date_time']).dt.date # добавляем столбец с датой\n",
    "logs['date'] = pd.to_datetime(logs['date']) # приводим к типу datetime\n",
    "logs.head()"
   ]
  },
  {
   "attachments": {},
   "cell_type": "markdown",
   "metadata": {
    "id": "821OkYa9ytHV"
   },
   "source": [
    "Привёл название столбцов к snake_case, проверил данные на пропуски, добавил столбцы и привел их к формату datetime и удалил явные дубликаты."
   ]
  },
  {
   "attachments": {},
   "cell_type": "markdown",
   "metadata": {
    "id": "Y8SiBIsQytHV"
   },
   "source": [
    "## 3. Изучим и проверим данные"
   ]
  },
  {
   "cell_type": "code",
   "execution_count": 8,
   "metadata": {
    "colab": {
     "base_uri": "https://localhost:8080/"
    },
    "id": "sPyBaLOFytHV",
    "outputId": "8602d353-63a8-46f3-fbb7-9b2d48ab50c7"
   },
   "outputs": [
    {
     "data": {
      "text/plain": [
       "event_name              5\n",
       "device_idhash        7551\n",
       "event_timestamp    176654\n",
       "exp_id                  3\n",
       "date_time          176654\n",
       "date                   14\n",
       "dtype: int64"
      ]
     },
     "execution_count": 8,
     "metadata": {},
     "output_type": "execute_result"
    }
   ],
   "source": [
    "logs.nunique() # уникальные значения по столбцам"
   ]
  },
  {
   "attachments": {},
   "cell_type": "markdown",
   "metadata": {
    "id": "_AGJJlybytHW"
   },
   "source": [
    "* 5 названий события.\n",
    "* 7551 уникальных индинтификаторов пользователй\n",
    "* 3 номера групп эксперимента: 246 и 247 — контрольные группы, а 248 — экспериментальная.\n",
    "* 14 дат в которых проводились наблюдения"
   ]
  },
  {
   "cell_type": "code",
   "execution_count": 9,
   "metadata": {
    "colab": {
     "base_uri": "https://localhost:8080/"
    },
    "id": "8JLCGnl6ytHY",
    "outputId": "998940c8-739a-43e2-8381-7a93bed0101f"
   },
   "outputs": [
    {
     "name": "stdout",
     "output_type": "stream",
     "text": [
      "Всего событий в логе:243713\n"
     ]
    }
   ],
   "source": [
    "print(f\"Всего событий в логе:{logs['event_name'].count()}\")"
   ]
  },
  {
   "cell_type": "code",
   "execution_count": 10,
   "metadata": {
    "colab": {
     "base_uri": "https://localhost:8080/"
    },
    "id": "8Pl0yxNJytHa",
    "outputId": "84158f2d-0f19-49c2-9bba-c42cba00a69e"
   },
   "outputs": [
    {
     "name": "stdout",
     "output_type": "stream",
     "text": [
      "Среднее количество событий на каждого пользователя: 32\n"
     ]
    }
   ],
   "source": [
    "print(f\"Среднее количество событий на каждого пользователя: {round(logs['event_name'].count() / logs['device_idhash'].nunique())}\")"
   ]
  },
  {
   "attachments": {},
   "cell_type": "markdown",
   "metadata": {
    "id": "1lH0iodeytHc"
   },
   "source": [
    "14 дней в которые проводились эксперементы.\n",
    "Найдем начальную дату и конечную"
   ]
  },
  {
   "cell_type": "code",
   "execution_count": 11,
   "metadata": {
    "colab": {
     "base_uri": "https://localhost:8080/"
    },
    "id": "M8lZN7QBytHc",
    "outputId": "cce72444-9bd7-4ce3-d53f-3fefab6d7e3d"
   },
   "outputs": [
    {
     "name": "stdout",
     "output_type": "stream",
     "text": [
      "Минимальная дата наблюдений: 2019-07-25 04:43:36\n",
      "Максимальная дата наблюдений: 2019-08-07 21:15:17\n"
     ]
    }
   ],
   "source": [
    "print(f\"Минимальная дата наблюдений: {logs['date_time'].min()}\")\n",
    "print(f\"Максимальная дата наблюдений: {logs['date_time'].max()}\")"
   ]
  },
  {
   "cell_type": "raw",
   "metadata": {
    "colab": {
     "base_uri": "https://localhost:8080/",
     "height": 517
    },
    "id": "OmkNR9PfytHd",
    "outputId": "64fb0f26-fe40-45d5-f5ca-363755ccf10d"
   },
   "source": [
    "fig = go.Figure(data=[go.Histogram(x=logs['date_time'])])\n",
    "\n",
    "fig.update_layout(\n",
    "    title_text='Распределение времени по датам',\n",
    "    xaxis_title_text='Дата',\n",
    "    font=dict(size=12),\n",
    "    width=800,\n",
    "    height=500\n",
    ")\n",
    "fig.show()"
   ]
  },
  {
   "attachments": {},
   "cell_type": "markdown",
   "metadata": {
    "id": "OCUuUXiRytHe"
   },
   "source": [
    "По графику видно что у вас не одинаково полные данные за весь период, с 25.07.2019 и до 01.08.2019 данные не полные."
   ]
  },
  {
   "cell_type": "code",
   "execution_count": 12,
   "metadata": {
    "colab": {
     "base_uri": "https://localhost:8080/"
    },
    "id": "U9YT9yVqytHe",
    "outputId": "918520d8-70fe-45e3-f668-4619b29df340"
   },
   "outputs": [
    {
     "data": {
      "text/plain": [
       "event_name              5\n",
       "device_idhash        7534\n",
       "event_timestamp    174044\n",
       "exp_id                  3\n",
       "date_time          174044\n",
       "date                    7\n",
       "dtype: int64"
      ]
     },
     "execution_count": 12,
     "metadata": {},
     "output_type": "execute_result"
    }
   ],
   "source": [
    "\n",
    "new_logs = logs.query(\"date > '2019-07-31'\") # Убираю неполные данные\n",
    "new_logs.nunique()\n"
   ]
  },
  {
   "cell_type": "code",
   "execution_count": 13,
   "metadata": {},
   "outputs": [
    {
     "name": "stdout",
     "output_type": "stream",
     "text": [
      "\n",
      " Количество событий после чистки данных: 240887 \n",
      " Количество потеряных событий: 2826 \n",
      " % событий от первоначального: 98.84\n",
      "\n",
      " Количество пользователей после чистки данных: 7534 \n",
      " Количество потеряных пользователей: 17 \n",
      " % пользователей от первоначального: 99.77\n"
     ]
    }
   ],
   "source": [
    "#количество событий\n",
    "print(\n",
    "    '\\n Количество событий после чистки данных:', new_logs.shape[0],\n",
    "    '\\n Количество потеряных событий:', logs.shape[0] - new_logs.shape[0],\n",
    "    '\\n % событий от первоначального:', round(new_logs.shape[0]/logs.shape[0]*100, 2)\n",
    "     )\n",
    "\n",
    "#количество уникальных пользователей\n",
    "print(\n",
    "    '\\n Количество пользователей после чистки данных:', len(new_logs['device_idhash'].unique()),\n",
    "    '\\n Количество потеряных пользователей:', len(logs['device_idhash'].unique()) - len(new_logs['device_idhash'].unique()),\n",
    "    '\\n % пользователей от первоначального:', round(new_logs['device_idhash'].nunique() / logs['device_idhash'].nunique()*100, 2))"
   ]
  },
  {
   "attachments": {},
   "cell_type": "markdown",
   "metadata": {
    "id": "ZKYiNa3iytHf"
   },
   "source": [
    "* Потеряли 2826 наблюдений что составляет 1.16%.\n",
    "* Количество \"потерянных\" пользователей 17 что составляет 0.23%\n",
    "\n",
    "Потери как наблюдений так и пользователей не существенные."
   ]
  },
  {
   "attachments": {},
   "cell_type": "markdown",
   "metadata": {
    "id": "8VK57gF_ytHf"
   },
   "source": [
    "### Вывод:\n",
    "1. Всего событий в логе: 243713\n",
    "2. \n",
    "  * 5 названий события.\n",
    "  * 7551 уникальных индинтификаторов пользователй\n",
    "  * 3 номер эксперимента: 246 и 247 — контрольные группы, а 248 — экспериментальная.\n",
    "  * 14 дат в которых проводились наблюдения\n",
    "3. Среднее количество событий на каждого пользователя: 32\n",
    "4. \n",
    "  * Минимальная дата наблюдений: 2019-07-25 04:43:36\n",
    "  * Максимальная дата наблюдений: 2019-08-07 21:15:17\n",
    "5. Отбросив не полные данные потеряли 17 пользователей и 2610 наблюдений. "
   ]
  },
  {
   "attachments": {},
   "cell_type": "markdown",
   "metadata": {
    "id": "YDNtf6UdytHf"
   },
   "source": [
    "## 4. Изучим воронку событий"
   ]
  },
  {
   "cell_type": "code",
   "execution_count": 14,
   "metadata": {
    "colab": {
     "base_uri": "https://localhost:8080/"
    },
    "id": "v05gcU3ZytHX",
    "outputId": "d9ca9390-6703-4c61-f018-79757452981b"
   },
   "outputs": [
    {
     "data": {
      "text/plain": [
       "array(['MainScreenAppear', 'PaymentScreenSuccessful', 'CartScreenAppear',\n",
       "       'OffersScreenAppear', 'Tutorial'], dtype=object)"
      ]
     },
     "execution_count": 14,
     "metadata": {},
     "output_type": "execute_result"
    }
   ],
   "source": [
    "logs['event_name'].unique() # Смотрим какие события есть в логах"
   ]
  },
  {
   "attachments": {},
   "cell_type": "markdown",
   "metadata": {
    "id": "qAKFwVxzytHX"
   },
   "source": [
    "1. MainScreenAppear - появление главного экрана\n",
    "2. OffersScreenAppear - появление экрана с оффертой;\n",
    "3. CartScreenAppear - появление экрана с корзиной;\n",
    "4. PaymentScreenSuccessful - экран об успешной оплате;\n",
    "5. Tutorial - ознакомление с инструкцией."
   ]
  },
  {
   "cell_type": "code",
   "execution_count": 15,
   "metadata": {
    "colab": {
     "base_uri": "https://localhost:8080/"
    },
    "id": "LeJBxra4ytHg",
    "outputId": "99275a9b-f9a6-4e5c-d15c-6cd618fb0f4e"
   },
   "outputs": [
    {
     "data": {
      "text/plain": [
       "MainScreenAppear           117328\n",
       "OffersScreenAppear          46333\n",
       "CartScreenAppear            42303\n",
       "PaymentScreenSuccessful     33918\n",
       "Tutorial                     1005\n",
       "Name: event_name, dtype: int64"
      ]
     },
     "execution_count": 15,
     "metadata": {},
     "output_type": "execute_result"
    }
   ],
   "source": [
    "new_logs['event_name'].value_counts() # посмотрим на распределением логов между событиями"
   ]
  },
  {
   "cell_type": "code",
   "execution_count": 16,
   "metadata": {
    "colab": {
     "base_uri": "https://localhost:8080/",
     "height": 206
    },
    "id": "VdlVr_NhytHg",
    "outputId": "e71fb84c-55fa-4673-a4e6-e04ab3a89d2b"
   },
   "outputs": [
    {
     "data": {
      "text/html": [
       "<div>\n",
       "<style scoped>\n",
       "    .dataframe tbody tr th:only-of-type {\n",
       "        vertical-align: middle;\n",
       "    }\n",
       "\n",
       "    .dataframe tbody tr th {\n",
       "        vertical-align: top;\n",
       "    }\n",
       "\n",
       "    .dataframe thead th {\n",
       "        text-align: right;\n",
       "    }\n",
       "</style>\n",
       "<table border=\"1\" class=\"dataframe\">\n",
       "  <thead>\n",
       "    <tr style=\"text-align: right;\">\n",
       "      <th></th>\n",
       "      <th>event_name</th>\n",
       "      <th>user_cnt</th>\n",
       "    </tr>\n",
       "  </thead>\n",
       "  <tbody>\n",
       "    <tr>\n",
       "      <th>0</th>\n",
       "      <td>MainScreenAppear</td>\n",
       "      <td>7419</td>\n",
       "    </tr>\n",
       "    <tr>\n",
       "      <th>1</th>\n",
       "      <td>OffersScreenAppear</td>\n",
       "      <td>4593</td>\n",
       "    </tr>\n",
       "    <tr>\n",
       "      <th>2</th>\n",
       "      <td>CartScreenAppear</td>\n",
       "      <td>3734</td>\n",
       "    </tr>\n",
       "    <tr>\n",
       "      <th>3</th>\n",
       "      <td>PaymentScreenSuccessful</td>\n",
       "      <td>3539</td>\n",
       "    </tr>\n",
       "    <tr>\n",
       "      <th>4</th>\n",
       "      <td>Tutorial</td>\n",
       "      <td>840</td>\n",
       "    </tr>\n",
       "  </tbody>\n",
       "</table>\n",
       "</div>"
      ],
      "text/plain": [
       "                event_name  user_cnt\n",
       "0         MainScreenAppear      7419\n",
       "1       OffersScreenAppear      4593\n",
       "2         CartScreenAppear      3734\n",
       "3  PaymentScreenSuccessful      3539\n",
       "4                 Tutorial       840"
      ]
     },
     "execution_count": 16,
     "metadata": {},
     "output_type": "execute_result"
    }
   ],
   "source": [
    "# рассчет количества пользователей по всем возможным событиям.\n",
    "event_user = (new_logs\n",
    "                .groupby('event_name')\n",
    "                .agg({'device_idhash':'nunique'})\n",
    "                .reset_index()\n",
    "                .sort_values(by='device_idhash', ascending=False)\n",
    "                .reset_index(drop=True)\n",
    "                )\n",
    "event_user.columns = ['event_name', 'user_cnt']\n",
    "event_user"
   ]
  },
  {
   "attachments": {},
   "cell_type": "markdown",
   "metadata": {
    "id": "IndSQ_ctK0FN"
   },
   "source": [
    "Места по количеству пользователей для каждого события распределились точно так же, как и по частоте событий."
   ]
  },
  {
   "attachments": {},
   "cell_type": "markdown",
   "metadata": {},
   "source": [
    "Создаем таблицу для анализа"
   ]
  },
  {
   "cell_type": "code",
   "execution_count": 17,
   "metadata": {
    "colab": {
     "base_uri": "https://localhost:8080/",
     "height": 206
    },
    "id": "33m0ppkFytHi",
    "outputId": "e3bd2cbb-2ed3-4511-ce15-bf6b65b61f75"
   },
   "outputs": [
    {
     "data": {
      "text/html": [
       "<div>\n",
       "<style scoped>\n",
       "    .dataframe tbody tr th:only-of-type {\n",
       "        vertical-align: middle;\n",
       "    }\n",
       "\n",
       "    .dataframe tbody tr th {\n",
       "        vertical-align: top;\n",
       "    }\n",
       "\n",
       "    .dataframe thead th {\n",
       "        text-align: right;\n",
       "    }\n",
       "</style>\n",
       "<table border=\"1\" class=\"dataframe\">\n",
       "  <thead>\n",
       "    <tr style=\"text-align: right;\">\n",
       "      <th></th>\n",
       "      <th>event_name</th>\n",
       "      <th>event_cnt</th>\n",
       "      <th>user_cnt</th>\n",
       "      <th>rate %</th>\n",
       "      <th>convers_step</th>\n",
       "    </tr>\n",
       "  </thead>\n",
       "  <tbody>\n",
       "    <tr>\n",
       "      <th>0</th>\n",
       "      <td>MainScreenAppear</td>\n",
       "      <td>117328</td>\n",
       "      <td>7419</td>\n",
       "      <td>98.5</td>\n",
       "      <td>100.0</td>\n",
       "    </tr>\n",
       "    <tr>\n",
       "      <th>1</th>\n",
       "      <td>OffersScreenAppear</td>\n",
       "      <td>46333</td>\n",
       "      <td>4593</td>\n",
       "      <td>61.0</td>\n",
       "      <td>61.9</td>\n",
       "    </tr>\n",
       "    <tr>\n",
       "      <th>2</th>\n",
       "      <td>CartScreenAppear</td>\n",
       "      <td>42303</td>\n",
       "      <td>3734</td>\n",
       "      <td>49.6</td>\n",
       "      <td>81.3</td>\n",
       "    </tr>\n",
       "    <tr>\n",
       "      <th>3</th>\n",
       "      <td>PaymentScreenSuccessful</td>\n",
       "      <td>33918</td>\n",
       "      <td>3539</td>\n",
       "      <td>47.0</td>\n",
       "      <td>94.8</td>\n",
       "    </tr>\n",
       "    <tr>\n",
       "      <th>4</th>\n",
       "      <td>Tutorial</td>\n",
       "      <td>1005</td>\n",
       "      <td>840</td>\n",
       "      <td>11.1</td>\n",
       "      <td>23.7</td>\n",
       "    </tr>\n",
       "  </tbody>\n",
       "</table>\n",
       "</div>"
      ],
      "text/plain": [
       "                event_name  event_cnt  user_cnt  rate %  convers_step\n",
       "0         MainScreenAppear     117328      7419    98.5         100.0\n",
       "1       OffersScreenAppear      46333      4593    61.0          61.9\n",
       "2         CartScreenAppear      42303      3734    49.6          81.3\n",
       "3  PaymentScreenSuccessful      33918      3539    47.0          94.8\n",
       "4                 Tutorial       1005       840    11.1          23.7"
      ]
     },
     "execution_count": 17,
     "metadata": {},
     "output_type": "execute_result"
    }
   ],
   "source": [
    "# Группируем данные по событию, его частоте и количеству уникальных пользователей\n",
    "event_user = (\n",
    "        new_logs.groupby('event_name').agg({'event_name':'count', 'device_idhash': 'nunique'})\n",
    "        .rename(columns={'event_name':'event_cnt', 'device_idhash':'user_cnt'})\n",
    "        .sort_values(by ='event_cnt', ascending=False).reset_index()\n",
    "    )\n",
    "\n",
    "# Доля уникальных пользователей относительно общего количества пользователей\n",
    "event_user['rate %'] = round((event_user['user_cnt'] / len(new_logs['device_idhash'].unique())) * 100, 1)\n",
    "\n",
    "#  Cдвиг столбца user_cnt на одну строку вниз\n",
    "event_user['step'] = event_user['user_cnt'].shift()\n",
    "\n",
    "# Конверсия в следущий шаг\n",
    "event_user['convers_step'] = round(event_user['user_cnt'] / event_user['step'] * 100, 1) \n",
    "\n",
    "# Удаляем столбец step\n",
    "event_user.drop(columns= ['step'], axis = 1, inplace = True)\n",
    "\n",
    "# Заменю NaN в первой строке на 100% к ним будем считать следующий шаг\n",
    "event_user = event_user.fillna(100)\n",
    "\n",
    "event_user\n"
   ]
  },
  {
   "attachments": {},
   "cell_type": "markdown",
   "metadata": {
    "id": "ZczdchnaL-Gl"
   },
   "source": [
    "Видно что не все пользователи заходят на главный экран, возможно, они уходят на этапе туториала. Возможны проблемы с юзабельность инструкции их сложностью для понимания. Или часть приходит минуя главный экран."
   ]
  },
  {
   "cell_type": "raw",
   "metadata": {
    "colab": {
     "base_uri": "https://localhost:8080/",
     "height": 517
    },
    "id": "DyH19LUMytHg",
    "outputId": "05026c89-1483-4940-a0ff-586e7a047760",
    "scrolled": true
   },
   "source": [
    "# Строим график частоты событий\n",
    "fig2 = go.Figure(go.Bar(\n",
    "        x=event_user['event_cnt'],\n",
    "        y=event_user['event_name'],\n",
    "        orientation='h',\n",
    "        textposition=\"inside\",))\n",
    "\n",
    "fig2.update_layout(\n",
    "    title=\"Частота событий\",\n",
    "    font=dict(size=12),\n",
    "    width=500,\n",
    "    height=500,)\n",
    "\n",
    "# Строим график воронки событий\n",
    "fig1 = go.Figure(go.Funnel(\n",
    "    y=event_user['event_name'],\n",
    "    x=event_user['user_cnt'],\n",
    "    textposition=\"inside\",))\n",
    "\n",
    "fig1.update_layout(\n",
    "    title=\"Воронка событий\",\n",
    "    font=dict(size=12),\n",
    "    width=500,\n",
    "    height=500)\n",
    "\n",
    "# Объединяем два графика\n",
    "fig = sp.make_subplots(rows=1, cols=2, subplot_titles=(\"Воронка событий\", \"Частота событий\"))\n",
    "fig.add_trace(fig1.data[0], row=1, col=1)\n",
    "fig.add_trace(fig2.data[0], row=1, col=2)\n",
    "\n",
    "# Общее название графиков\n",
    "fig.update_layout(\n",
    "    title_x=0.50,\n",
    "    title_text=\"События в приложении\", \n",
    "    font=dict(size=12))\n",
    "\n",
    "fig.update_layout(width=1750, height=500)\n",
    "\n",
    "fig.show()\n"
   ]
  },
  {
   "attachments": {},
   "cell_type": "markdown",
   "metadata": {
    "id": "1I6uupB7ytHh"
   },
   "source": [
    "Количества пользователей для каждого события распределились:\n",
    "1. На главный экран зашло 7 419 пользователей. \n",
    "2. Экран с оффертой открыли 4 593 пользователя. \n",
    "3. Экран с корзиной появился у 3 734 пользователей.\n",
    "4. Экран с успешной оплатой - у 3 539 пользователей. \n",
    "5. Инструкцию открывало 840 пользователей, что указывает на то, что не каждому пользователю для совершения всех шагов до оплаты нужен туториал.\n",
    "\n",
    "Частота событий:\n",
    "1. Самое частое событие - открытие главного экрана (117 328 раз).\n",
    "2. Экран с предложениями (46 333 раза). \n",
    "3. Корзина (42 303 раза).\n",
    "4. Успешная оплата (33 918 раза). \n",
    "5. Туториал (1 005 раз). \n",
    "\n",
    "Возможно, пользователи не считают необходимым ознакомиться с инструкцией и обращаются к ней только в случае необходимости.\n",
    "Поэтому учитывать Tutorial в воронке наверняка не нужно."
   ]
  },
  {
   "cell_type": "code",
   "execution_count": 18,
   "metadata": {
    "id": "S7MQ_KMGNR5i"
   },
   "outputs": [],
   "source": [
    "event_user = event_user.query('event_name != \"Tutorial\"').reset_index(drop=True) # Убираем Tutorial "
   ]
  },
  {
   "cell_type": "raw",
   "metadata": {
    "colab": {
     "base_uri": "https://localhost:8080/",
     "height": 617
    },
    "id": "g-GHCS5jytHi",
    "outputId": "bfcd38d2-68a1-4291-95d1-16bc4a662f59"
   },
   "source": [
    "fig = go.Figure(go.Funnel(\n",
    "    y=event_user['event_name'],\n",
    "    x=event_user['user_cnt'],\n",
    "    textposition=\"inside\",\n",
    "    textinfo=\"value+percent previous\"))\n",
    "\n",
    "fig.update_layout(\n",
    "    title=\"Воронка событий\", title_x=0.50,\n",
    "    font=dict(size=12),\n",
    "    width=800,\n",
    "    height=500)\n",
    "\n",
    "fig.show()"
   ]
  },
  {
   "attachments": {},
   "cell_type": "markdown",
   "metadata": {
    "id": "17GesvknPbCD"
   },
   "source": [
    "Из проведенного анализа воронки событий следует, что переход на экран офферты является наиболее сложным для пользователей этапом. Его успешно проходит только 62% пользователей, которые заходят на главный экран Затем на следующем шаге 82 пользователей, которые добрались до экрана с оффертой, переходят в корзину. И, наконец, из тех, кто попадает в корзину, 95% завершают покупку. Рискну предположить что в приложении  возможны проблемы с юзабилити на главном экране, которые приводят к оттоку пользователей."
   ]
  },
  {
   "cell_type": "code",
   "execution_count": 19,
   "metadata": {
    "colab": {
     "base_uri": "https://localhost:8080/"
    },
    "id": "F4j-DZ34T-m9",
    "outputId": "4b18e683-899f-4bd6-fc68-e3fa822adaae"
   },
   "outputs": [
    {
     "name": "stdout",
     "output_type": "stream",
     "text": [
      "Процент пользователей, прошедших от первого события до оплаты: 47.70%\n"
     ]
    }
   ],
   "source": [
    "result = (\n",
    "    event_user.loc[event_user['event_name']=='PaymentScreenSuccessful', 'user_cnt'].sum() / \n",
    "    event_user.loc[event_user['event_name']=='MainScreenAppear', 'user_cnt'].sum() * 100\n",
    ")\n",
    "print(\"Процент пользователей, прошедших от первого события до оплаты: {:.2f}%\".format(result))"
   ]
  },
  {
   "attachments": {},
   "cell_type": "markdown",
   "metadata": {
    "id": "WD4R1WCVbHdx"
   },
   "source": [
    "### Вывод:\n",
    " * Не все пользователи заходят на главный экран, возможно, они уходят на этапе туториала.И инструкции в приложении возможно имеют проблемы(сложность, юзабельность и т.д)\n",
    " * Места по количеству пользователей и по частоте событий распределились одинаково.\n",
    " 1. Самое частое событие - открытие главного экрана.\n",
    " 2. Экран с предложениями.\n",
    " 3. Корзина.\n",
    " 4. Успешная оплата.\n",
    " 5. Туториал \n",
    " \n",
    " * Выяснили что что переход на экран офферты является наиболее сложным для пользователей этапом.\n",
    " * Предположили что в приложении возможны проблемы с юзабилити на главном экране, которые приводят к оттоку пользователей.\n",
    " * Посчитали процент пользователей, прошедших от первого события до оплаты: 47.70% "
   ]
  },
  {
   "attachments": {},
   "cell_type": "markdown",
   "metadata": {
    "id": "05Wquo7BIXkD"
   },
   "source": [
    "## 5. Изучим результат эксперемента"
   ]
  },
  {
   "cell_type": "code",
   "execution_count": 20,
   "metadata": {
    "colab": {
     "base_uri": "https://localhost:8080/"
    },
    "id": "CsRomsp4ytHZ",
    "outputId": "f32fe2c1-83a7-456e-b48d-7169c45f7f18"
   },
   "outputs": [
    {
     "data": {
      "text/plain": [
       "248    84563\n",
       "246    79302\n",
       "247    77022\n",
       "Name: exp_id, dtype: int64"
      ]
     },
     "execution_count": 20,
     "metadata": {},
     "output_type": "execute_result"
    }
   ],
   "source": [
    "new_logs['exp_id'].value_counts() # распределение событий по группам"
   ]
  },
  {
   "attachments": {},
   "cell_type": "markdown",
   "metadata": {
    "id": "30P0AyQeytHa"
   },
   "source": [
    "Больше всего событий в эксперементальной группе 248, второе место у группы 246 и на последнем месте 247.\n",
    "* Kоличество событий в эксперементальной 248 группе на 6.74% больше чем 246 и 9.79% выше  чем в 247."
   ]
  },
  {
   "cell_type": "code",
   "execution_count": 21,
   "metadata": {},
   "outputs": [
    {
     "data": {
      "text/plain": [
       "exp_id\n",
       "248    2537\n",
       "247    2513\n",
       "246    2484\n",
       "Name: device_idhash, dtype: int64"
      ]
     },
     "execution_count": 21,
     "metadata": {},
     "output_type": "execute_result"
    }
   ],
   "source": [
    "new_logs.groupby('exp_id')['device_idhash'].nunique().sort_values(ascending=False) # количество пользователей по группам"
   ]
  },
  {
   "attachments": {},
   "cell_type": "markdown",
   "metadata": {
    "id": "wZ0HlsmzytHc"
   },
   "source": [
    "Группы сформированы ровно без большой разницы по количеству участников.\n",
    "Но больше всех пользователей в эксперементальной группе."
   ]
  },
  {
   "cell_type": "code",
   "execution_count": 22,
   "metadata": {},
   "outputs": [
    {
     "name": "stdout",
     "output_type": "stream",
     "text": [
      "Количество пользователей входящих более чем в одну группу: 0\n"
     ]
    }
   ],
   "source": [
    "user_group_counts = new_logs.groupby('device_idhash')['exp_id'].nunique()\n",
    "users_in_group = user_group_counts[user_group_counts > 1].index.tolist()\n",
    "print(f\"Количество пользователей входящих более чем в одну группу: {len(users_in_group)}\")"
   ]
  },
  {
   "cell_type": "code",
   "execution_count": 23,
   "metadata": {},
   "outputs": [
    {
     "data": {
      "text/html": [
       "<div>\n",
       "<style scoped>\n",
       "    .dataframe tbody tr th:only-of-type {\n",
       "        vertical-align: middle;\n",
       "    }\n",
       "\n",
       "    .dataframe tbody tr th {\n",
       "        vertical-align: top;\n",
       "    }\n",
       "\n",
       "    .dataframe thead th {\n",
       "        text-align: right;\n",
       "    }\n",
       "</style>\n",
       "<table border=\"1\" class=\"dataframe\">\n",
       "  <thead>\n",
       "    <tr style=\"text-align: right;\">\n",
       "      <th></th>\n",
       "      <th>event_name</th>\n",
       "      <th>246</th>\n",
       "      <th>246_pr_user</th>\n",
       "      <th>247</th>\n",
       "      <th>247_pr_user</th>\n",
       "      <th>248</th>\n",
       "      <th>248_pr_user</th>\n",
       "    </tr>\n",
       "  </thead>\n",
       "  <tbody>\n",
       "    <tr>\n",
       "      <th>0</th>\n",
       "      <td>MainScreenAppear</td>\n",
       "      <td>2450</td>\n",
       "      <td>0.325</td>\n",
       "      <td>2476</td>\n",
       "      <td>0.329</td>\n",
       "      <td>2493</td>\n",
       "      <td>0.331</td>\n",
       "    </tr>\n",
       "    <tr>\n",
       "      <th>1</th>\n",
       "      <td>OffersScreenAppear</td>\n",
       "      <td>1542</td>\n",
       "      <td>0.205</td>\n",
       "      <td>1520</td>\n",
       "      <td>0.202</td>\n",
       "      <td>1531</td>\n",
       "      <td>0.203</td>\n",
       "    </tr>\n",
       "    <tr>\n",
       "      <th>2</th>\n",
       "      <td>CartScreenAppear</td>\n",
       "      <td>1266</td>\n",
       "      <td>0.168</td>\n",
       "      <td>1238</td>\n",
       "      <td>0.164</td>\n",
       "      <td>1230</td>\n",
       "      <td>0.163</td>\n",
       "    </tr>\n",
       "    <tr>\n",
       "      <th>3</th>\n",
       "      <td>PaymentScreenSuccessful</td>\n",
       "      <td>1200</td>\n",
       "      <td>0.159</td>\n",
       "      <td>1158</td>\n",
       "      <td>0.154</td>\n",
       "      <td>1181</td>\n",
       "      <td>0.157</td>\n",
       "    </tr>\n",
       "  </tbody>\n",
       "</table>\n",
       "</div>"
      ],
      "text/plain": [
       "                event_name   246  246_pr_user   247  247_pr_user   248  \\\n",
       "0         MainScreenAppear  2450        0.325  2476        0.329  2493   \n",
       "1       OffersScreenAppear  1542        0.205  1520        0.202  1531   \n",
       "2         CartScreenAppear  1266        0.168  1238        0.164  1230   \n",
       "3  PaymentScreenSuccessful  1200        0.159  1158        0.154  1181   \n",
       "\n",
       "   248_pr_user  \n",
       "0        0.331  \n",
       "1        0.203  \n",
       "2        0.163  \n",
       "3        0.157  "
      ]
     },
     "execution_count": 23,
     "metadata": {},
     "output_type": "execute_result"
    }
   ],
   "source": [
    "def event_group_pivot(group):\n",
    "    result = (\n",
    "        new_logs\n",
    "        .query('exp_id == @group and event_name != \"Tutorial\"')\n",
    "        .groupby('event_name')\n",
    "        .agg(device_count=('device_idhash', 'nunique'))\n",
    "        .sort_values(by='device_count', ascending=False)\n",
    "        .reset_index()\n",
    "    )\n",
    "    return result\n",
    "\n",
    "def event_group_ratio(df):\n",
    "    unique_devices = new_logs['device_idhash'].nunique()\n",
    "    df['ratio'] = round((df['device_count'] / unique_devices), 3)\n",
    "\n",
    "# Таблицы для каждой группы\n",
    "event_246_pivot = event_group_pivot(246)\n",
    "event_group_ratio(event_246_pivot)\n",
    "event_246_pivot.columns = ['event_name', '246', '246_pr_user']\n",
    "\n",
    "event_247_pivot = event_group_pivot(247)\n",
    "event_group_ratio(event_247_pivot)\n",
    "event_247_pivot.columns = ['event_name', '247', '247_pr_user']\n",
    "\n",
    "event_248_pivot = event_group_pivot(248)\n",
    "event_group_ratio(event_248_pivot)\n",
    "event_248_pivot.columns = ['event_name', '248', '248_pr_user']\n",
    "\n",
    "# Объединение таблиц\n",
    "event_group_pivot = (\n",
    "    event_246_pivot\n",
    "    .merge(event_247_pivot, on='event_name')\n",
    "    .merge(event_248_pivot, on='event_name')\n",
    "    )\n",
    "\n",
    "event_group_pivot"
   ]
  },
  {
   "cell_type": "raw",
   "metadata": {},
   "source": [
    "fig = go.Figure(go.Funnel(\n",
    "    name='246',\n",
    "    y = event_group_pivot['event_name'],\n",
    "    x = event_group_pivot['246'],\n",
    "    textinfo = 'value+percent initial'))\n",
    "\n",
    "fig.add_trace(go.Funnel(\n",
    "    name='247',\n",
    "    y = event_group_pivot['event_name'],\n",
    "    x = event_group_pivot['247'],\n",
    "    textinfo = 'value+percent initial'))\n",
    "\n",
    "fig.add_trace(go.Funnel(\n",
    "    name='248',\n",
    "    y = event_group_pivot['event_name'],\n",
    "    x = event_group_pivot['248'],\n",
    "    textinfo = 'value+percent initial'))\n",
    "\n",
    "fig.update_layout(\n",
    "    title=\"Воронка событий по группам\", title_x=0.50,\n",
    "    font=dict(size=12),\n",
    "    width=900,\n",
    "    height=600)\n",
    "\n",
    "fig.show()"
   ]
  },
  {
   "attachments": {},
   "cell_type": "markdown",
   "metadata": {},
   "source": [
    "На первый взгляд группа 246 кажется немного более успешной, чем остальные группы на почти всех этапах. Группы 247 и 248 практически не различаются друг от друга (за исключением этапа с корзиной)."
   ]
  },
  {
   "cell_type": "raw",
   "metadata": {},
   "source": [
    "fig = make_subplots(rows=2, cols=2, subplot_titles=[\n",
    "    'MainScreenAppear', 'OffersScreenAppear', 'CartScreenAppear', 'PaymentScreenSuccessful'\n",
    "])\n",
    "\n",
    "fig.update_layout(title='Распределение количества пользователей по группам и датам событий', height=800, title_x=0.50)\n",
    "\n",
    "for idx, event_name in enumerate(['MainScreenAppear', 'OffersScreenAppear', 'CartScreenAppear', 'PaymentScreenSuccessful'], 1):\n",
    "    row = (idx - 1) // 2 + 1\n",
    "    col = idx % 2 if idx % 2 else 2\n",
    "    for exp_id in new_logs['exp_id'].unique():\n",
    "        data = new_logs.query('event_name == @event_name and exp_id == @exp_id')['date_time']\n",
    "        fig.add_trace(go.Histogram(x=data, name=f'Группа {exp_id}'), row=row, col=col)\n",
    "\n",
    "fig.update_xaxes(title_text='Дата', tickformat='%d-%m-%y', row=1, col=1)\n",
    "fig.update_xaxes(title_text='Дата', tickformat='%d-%m-%y', row=1, col=2)\n",
    "fig.update_xaxes(title_text='Дата', tickformat='%d-%m-%y', row=2, col=1)\n",
    "fig.update_xaxes(title_text='Дата', tickformat='%d-%m-%y', row=2, col=2)\n",
    "fig.update_yaxes(title_text='Количество пользователей', row=1, col=1)\n",
    "fig.update_yaxes(title_text='Количество пользователей', row=1, col=2)\n",
    "fig.update_yaxes(title_text='Количество пользователей', row=2, col=1)\n",
    "fig.update_yaxes(title_text='Количество пользователей', row=2, col=2)\n",
    "\n",
    "fig.update_layout(width=1600, height=800)\n",
    "\n",
    "fig.show()\n"
   ]
  },
  {
   "attachments": {},
   "cell_type": "markdown",
   "metadata": {},
   "source": [
    "Данные за сутки имеют нормальное распределение с небольшими отклонениями в отдельные дни. Это позволяет сформулировать и проверить гипотезу о равенстве долей по событиям для разных групп.Можно использовать Z-критерий для разности долей. Этот критерий основан на нормальном распределении разности выборочных долей и позволяет проверять гипотезу о равенстве долей между двумя группами."
   ]
  },
  {
   "attachments": {},
   "cell_type": "markdown",
   "metadata": {},
   "source": [
    "### Исследование разницы между выборками A/A-теста"
   ]
  },
  {
   "attachments": {},
   "cell_type": "markdown",
   "metadata": {},
   "source": [
    "Определим гипотезы:\n",
    "* Гипотеза H0 доли двух выборок уникальных посетителей, побывавших на этапе воронки, равны между собой.\n",
    "* Гипотеза H1 между долями уникальных посетителей, побывавших на этапе воронки, есть значимая разница..\n",
    "* Уровень значимости выберем равным 1%, что означает, что вероятность ошибочно отвергнуть H0 при ее истинности не должна превышать 1%.\n",
    "Понизил уровень значимости потомучто тестировать будем 4 группы между собой,  учитывая тот факт, что у нас идет множественная проверка гипотез, а значит увеличивается риск ложноположительного результата, найти различия там, где их на самом деле нет."
   ]
  },
  {
   "attachments": {},
   "cell_type": "markdown",
   "metadata": {},
   "source": [
    "Функция для проведения z-теста для проверки гипотезы о равенстве долей двух выборок"
   ]
  },
  {
   "cell_type": "code",
   "execution_count": 24,
   "metadata": {},
   "outputs": [],
   "source": [
    "def z_test(exp_group_1, exp_group_2, event, alpha):\n",
    "    \n",
    "    alpha = alpha\n",
    "    \n",
    "    group_1 = new_logs.query('exp_id == @exp_group_1')\n",
    "    group_2 = new_logs.query('exp_id == @exp_group_2')\n",
    "\n",
    "    #значения выборок на уровне тестируемого события\n",
    "    successes = np.array([event_group_pivot.query('event_name == @event')[str(exp_group_1)].sum(),\n",
    "                          event_group_pivot.query('event_name == @event')[str(exp_group_2)].sum()])\n",
    "    \n",
    "    #первоначальные значения выборок\n",
    "    trials = np.array([len(group_1['device_idhash'].unique()), len(group_2['device_idhash'].unique())])\n",
    "    \n",
    "    # пропорция успехов в группах:\n",
    "    p1 = successes[0]/trials[0]\n",
    "    p2 = successes[1]/trials[1]\n",
    "    \n",
    "    # пропорция успехов в комбинированном датасете:\n",
    "    p_combined = (successes[0] + successes[1]) / (trials[0] + trials[1])\n",
    "    \n",
    "    # разница пропорций в датасетах\n",
    "    difference = p1 - p2\n",
    "    \n",
    "    # считаем статистику в ст.отклонениях стандартного нормального распределения\n",
    "    z_value = difference / math.sqrt(p_combined * (1 - p_combined) * (1/trials[0] + 1/trials[1]))\n",
    "    \n",
    "    # задаем стандартное нормальное распределение (среднее 0, ст.отклонение 1)\n",
    "    distr = st.norm(0, 1)\n",
    "    \n",
    "    p_value = (1 - distr.cdf(abs(z_value))) * 2\n",
    "    \n",
    "    print('p-значение: ', round(p_value, 4))\n",
    "    if (p_value < alpha):\n",
    "        print('Отвергаем нулевую гипотезу: между долями есть значимая разница')\n",
    "    else:\n",
    "        print('Не получилось отвергнуть нулевую гипотезу, нет оснований считать доли разными.')\n"
   ]
  },
  {
   "cell_type": "code",
   "execution_count": 25,
   "metadata": {},
   "outputs": [
    {
     "name": "stdout",
     "output_type": "stream",
     "text": [
      "p-значение:  0.7571\n",
      "Не получилось отвергнуть нулевую гипотезу, нет оснований считать доли разными.\n"
     ]
    }
   ],
   "source": [
    "z_test(246, 247, 'MainScreenAppear', 0.01)"
   ]
  },
  {
   "cell_type": "code",
   "execution_count": 26,
   "metadata": {},
   "outputs": [
    {
     "name": "stdout",
     "output_type": "stream",
     "text": [
      "p-значение:  0.2481\n",
      "Не получилось отвергнуть нулевую гипотезу, нет оснований считать доли разными.\n"
     ]
    }
   ],
   "source": [
    "z_test(246, 247, 'OffersScreenAppear', 0.01)"
   ]
  },
  {
   "cell_type": "code",
   "execution_count": 27,
   "metadata": {},
   "outputs": [
    {
     "name": "stdout",
     "output_type": "stream",
     "text": [
      "p-значение:  0.2288\n",
      "Не получилось отвергнуть нулевую гипотезу, нет оснований считать доли разными.\n"
     ]
    }
   ],
   "source": [
    "z_test(246, 247, 'CartScreenAppear', 0.01)"
   ]
  },
  {
   "cell_type": "code",
   "execution_count": 28,
   "metadata": {},
   "outputs": [
    {
     "name": "stdout",
     "output_type": "stream",
     "text": [
      "p-значение:  0.1146\n",
      "Не получилось отвергнуть нулевую гипотезу, нет оснований считать доли разными.\n"
     ]
    }
   ],
   "source": [
    "z_test(246, 247, 'PaymentScreenSuccessful', 0.01)"
   ]
  },
  {
   "attachments": {},
   "cell_type": "markdown",
   "metadata": {},
   "source": [
    "#### Вывод:\n",
    "Исходя из результата всех A/A-тестов, где было проверено отсутствие статистически значимых различий в долях пользователей, совершивших каждое из событий, можно заключить, что разделение на группы происходит корректно."
   ]
  },
  {
   "attachments": {},
   "cell_type": "markdown",
   "metadata": {},
   "source": [
    "### Иследование разницы между выборками А/В-теста"
   ]
  },
  {
   "cell_type": "code",
   "execution_count": 29,
   "metadata": {},
   "outputs": [
    {
     "data": {
      "text/html": [
       "<div>\n",
       "<style scoped>\n",
       "    .dataframe tbody tr th:only-of-type {\n",
       "        vertical-align: middle;\n",
       "    }\n",
       "\n",
       "    .dataframe tbody tr th {\n",
       "        vertical-align: top;\n",
       "    }\n",
       "\n",
       "    .dataframe thead th {\n",
       "        text-align: right;\n",
       "    }\n",
       "</style>\n",
       "<table border=\"1\" class=\"dataframe\">\n",
       "  <thead>\n",
       "    <tr style=\"text-align: right;\">\n",
       "      <th></th>\n",
       "      <th>event_name</th>\n",
       "      <th>246</th>\n",
       "      <th>246_pr_user</th>\n",
       "      <th>247</th>\n",
       "      <th>247_pr_user</th>\n",
       "      <th>248</th>\n",
       "      <th>248_pr_user</th>\n",
       "      <th>Cluster_246_247</th>\n",
       "    </tr>\n",
       "  </thead>\n",
       "  <tbody>\n",
       "    <tr>\n",
       "      <th>0</th>\n",
       "      <td>MainScreenAppear</td>\n",
       "      <td>2450</td>\n",
       "      <td>0.325</td>\n",
       "      <td>2476</td>\n",
       "      <td>0.329</td>\n",
       "      <td>2493</td>\n",
       "      <td>0.331</td>\n",
       "      <td>4926</td>\n",
       "    </tr>\n",
       "    <tr>\n",
       "      <th>1</th>\n",
       "      <td>OffersScreenAppear</td>\n",
       "      <td>1542</td>\n",
       "      <td>0.205</td>\n",
       "      <td>1520</td>\n",
       "      <td>0.202</td>\n",
       "      <td>1531</td>\n",
       "      <td>0.203</td>\n",
       "      <td>3062</td>\n",
       "    </tr>\n",
       "    <tr>\n",
       "      <th>2</th>\n",
       "      <td>CartScreenAppear</td>\n",
       "      <td>1266</td>\n",
       "      <td>0.168</td>\n",
       "      <td>1238</td>\n",
       "      <td>0.164</td>\n",
       "      <td>1230</td>\n",
       "      <td>0.163</td>\n",
       "      <td>2504</td>\n",
       "    </tr>\n",
       "    <tr>\n",
       "      <th>3</th>\n",
       "      <td>PaymentScreenSuccessful</td>\n",
       "      <td>1200</td>\n",
       "      <td>0.159</td>\n",
       "      <td>1158</td>\n",
       "      <td>0.154</td>\n",
       "      <td>1181</td>\n",
       "      <td>0.157</td>\n",
       "      <td>2358</td>\n",
       "    </tr>\n",
       "  </tbody>\n",
       "</table>\n",
       "</div>"
      ],
      "text/plain": [
       "                event_name   246  246_pr_user   247  247_pr_user   248  \\\n",
       "0         MainScreenAppear  2450        0.325  2476        0.329  2493   \n",
       "1       OffersScreenAppear  1542        0.205  1520        0.202  1531   \n",
       "2         CartScreenAppear  1266        0.168  1238        0.164  1230   \n",
       "3  PaymentScreenSuccessful  1200        0.159  1158        0.154  1181   \n",
       "\n",
       "   248_pr_user  Cluster_246_247  \n",
       "0        0.331             4926  \n",
       "1        0.203             3062  \n",
       "2        0.163             2504  \n",
       "3        0.157             2358  "
      ]
     },
     "execution_count": 29,
     "metadata": {},
     "output_type": "execute_result"
    }
   ],
   "source": [
    "event_group_pivot['Cluster_246_247'] = (event_group_pivot['246'] + event_group_pivot['247'])\n",
    "event_group_pivot['Cluster_246_247'] = event_group_pivot['Cluster_246_247'].astype('int')\n",
    "event_group_pivot"
   ]
  },
  {
   "attachments": {},
   "cell_type": "markdown",
   "metadata": {},
   "source": [
    "Функция для сравнения с объединённой группой."
   ]
  },
  {
   "cell_type": "code",
   "execution_count": 30,
   "metadata": {},
   "outputs": [],
   "source": [
    "def z_test_united(exp_group_2, event, alpha):\n",
    "    \n",
    "    alpha=alpha\n",
    "    group_1 = new_logs.query('exp_id == 246 | exp_id == 247')\n",
    "    group_2 = new_logs.query('exp_id == @exp_group_2')\n",
    "\n",
    "    successes = np.array([event_group_pivot.query('event_name == @event')['Cluster_246_247'].sum(),\n",
    "                          event_group_pivot.query('event_name == @event')[str(exp_group_2)].sum()])\n",
    "    trials = np.array([len(group_1['device_idhash'].unique()), len(group_2['device_idhash'].unique())])\n",
    "    \n",
    "    p1 = successes[0]/trials[0]\n",
    "    p2 = successes[1]/trials[1]\n",
    "    p_combined = (successes[0] + successes[1]) / (trials[0] + trials[1])\n",
    "    \n",
    "    difference = p1 - p2\n",
    "    \n",
    "    z_value = difference / math.sqrt(p_combined * (1 - p_combined) * (1/trials[0] + 1/trials[1]))\n",
    "    distr = st.norm(0, 1)\n",
    "    p_value = (1 - distr.cdf(abs(z_value))) * 2\n",
    "    \n",
    "    print('p-значение: ', round(p_value, 4))\n",
    "    if (p_value < alpha):\n",
    "        print('Отвергаем нулевую гипотезу: между долями есть значимая разница')\n",
    "    else:\n",
    "        print('Не получилось отвергнуть нулевую гипотезу, нет оснований считать доли разными.')"
   ]
  },
  {
   "attachments": {},
   "cell_type": "markdown",
   "metadata": {},
   "source": [
    "#### A/B-тест для события \"MainScreenAppear\"\n"
   ]
  },
  {
   "cell_type": "code",
   "execution_count": 31,
   "metadata": {},
   "outputs": [
    {
     "name": "stdout",
     "output_type": "stream",
     "text": [
      "p-значение:  0.295\n",
      "Не получилось отвергнуть нулевую гипотезу, нет оснований считать доли разными.\n",
      "p-значение:  0.4587\n",
      "Не получилось отвергнуть нулевую гипотезу, нет оснований считать доли разными.\n",
      "p-значение:  0.2942\n",
      "Не получилось отвергнуть нулевую гипотезу, нет оснований считать доли разными.\n"
     ]
    }
   ],
   "source": [
    "z_test(246, 248, 'MainScreenAppear', 0.01)\n",
    "z_test(247, 248, 'MainScreenAppear', 0.01)\n",
    "z_test_united(248, 'MainScreenAppear', 0.01)"
   ]
  },
  {
   "attachments": {},
   "cell_type": "markdown",
   "metadata": {},
   "source": [
    "##### Нет оснований считать доли на первом шаге разными."
   ]
  },
  {
   "attachments": {},
   "cell_type": "markdown",
   "metadata": {},
   "source": [
    "#### A/B-тест для события \"OffersScreenAppear\""
   ]
  },
  {
   "cell_type": "code",
   "execution_count": 32,
   "metadata": {},
   "outputs": [
    {
     "name": "stdout",
     "output_type": "stream",
     "text": [
      "p-значение:  0.2084\n",
      "Не получилось отвергнуть нулевую гипотезу, нет оснований считать доли разными.\n"
     ]
    },
    {
     "name": "stdout",
     "output_type": "stream",
     "text": [
      "p-значение:  0.9198\n",
      "Не получилось отвергнуть нулевую гипотезу, нет оснований считать доли разными.\n",
      "p-значение:  0.4343\n",
      "Не получилось отвергнуть нулевую гипотезу, нет оснований считать доли разными.\n"
     ]
    }
   ],
   "source": [
    "z_test(246, 248, 'OffersScreenAppear', 0.01)\n",
    "z_test(247, 248, 'OffersScreenAppear', 0.01)\n",
    "z_test_united(248, 'OffersScreenAppear', 0.01)"
   ]
  },
  {
   "attachments": {},
   "cell_type": "markdown",
   "metadata": {},
   "source": [
    "##### Нет оснований считать доли на втором шаге разными."
   ]
  },
  {
   "attachments": {},
   "cell_type": "markdown",
   "metadata": {},
   "source": [
    "#### A/B-тест для события 'CartScreenAppear'"
   ]
  },
  {
   "cell_type": "code",
   "execution_count": 33,
   "metadata": {},
   "outputs": [
    {
     "name": "stdout",
     "output_type": "stream",
     "text": [
      "p-значение:  0.0784\n",
      "Не получилось отвергнуть нулевую гипотезу, нет оснований считать доли разными.\n",
      "p-значение:  0.5786\n",
      "Не получилось отвергнуть нулевую гипотезу, нет оснований считать доли разными.\n",
      "p-значение:  0.1818\n",
      "Не получилось отвергнуть нулевую гипотезу, нет оснований считать доли разными.\n"
     ]
    }
   ],
   "source": [
    "z_test(246, 248, 'CartScreenAppear', 0.01)\n",
    "z_test(247, 248, 'CartScreenAppear', 0.01)\n",
    "z_test_united(248, 'CartScreenAppear', 0.01)"
   ]
  },
  {
   "attachments": {},
   "cell_type": "markdown",
   "metadata": {},
   "source": [
    "##### Нет оснований считать доли на третьем шаге разными."
   ]
  },
  {
   "attachments": {},
   "cell_type": "markdown",
   "metadata": {},
   "source": [
    "#### A/B-тест для события 'PaymentScreenSuccessful'"
   ]
  },
  {
   "cell_type": "code",
   "execution_count": 34,
   "metadata": {},
   "outputs": [
    {
     "name": "stdout",
     "output_type": "stream",
     "text": [
      "p-значение:  0.2123\n",
      "Не получилось отвергнуть нулевую гипотезу, нет оснований считать доли разными.\n",
      "p-значение:  0.7373\n",
      "Не получилось отвергнуть нулевую гипотезу, нет оснований считать доли разными.\n",
      "p-значение:  0.6004\n",
      "Не получилось отвергнуть нулевую гипотезу, нет оснований считать доли разными.\n"
     ]
    }
   ],
   "source": [
    "z_test(246, 248, 'PaymentScreenSuccessful', 0.01)\n",
    "z_test(247, 248, 'PaymentScreenSuccessful', 0.01)\n",
    "z_test_united(248, 'PaymentScreenSuccessful', 0.01)"
   ]
  },
  {
   "attachments": {},
   "cell_type": "markdown",
   "metadata": {},
   "source": [
    "##### И на четвёртом шаге существенных различий в долях между группами не обнаружено."
   ]
  },
  {
   "attachments": {},
   "cell_type": "markdown",
   "metadata": {},
   "source": [
    "##### Вывод:\n",
    "-  4 z-теста контрольных групп 246 и 247 в разрезе событий воронки :  статистически достоверных отличий между группами не выявлено, что означает, что выборки сделаны корректно.\n",
    "\n",
    "-  12 z-теста аналогичных тестов с контрольными и тестируемой группой:  статистически достоверных отличий между конверсиями групп не выявлено.\n",
    "\n",
    "Поскольку в итоге было проведено 16 тестов, то для того, чтобы групповая вероятность ошибки не превышала определенный уровень значимости α (мы понизили уровень значимости до 0.01), если бы количество групп было больше нами была бы применена поправка Бонферрони к коэффициенту статистической значимости.\n",
    "\n",
    "\n",
    "На основе проведенных A/B-тестов мы можем сделать вывод о том, что изменения в дизайне сайта(изменение шрифтов) не привели к статистически значимым изменениям в поведении пользователей. В целом результаты тестов показывают, что пользователи быстро адаптировались к новому дизайну и продолжили свое обычное поведение. Мы можем сделать вывод о том, что изменения в дизайне не оказали значительного влияния на пользователей.\n"
   ]
  },
  {
   "attachments": {},
   "cell_type": "markdown",
   "metadata": {},
   "source": [
    "## Основной вывод:\n",
    " Из представленных данных состоит в том, что приложение имеет проблемы с юзабилити на экране офферты, что приводит к оттоку пользователей. Более того, изменение шрифтов, не привели к статистически значимым изменениям в поведении пользователей. Также, можно заключить, что разделение на группы в рамках проведенных A/A-тестов происходит корректно. В целом, проведенный эксперемент позволяет сделать выводы о текущем состоянии приложения и о том, какие меры могут быть приняты для улучшения его юзабилити.\n",
    " Кроме того, стоит учесть, что выводы, сделанные на основе A/B-тестирования, зависят от выбранного уровня значимости. Например, если бы мы выбрали уровень значимости 10%, мы бы обнаружили значительные различия между группами 246 и 248 в отношении появления корзины. Однако при таком уровне значимости каждый десятый раз можно получить ложный результат, а мы провели 16 тестов. Поэтому при выборе уровня значимости следует быть внимательным и учитывать его влияние на результаты и выводы."
   ]
  },
  {
   "attachments": {},
   "cell_type": "markdown",
   "metadata": {},
   "source": [
    "<div class=\"alert alert-block alert-info\">\n",
    "\n",
    "### Комментарий студента:\n",
    "Спасибо Вам за все то что вы делаете. Всем Добра Удачи и Хорошего на\n",
    "</div>"
   ]
  }
 ],
 "metadata": {
  "ExecuteTimeLog": [
   {
    "duration": 868,
    "start_time": "2023-05-01T17:26:21.382Z"
   },
   {
    "duration": 134,
    "start_time": "2023-05-01T17:26:22.252Z"
   },
   {
    "duration": 15,
    "start_time": "2023-05-01T17:26:22.387Z"
   },
   {
    "duration": 32,
    "start_time": "2023-05-01T17:26:22.404Z"
   },
   {
    "duration": 93,
    "start_time": "2023-05-01T17:26:22.439Z"
   },
   {
    "duration": 74,
    "start_time": "2023-05-01T17:26:22.534Z"
   },
   {
    "duration": 108,
    "start_time": "2023-05-01T17:26:22.610Z"
   },
   {
    "duration": 61,
    "start_time": "2023-05-01T17:26:22.720Z"
   },
   {
    "duration": 10,
    "start_time": "2023-05-01T17:26:22.782Z"
   },
   {
    "duration": 15,
    "start_time": "2023-05-01T17:26:22.793Z"
   },
   {
    "duration": 26,
    "start_time": "2023-05-01T17:26:22.810Z"
   },
   {
    "duration": 5382,
    "start_time": "2023-05-01T17:26:22.838Z"
   },
   {
    "duration": 150,
    "start_time": "2023-05-01T17:26:28.222Z"
   },
   {
    "duration": 17,
    "start_time": "2023-05-01T17:26:28.375Z"
   },
   {
    "duration": 86,
    "start_time": "2023-05-01T17:26:28.393Z"
   },
   {
    "duration": 125,
    "start_time": "2023-05-01T17:26:28.481Z"
   },
   {
    "duration": 66,
    "start_time": "2023-05-01T17:26:28.607Z"
   },
   {
    "duration": 227,
    "start_time": "2023-05-01T17:26:28.675Z"
   },
   {
    "duration": 6,
    "start_time": "2023-05-01T17:26:28.904Z"
   },
   {
    "duration": 12,
    "start_time": "2023-05-01T17:26:28.911Z"
   },
   {
    "duration": 5,
    "start_time": "2023-05-01T17:26:28.924Z"
   },
   {
    "duration": 43,
    "start_time": "2023-05-01T17:26:28.930Z"
   },
   {
    "duration": 37,
    "start_time": "2023-05-01T17:26:28.974Z"
   },
   {
    "duration": 29,
    "start_time": "2023-05-01T17:26:29.013Z"
   },
   {
    "duration": 142,
    "start_time": "2023-05-01T17:26:29.043Z"
   },
   {
    "duration": 12,
    "start_time": "2023-05-01T17:26:29.186Z"
   },
   {
    "duration": 5022,
    "start_time": "2023-05-01T17:26:29.199Z"
   },
   {
    "duration": 7,
    "start_time": "2023-05-01T17:26:34.223Z"
   },
   {
    "duration": 66,
    "start_time": "2023-05-01T17:26:34.232Z"
   },
   {
    "duration": 78,
    "start_time": "2023-05-01T17:26:34.300Z"
   },
   {
    "duration": 24,
    "start_time": "2023-05-01T17:26:34.379Z"
   },
   {
    "duration": 82,
    "start_time": "2023-05-01T17:26:34.405Z"
   },
   {
    "duration": 14,
    "start_time": "2023-05-01T17:26:34.489Z"
   },
   {
    "duration": 7,
    "start_time": "2023-05-01T17:26:34.505Z"
   },
   {
    "duration": 186,
    "start_time": "2023-05-01T17:26:34.514Z"
   },
   {
    "duration": 94,
    "start_time": "2023-05-01T17:26:34.702Z"
   },
   {
    "duration": 56,
    "start_time": "2023-05-01T17:26:34.798Z"
   },
   {
    "duration": 67,
    "start_time": "2023-05-01T17:26:34.855Z"
   },
   {
    "duration": 13,
    "start_time": "2023-05-01T17:31:28.889Z"
   },
   {
    "duration": 26,
    "start_time": "2023-05-01T17:34:05.771Z"
   },
   {
    "duration": 1010,
    "start_time": "2023-05-02T09:25:31.519Z"
   },
   {
    "duration": 815,
    "start_time": "2023-05-02T09:25:32.531Z"
   },
   {
    "duration": 14,
    "start_time": "2023-05-02T09:25:33.348Z"
   },
   {
    "duration": 23,
    "start_time": "2023-05-02T09:25:33.364Z"
   },
   {
    "duration": 95,
    "start_time": "2023-05-02T09:25:33.391Z"
   },
   {
    "duration": 80,
    "start_time": "2023-05-02T09:25:33.488Z"
   },
   {
    "duration": 144,
    "start_time": "2023-05-02T09:25:33.570Z"
   },
   {
    "duration": 89,
    "start_time": "2023-05-02T09:25:33.716Z"
   },
   {
    "duration": 18,
    "start_time": "2023-05-02T09:25:33.807Z"
   },
   {
    "duration": 27,
    "start_time": "2023-05-02T09:25:33.827Z"
   },
   {
    "duration": 17,
    "start_time": "2023-05-02T09:25:33.856Z"
   },
   {
    "duration": 6262,
    "start_time": "2023-05-02T09:25:33.875Z"
   },
   {
    "duration": 161,
    "start_time": "2023-05-02T09:25:40.141Z"
   },
   {
    "duration": 20,
    "start_time": "2023-05-02T09:25:40.306Z"
   },
   {
    "duration": 76,
    "start_time": "2023-05-02T09:25:40.329Z"
   },
   {
    "duration": 202,
    "start_time": "2023-05-02T09:25:40.406Z"
   },
   {
    "duration": 15,
    "start_time": "2023-05-02T09:25:40.611Z"
   },
   {
    "duration": 282,
    "start_time": "2023-05-02T09:25:40.628Z"
   },
   {
    "duration": 7,
    "start_time": "2023-05-02T09:25:40.912Z"
   },
   {
    "duration": 18,
    "start_time": "2023-05-02T09:25:40.920Z"
   },
   {
    "duration": 6,
    "start_time": "2023-05-02T09:25:40.986Z"
   },
   {
    "duration": 23,
    "start_time": "2023-05-02T09:25:40.994Z"
   },
   {
    "duration": 39,
    "start_time": "2023-05-02T09:25:41.019Z"
   },
   {
    "duration": 63,
    "start_time": "2023-05-02T09:25:41.060Z"
   },
   {
    "duration": 181,
    "start_time": "2023-05-02T09:25:41.125Z"
   },
   {
    "duration": 22,
    "start_time": "2023-05-02T09:25:41.311Z"
   },
   {
    "duration": 5849,
    "start_time": "2023-05-02T09:25:41.335Z"
   },
   {
    "duration": 11,
    "start_time": "2023-05-02T09:25:47.187Z"
   },
   {
    "duration": 86,
    "start_time": "2023-05-02T09:25:47.200Z"
   },
   {
    "duration": 33,
    "start_time": "2023-05-02T09:25:47.288Z"
   },
   {
    "duration": 77,
    "start_time": "2023-05-02T09:25:47.324Z"
   },
   {
    "duration": 25,
    "start_time": "2023-05-02T09:25:47.403Z"
   },
   {
    "duration": 15,
    "start_time": "2023-05-02T09:25:47.485Z"
   },
   {
    "duration": 9,
    "start_time": "2023-05-02T09:25:47.502Z"
   },
   {
    "duration": 184,
    "start_time": "2023-05-02T09:25:47.513Z"
   },
   {
    "duration": 126,
    "start_time": "2023-05-02T09:25:47.700Z"
   },
   {
    "duration": 186,
    "start_time": "2023-05-02T09:25:47.829Z"
   },
   {
    "duration": 100,
    "start_time": "2023-05-02T09:25:48.017Z"
   },
   {
    "duration": 874,
    "start_time": "2023-05-02T09:29:00.082Z"
   },
   {
    "duration": 130,
    "start_time": "2023-05-02T09:32:43.277Z"
   },
   {
    "duration": 1035,
    "start_time": "2023-05-02T09:33:43.713Z"
   },
   {
    "duration": 113,
    "start_time": "2023-05-02T09:40:42.094Z"
   },
   {
    "duration": 81,
    "start_time": "2023-05-02T09:42:58.114Z"
   },
   {
    "duration": 77,
    "start_time": "2023-05-02T09:44:32.261Z"
   },
   {
    "duration": 4,
    "start_time": "2023-05-02T09:47:18.214Z"
   },
   {
    "duration": 4,
    "start_time": "2023-05-02T09:49:03.128Z"
   },
   {
    "duration": 20,
    "start_time": "2023-05-02T09:49:46.505Z"
   },
   {
    "duration": 18,
    "start_time": "2023-05-02T09:50:59.417Z"
   },
   {
    "duration": 1233,
    "start_time": "2023-05-02T09:51:13.414Z"
   },
   {
    "duration": 63,
    "start_time": "2023-05-02T19:01:49.854Z"
   },
   {
    "duration": 955,
    "start_time": "2023-05-02T19:02:08.059Z"
   },
   {
    "duration": 703,
    "start_time": "2023-05-02T19:02:09.016Z"
   },
   {
    "duration": 17,
    "start_time": "2023-05-02T19:02:09.722Z"
   },
   {
    "duration": 28,
    "start_time": "2023-05-02T19:02:09.742Z"
   },
   {
    "duration": 76,
    "start_time": "2023-05-02T19:02:09.772Z"
   },
   {
    "duration": 85,
    "start_time": "2023-05-02T19:02:09.859Z"
   },
   {
    "duration": 143,
    "start_time": "2023-05-02T19:02:09.947Z"
   },
   {
    "duration": 69,
    "start_time": "2023-05-02T19:02:10.092Z"
   },
   {
    "duration": 12,
    "start_time": "2023-05-02T19:02:10.162Z"
   },
   {
    "duration": 21,
    "start_time": "2023-05-02T19:02:10.177Z"
   },
   {
    "duration": 6,
    "start_time": "2023-05-02T19:02:10.199Z"
   },
   {
    "duration": 5268,
    "start_time": "2023-05-02T19:02:10.206Z"
   },
   {
    "duration": 124,
    "start_time": "2023-05-02T19:02:15.477Z"
   },
   {
    "duration": 71,
    "start_time": "2023-05-02T19:02:15.603Z"
   },
   {
    "duration": 19,
    "start_time": "2023-05-02T19:02:15.676Z"
   },
   {
    "duration": 76,
    "start_time": "2023-05-02T19:02:15.697Z"
   },
   {
    "duration": 115,
    "start_time": "2023-05-02T19:02:15.776Z"
   },
   {
    "duration": 67,
    "start_time": "2023-05-02T19:02:15.893Z"
   },
   {
    "duration": 206,
    "start_time": "2023-05-02T19:02:15.962Z"
   },
   {
    "duration": 5,
    "start_time": "2023-05-02T19:02:16.170Z"
   },
   {
    "duration": 34,
    "start_time": "2023-05-02T19:02:16.176Z"
   },
   {
    "duration": 15,
    "start_time": "2023-05-02T19:02:16.212Z"
   },
   {
    "duration": 13,
    "start_time": "2023-05-02T19:02:16.229Z"
   },
   {
    "duration": 51,
    "start_time": "2023-05-02T19:02:16.244Z"
   },
   {
    "duration": 35,
    "start_time": "2023-05-02T19:02:16.297Z"
   },
   {
    "duration": 146,
    "start_time": "2023-05-02T19:02:16.333Z"
   },
   {
    "duration": 84,
    "start_time": "2023-05-02T19:02:16.480Z"
   },
   {
    "duration": 5080,
    "start_time": "2023-05-02T19:02:16.567Z"
   },
   {
    "duration": 7,
    "start_time": "2023-05-02T19:02:21.658Z"
   },
   {
    "duration": 92,
    "start_time": "2023-05-02T19:02:21.667Z"
   },
   {
    "duration": 24,
    "start_time": "2023-05-02T19:02:21.761Z"
   },
   {
    "duration": 77,
    "start_time": "2023-05-02T19:02:21.787Z"
   },
   {
    "duration": 24,
    "start_time": "2023-05-02T19:02:21.866Z"
   },
   {
    "duration": 69,
    "start_time": "2023-05-02T19:02:21.892Z"
   },
   {
    "duration": 7,
    "start_time": "2023-05-02T19:02:21.963Z"
   },
   {
    "duration": 188,
    "start_time": "2023-05-02T19:02:21.971Z"
   },
   {
    "duration": 120,
    "start_time": "2023-05-02T19:02:22.161Z"
   },
   {
    "duration": 95,
    "start_time": "2023-05-02T19:02:22.283Z"
   },
   {
    "duration": 61,
    "start_time": "2023-05-02T19:02:22.379Z"
   },
   {
    "duration": 0,
    "start_time": "2023-05-02T19:03:37.290Z"
   },
   {
    "duration": 82,
    "start_time": "2023-05-02T19:03:44.732Z"
   },
   {
    "duration": 87,
    "start_time": "2023-05-02T19:03:54.170Z"
   },
   {
    "duration": 17,
    "start_time": "2023-05-02T19:04:12.424Z"
   },
   {
    "duration": 69,
    "start_time": "2023-05-02T19:07:25.776Z"
   },
   {
    "duration": 76,
    "start_time": "2023-05-02T19:09:53.874Z"
   },
   {
    "duration": 34,
    "start_time": "2023-05-02T19:17:45.393Z"
   },
   {
    "duration": 99,
    "start_time": "2023-05-02T19:20:54.850Z"
   },
   {
    "duration": 104,
    "start_time": "2023-05-02T19:32:57.574Z"
   },
   {
    "duration": 902,
    "start_time": "2023-05-02T19:34:40.394Z"
   },
   {
    "duration": 154,
    "start_time": "2023-05-02T19:34:41.298Z"
   },
   {
    "duration": 16,
    "start_time": "2023-05-02T19:34:41.453Z"
   },
   {
    "duration": 23,
    "start_time": "2023-05-02T19:34:41.472Z"
   },
   {
    "duration": 89,
    "start_time": "2023-05-02T19:34:41.496Z"
   },
   {
    "duration": 88,
    "start_time": "2023-05-02T19:34:41.587Z"
   },
   {
    "duration": 134,
    "start_time": "2023-05-02T19:34:41.677Z"
   },
   {
    "duration": 68,
    "start_time": "2023-05-02T19:34:41.813Z"
   },
   {
    "duration": 13,
    "start_time": "2023-05-02T19:34:41.883Z"
   },
   {
    "duration": 19,
    "start_time": "2023-05-02T19:34:41.898Z"
   },
   {
    "duration": 6,
    "start_time": "2023-05-02T19:34:41.918Z"
   },
   {
    "duration": 5387,
    "start_time": "2023-05-02T19:34:41.925Z"
   },
   {
    "duration": 148,
    "start_time": "2023-05-02T19:34:47.314Z"
   },
   {
    "duration": 17,
    "start_time": "2023-05-02T19:34:47.464Z"
   },
   {
    "duration": 18,
    "start_time": "2023-05-02T19:34:47.482Z"
   },
   {
    "duration": 81,
    "start_time": "2023-05-02T19:34:47.502Z"
   },
   {
    "duration": 112,
    "start_time": "2023-05-02T19:34:47.585Z"
   },
   {
    "duration": 189,
    "start_time": "2023-05-02T19:34:47.699Z"
   },
   {
    "duration": 126,
    "start_time": "2023-05-02T19:34:47.889Z"
   },
   {
    "duration": 46,
    "start_time": "2023-05-02T19:34:48.017Z"
   },
   {
    "duration": 15,
    "start_time": "2023-05-02T19:34:48.064Z"
   },
   {
    "duration": 4,
    "start_time": "2023-05-02T19:34:48.081Z"
   },
   {
    "duration": 8,
    "start_time": "2023-05-02T19:34:48.087Z"
   },
   {
    "duration": 31,
    "start_time": "2023-05-02T19:34:48.096Z"
   },
   {
    "duration": 58,
    "start_time": "2023-05-02T19:34:48.129Z"
   },
   {
    "duration": 143,
    "start_time": "2023-05-02T19:34:48.189Z"
   },
   {
    "duration": 82,
    "start_time": "2023-05-02T19:34:48.334Z"
   },
   {
    "duration": 5163,
    "start_time": "2023-05-02T19:34:48.419Z"
   },
   {
    "duration": 9,
    "start_time": "2023-05-02T19:34:53.585Z"
   },
   {
    "duration": 80,
    "start_time": "2023-05-02T19:34:53.596Z"
   },
   {
    "duration": 26,
    "start_time": "2023-05-02T19:34:53.678Z"
   },
   {
    "duration": 69,
    "start_time": "2023-05-02T19:34:53.706Z"
   },
   {
    "duration": 86,
    "start_time": "2023-05-02T19:34:53.777Z"
   },
   {
    "duration": 11,
    "start_time": "2023-05-02T19:34:53.865Z"
   },
   {
    "duration": 20,
    "start_time": "2023-05-02T19:34:53.878Z"
   },
   {
    "duration": 167,
    "start_time": "2023-05-02T19:34:53.900Z"
   },
   {
    "duration": 119,
    "start_time": "2023-05-02T19:34:54.068Z"
   },
   {
    "duration": 100,
    "start_time": "2023-05-02T19:34:54.189Z"
   },
   {
    "duration": 73,
    "start_time": "2023-05-02T19:34:54.290Z"
   },
   {
    "duration": 88,
    "start_time": "2023-05-03T10:51:35.243Z"
   },
   {
    "duration": 984,
    "start_time": "2023-05-03T10:51:50.695Z"
   },
   {
    "duration": 695,
    "start_time": "2023-05-03T10:51:51.681Z"
   },
   {
    "duration": 13,
    "start_time": "2023-05-03T10:51:52.377Z"
   },
   {
    "duration": 23,
    "start_time": "2023-05-03T10:51:52.392Z"
   },
   {
    "duration": 79,
    "start_time": "2023-05-03T10:51:52.417Z"
   },
   {
    "duration": 83,
    "start_time": "2023-05-03T10:51:52.498Z"
   },
   {
    "duration": 134,
    "start_time": "2023-05-03T10:51:52.584Z"
   },
   {
    "duration": 67,
    "start_time": "2023-05-03T10:51:52.720Z"
   },
   {
    "duration": 12,
    "start_time": "2023-05-03T10:51:52.789Z"
   },
   {
    "duration": 20,
    "start_time": "2023-05-03T10:51:52.802Z"
   },
   {
    "duration": 5,
    "start_time": "2023-05-03T10:51:52.824Z"
   },
   {
    "duration": 5442,
    "start_time": "2023-05-03T10:51:52.831Z"
   },
   {
    "duration": 131,
    "start_time": "2023-05-03T10:51:58.275Z"
   },
   {
    "duration": 79,
    "start_time": "2023-05-03T10:51:58.461Z"
   },
   {
    "duration": 0,
    "start_time": "2023-05-03T10:51:58.542Z"
   },
   {
    "duration": 0,
    "start_time": "2023-05-03T10:51:58.559Z"
   },
   {
    "duration": 0,
    "start_time": "2023-05-03T10:51:58.560Z"
   },
   {
    "duration": 0,
    "start_time": "2023-05-03T10:51:58.561Z"
   },
   {
    "duration": 0,
    "start_time": "2023-05-03T10:51:58.563Z"
   },
   {
    "duration": 0,
    "start_time": "2023-05-03T10:51:58.563Z"
   },
   {
    "duration": 0,
    "start_time": "2023-05-03T10:51:58.565Z"
   },
   {
    "duration": 0,
    "start_time": "2023-05-03T10:51:58.566Z"
   },
   {
    "duration": 0,
    "start_time": "2023-05-03T10:51:58.567Z"
   },
   {
    "duration": 0,
    "start_time": "2023-05-03T10:51:58.569Z"
   },
   {
    "duration": 0,
    "start_time": "2023-05-03T10:51:58.570Z"
   },
   {
    "duration": 0,
    "start_time": "2023-05-03T10:51:58.571Z"
   },
   {
    "duration": 0,
    "start_time": "2023-05-03T10:51:58.573Z"
   },
   {
    "duration": 0,
    "start_time": "2023-05-03T10:51:58.574Z"
   },
   {
    "duration": 0,
    "start_time": "2023-05-03T10:51:58.576Z"
   },
   {
    "duration": 0,
    "start_time": "2023-05-03T10:51:58.577Z"
   },
   {
    "duration": 0,
    "start_time": "2023-05-03T10:51:58.578Z"
   },
   {
    "duration": 0,
    "start_time": "2023-05-03T10:51:58.580Z"
   },
   {
    "duration": 0,
    "start_time": "2023-05-03T10:51:58.581Z"
   },
   {
    "duration": 0,
    "start_time": "2023-05-03T10:51:58.582Z"
   },
   {
    "duration": 0,
    "start_time": "2023-05-03T10:51:58.583Z"
   },
   {
    "duration": 0,
    "start_time": "2023-05-03T10:51:58.584Z"
   },
   {
    "duration": 0,
    "start_time": "2023-05-03T10:51:58.585Z"
   },
   {
    "duration": 0,
    "start_time": "2023-05-03T10:51:58.586Z"
   },
   {
    "duration": 0,
    "start_time": "2023-05-03T10:51:58.588Z"
   },
   {
    "duration": 118,
    "start_time": "2023-05-03T10:52:53.241Z"
   },
   {
    "duration": 124,
    "start_time": "2023-05-03T10:52:55.870Z"
   },
   {
    "duration": 77,
    "start_time": "2023-05-03T10:53:19.057Z"
   },
   {
    "duration": 18,
    "start_time": "2023-05-03T10:56:57.080Z"
   },
   {
    "duration": 21,
    "start_time": "2023-05-03T10:57:54.225Z"
   },
   {
    "duration": 18,
    "start_time": "2023-05-03T10:58:21.086Z"
   },
   {
    "duration": 21,
    "start_time": "2023-05-03T10:58:46.278Z"
   },
   {
    "duration": 18,
    "start_time": "2023-05-03T10:59:12.581Z"
   },
   {
    "duration": 19,
    "start_time": "2023-05-03T10:59:39.338Z"
   },
   {
    "duration": 19,
    "start_time": "2023-05-03T11:00:22.907Z"
   },
   {
    "duration": 17,
    "start_time": "2023-05-03T11:00:39.546Z"
   },
   {
    "duration": 16,
    "start_time": "2023-05-03T11:00:46.458Z"
   },
   {
    "duration": 78,
    "start_time": "2023-05-03T11:01:22.506Z"
   },
   {
    "duration": 75,
    "start_time": "2023-05-03T11:02:11.206Z"
   },
   {
    "duration": 131,
    "start_time": "2023-05-03T11:04:03.973Z"
   },
   {
    "duration": 4,
    "start_time": "2023-05-03T11:04:26.751Z"
   },
   {
    "duration": 169,
    "start_time": "2023-05-03T11:04:26.757Z"
   },
   {
    "duration": 8,
    "start_time": "2023-05-03T11:04:26.928Z"
   },
   {
    "duration": 28,
    "start_time": "2023-05-03T11:04:26.938Z"
   },
   {
    "duration": 51,
    "start_time": "2023-05-03T11:04:26.968Z"
   },
   {
    "duration": 72,
    "start_time": "2023-05-03T11:04:27.021Z"
   },
   {
    "duration": 190,
    "start_time": "2023-05-03T11:04:27.095Z"
   },
   {
    "duration": 56,
    "start_time": "2023-05-03T11:04:27.287Z"
   },
   {
    "duration": 12,
    "start_time": "2023-05-03T11:04:27.360Z"
   },
   {
    "duration": 20,
    "start_time": "2023-05-03T11:04:27.375Z"
   },
   {
    "duration": 15,
    "start_time": "2023-05-03T11:04:27.397Z"
   },
   {
    "duration": 5225,
    "start_time": "2023-05-03T11:04:27.414Z"
   },
   {
    "duration": 141,
    "start_time": "2023-05-03T11:04:32.642Z"
   },
   {
    "duration": 18,
    "start_time": "2023-05-03T11:04:32.785Z"
   },
   {
    "duration": 23,
    "start_time": "2023-05-03T11:04:32.861Z"
   },
   {
    "duration": 80,
    "start_time": "2023-05-03T11:04:32.886Z"
   },
   {
    "duration": 117,
    "start_time": "2023-05-03T11:04:32.968Z"
   },
   {
    "duration": 181,
    "start_time": "2023-05-03T11:04:33.087Z"
   },
   {
    "duration": 34,
    "start_time": "2023-05-03T11:04:33.269Z"
   },
   {
    "duration": 7,
    "start_time": "2023-05-03T11:04:33.305Z"
   },
   {
    "duration": 18,
    "start_time": "2023-05-03T11:04:33.314Z"
   },
   {
    "duration": 27,
    "start_time": "2023-05-03T11:04:33.333Z"
   },
   {
    "duration": 14,
    "start_time": "2023-05-03T11:04:33.362Z"
   },
   {
    "duration": 31,
    "start_time": "2023-05-03T11:04:33.378Z"
   },
   {
    "duration": 55,
    "start_time": "2023-05-03T11:04:33.410Z"
   },
   {
    "duration": 147,
    "start_time": "2023-05-03T11:04:33.466Z"
   },
   {
    "duration": 15,
    "start_time": "2023-05-03T11:04:33.615Z"
   },
   {
    "duration": 5116,
    "start_time": "2023-05-03T11:04:33.633Z"
   },
   {
    "duration": 10,
    "start_time": "2023-05-03T11:04:38.751Z"
   },
   {
    "duration": 98,
    "start_time": "2023-05-03T11:04:38.764Z"
   },
   {
    "duration": 22,
    "start_time": "2023-05-03T11:04:38.864Z"
   },
   {
    "duration": 78,
    "start_time": "2023-05-03T11:04:38.888Z"
   },
   {
    "duration": 21,
    "start_time": "2023-05-03T11:04:38.968Z"
   },
   {
    "duration": 12,
    "start_time": "2023-05-03T11:04:38.990Z"
   },
   {
    "duration": 6,
    "start_time": "2023-05-03T11:04:39.059Z"
   },
   {
    "duration": 117,
    "start_time": "2023-05-03T11:04:39.067Z"
   },
   {
    "duration": 116,
    "start_time": "2023-05-03T11:04:39.186Z"
   },
   {
    "duration": 116,
    "start_time": "2023-05-03T11:04:39.304Z"
   },
   {
    "duration": 88,
    "start_time": "2023-05-03T11:04:39.422Z"
   },
   {
    "duration": 893,
    "start_time": "2023-05-03T19:09:44.197Z"
   },
   {
    "duration": 894,
    "start_time": "2023-05-03T19:09:45.092Z"
   },
   {
    "duration": 14,
    "start_time": "2023-05-03T19:09:45.987Z"
   },
   {
    "duration": 19,
    "start_time": "2023-05-03T19:09:46.002Z"
   },
   {
    "duration": 72,
    "start_time": "2023-05-03T19:09:46.023Z"
   },
   {
    "duration": 69,
    "start_time": "2023-05-03T19:09:46.096Z"
   },
   {
    "duration": 116,
    "start_time": "2023-05-03T19:09:46.167Z"
   },
   {
    "duration": 57,
    "start_time": "2023-05-03T19:09:46.285Z"
   },
   {
    "duration": 10,
    "start_time": "2023-05-03T19:09:46.343Z"
   },
   {
    "duration": 40,
    "start_time": "2023-05-03T19:09:46.354Z"
   },
   {
    "duration": 7,
    "start_time": "2023-05-03T19:09:46.396Z"
   },
   {
    "duration": 4843,
    "start_time": "2023-05-03T19:09:46.404Z"
   },
   {
    "duration": 86,
    "start_time": "2023-05-03T19:09:51.250Z"
   },
   {
    "duration": 72,
    "start_time": "2023-05-03T19:09:51.339Z"
   },
   {
    "duration": 22,
    "start_time": "2023-05-03T19:09:51.412Z"
   },
   {
    "duration": 77,
    "start_time": "2023-05-03T19:09:51.436Z"
   },
   {
    "duration": 186,
    "start_time": "2023-05-03T19:09:51.515Z"
   },
   {
    "duration": 121,
    "start_time": "2023-05-03T19:09:51.703Z"
   },
   {
    "duration": 209,
    "start_time": "2023-05-03T19:09:51.826Z"
   },
   {
    "duration": 58,
    "start_time": "2023-05-03T19:09:52.037Z"
   },
   {
    "duration": 20,
    "start_time": "2023-05-03T19:09:52.097Z"
   },
   {
    "duration": 9,
    "start_time": "2023-05-03T19:09:52.119Z"
   },
   {
    "duration": 10,
    "start_time": "2023-05-03T19:09:52.131Z"
   },
   {
    "duration": 89,
    "start_time": "2023-05-03T19:09:52.143Z"
   },
   {
    "duration": 73,
    "start_time": "2023-05-03T19:09:52.234Z"
   },
   {
    "duration": 124,
    "start_time": "2023-05-03T19:09:52.309Z"
   },
   {
    "duration": 16,
    "start_time": "2023-05-03T19:09:52.435Z"
   },
   {
    "duration": 5110,
    "start_time": "2023-05-03T19:09:52.453Z"
   },
   {
    "duration": 29,
    "start_time": "2023-05-03T19:09:57.565Z"
   },
   {
    "duration": 32,
    "start_time": "2023-05-03T19:09:57.597Z"
   },
   {
    "duration": 75,
    "start_time": "2023-05-03T19:09:57.631Z"
   },
   {
    "duration": 28,
    "start_time": "2023-05-03T19:09:57.708Z"
   },
   {
    "duration": 82,
    "start_time": "2023-05-03T19:09:57.738Z"
   },
   {
    "duration": 12,
    "start_time": "2023-05-03T19:09:57.822Z"
   },
   {
    "duration": 63,
    "start_time": "2023-05-03T19:09:57.836Z"
   },
   {
    "duration": 120,
    "start_time": "2023-05-03T19:09:57.902Z"
   },
   {
    "duration": 175,
    "start_time": "2023-05-03T19:09:58.024Z"
   },
   {
    "duration": 134,
    "start_time": "2023-05-03T19:09:58.201Z"
   },
   {
    "duration": 73,
    "start_time": "2023-05-03T19:09:58.337Z"
   },
   {
    "duration": 1133,
    "start_time": "2023-05-04T12:44:22.650Z"
   },
   {
    "duration": 178,
    "start_time": "2023-05-04T12:44:23.785Z"
   },
   {
    "duration": 24,
    "start_time": "2023-05-04T12:44:23.972Z"
   },
   {
    "duration": 29,
    "start_time": "2023-05-04T12:44:24.003Z"
   },
   {
    "duration": 88,
    "start_time": "2023-05-04T12:44:24.034Z"
   },
   {
    "duration": 104,
    "start_time": "2023-05-04T12:44:24.125Z"
   },
   {
    "duration": 179,
    "start_time": "2023-05-04T12:44:24.232Z"
   },
   {
    "duration": 105,
    "start_time": "2023-05-04T12:44:24.414Z"
   },
   {
    "duration": 17,
    "start_time": "2023-05-04T12:44:24.521Z"
   },
   {
    "duration": 28,
    "start_time": "2023-05-04T12:44:24.564Z"
   },
   {
    "duration": 24,
    "start_time": "2023-05-04T12:44:24.595Z"
   },
   {
    "duration": 6983,
    "start_time": "2023-05-04T12:44:24.621Z"
   },
   {
    "duration": 173,
    "start_time": "2023-05-04T12:44:31.606Z"
   },
   {
    "duration": 21,
    "start_time": "2023-05-04T12:44:31.783Z"
   },
   {
    "duration": 69,
    "start_time": "2023-05-04T12:44:31.806Z"
   },
   {
    "duration": 30,
    "start_time": "2023-05-04T12:44:31.877Z"
   },
   {
    "duration": 165,
    "start_time": "2023-05-04T12:44:31.908Z"
   },
   {
    "duration": 194,
    "start_time": "2023-05-04T12:44:32.075Z"
   },
   {
    "duration": 189,
    "start_time": "2023-05-04T12:44:32.271Z"
   },
   {
    "duration": 6,
    "start_time": "2023-05-04T12:44:32.462Z"
   },
   {
    "duration": 24,
    "start_time": "2023-05-04T12:44:32.471Z"
   },
   {
    "duration": 6,
    "start_time": "2023-05-04T12:44:32.497Z"
   },
   {
    "duration": 9,
    "start_time": "2023-05-04T12:44:32.506Z"
   },
   {
    "duration": 57,
    "start_time": "2023-05-04T12:44:32.517Z"
   },
   {
    "duration": 61,
    "start_time": "2023-05-04T12:44:32.577Z"
   },
   {
    "duration": 168,
    "start_time": "2023-05-04T12:44:32.655Z"
   },
   {
    "duration": 91,
    "start_time": "2023-05-04T12:44:32.824Z"
   },
   {
    "duration": 6182,
    "start_time": "2023-05-04T12:44:32.918Z"
   },
   {
    "duration": 7,
    "start_time": "2023-05-04T12:44:39.103Z"
   },
   {
    "duration": 89,
    "start_time": "2023-05-04T12:44:39.112Z"
   },
   {
    "duration": 64,
    "start_time": "2023-05-04T12:44:39.204Z"
   },
   {
    "duration": 28,
    "start_time": "2023-05-04T12:44:39.269Z"
   },
   {
    "duration": 80,
    "start_time": "2023-05-04T12:44:39.299Z"
   },
   {
    "duration": 16,
    "start_time": "2023-05-04T12:44:39.380Z"
   },
   {
    "duration": 69,
    "start_time": "2023-05-04T12:44:39.398Z"
   },
   {
    "duration": 183,
    "start_time": "2023-05-04T12:44:39.477Z"
   },
   {
    "duration": 149,
    "start_time": "2023-05-04T12:44:39.662Z"
   },
   {
    "duration": 67,
    "start_time": "2023-05-04T12:44:39.870Z"
   },
   {
    "duration": 72,
    "start_time": "2023-05-04T12:44:39.938Z"
   },
   {
    "duration": 986,
    "start_time": "2023-05-04T12:50:44.412Z"
   },
   {
    "duration": 165,
    "start_time": "2023-05-04T12:50:45.400Z"
   },
   {
    "duration": 22,
    "start_time": "2023-05-04T12:50:45.568Z"
   },
   {
    "duration": 18,
    "start_time": "2023-05-04T12:50:45.591Z"
   },
   {
    "duration": 82,
    "start_time": "2023-05-04T12:50:45.612Z"
   },
   {
    "duration": 93,
    "start_time": "2023-05-04T12:50:45.695Z"
   },
   {
    "duration": 149,
    "start_time": "2023-05-04T12:50:45.791Z"
   },
   {
    "duration": 73,
    "start_time": "2023-05-04T12:50:45.941Z"
   },
   {
    "duration": 10,
    "start_time": "2023-05-04T12:50:46.016Z"
   },
   {
    "duration": 30,
    "start_time": "2023-05-04T12:50:46.028Z"
   },
   {
    "duration": 28,
    "start_time": "2023-05-04T12:50:46.060Z"
   },
   {
    "duration": 102,
    "start_time": "2023-05-04T12:50:46.090Z"
   },
   {
    "duration": 19,
    "start_time": "2023-05-04T12:50:46.194Z"
   },
   {
    "duration": 46,
    "start_time": "2023-05-04T12:50:46.215Z"
   },
   {
    "duration": 35,
    "start_time": "2023-05-04T12:50:46.263Z"
   },
   {
    "duration": 74,
    "start_time": "2023-05-04T12:50:46.300Z"
   },
   {
    "duration": 94,
    "start_time": "2023-05-04T12:50:46.375Z"
   },
   {
    "duration": 7,
    "start_time": "2023-05-04T12:50:46.470Z"
   },
   {
    "duration": 9,
    "start_time": "2023-05-04T12:50:46.479Z"
   },
   {
    "duration": 13,
    "start_time": "2023-05-04T12:50:46.490Z"
   },
   {
    "duration": 32,
    "start_time": "2023-05-04T12:50:46.504Z"
   },
   {
    "duration": 39,
    "start_time": "2023-05-04T12:50:46.558Z"
   },
   {
    "duration": 146,
    "start_time": "2023-05-04T12:50:46.599Z"
   },
   {
    "duration": 16,
    "start_time": "2023-05-04T12:50:46.747Z"
   },
   {
    "duration": 34,
    "start_time": "2023-05-04T12:50:46.769Z"
   },
   {
    "duration": 21,
    "start_time": "2023-05-04T12:50:46.805Z"
   },
   {
    "duration": 21,
    "start_time": "2023-05-04T12:50:46.828Z"
   },
   {
    "duration": 31,
    "start_time": "2023-05-04T12:50:46.856Z"
   },
   {
    "duration": 12,
    "start_time": "2023-05-04T12:50:46.888Z"
   },
   {
    "duration": 14,
    "start_time": "2023-05-04T12:50:46.902Z"
   },
   {
    "duration": 92,
    "start_time": "2023-05-04T12:50:46.918Z"
   },
   {
    "duration": 102,
    "start_time": "2023-05-04T12:50:47.011Z"
   },
   {
    "duration": 90,
    "start_time": "2023-05-04T12:50:47.116Z"
   },
   {
    "duration": 92,
    "start_time": "2023-05-04T12:50:47.208Z"
   }
  ],
  "colab": {
   "provenance": []
  },
  "kernelspec": {
   "display_name": "Python 3 (ipykernel)",
   "language": "python",
   "name": "python3"
  },
  "language_info": {
   "codemirror_mode": {
    "name": "ipython",
    "version": 3
   },
   "file_extension": ".py",
   "mimetype": "text/x-python",
   "name": "python",
   "nbconvert_exporter": "python",
   "pygments_lexer": "ipython3",
   "version": "3.11.4"
  },
  "toc": {
   "base_numbering": 1,
   "nav_menu": {},
   "number_sections": false,
   "sideBar": true,
   "skip_h1_title": false,
   "title_cell": "Table of Contents",
   "title_sidebar": "Contents",
   "toc_cell": false,
   "toc_position": {
    "height": "calc(100% - 180px)",
    "left": "10px",
    "top": "150px",
    "width": "303.267px"
   },
   "toc_section_display": true,
   "toc_window_display": true
  }
 },
 "nbformat": 4,
 "nbformat_minor": 1
}
