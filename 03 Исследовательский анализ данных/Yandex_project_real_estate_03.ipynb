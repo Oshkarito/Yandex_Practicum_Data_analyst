{
 "cells": [
  {
   "attachments": {},
   "cell_type": "markdown",
   "metadata": {},
   "source": [
    "# Цель проекта.\n",
    "+ Выполнить предобработку данных и изучить их, найти интересные особенности и зависимости, которые существуют на рынке недвижимости города Санкт-Петербурга и соседних населеных пунктов.\n",
    "+ Попытаться понять из каких параметров складывается цена продажи.\n",
    "+ Посчитать среднюю цену одного квадратного метра в 10 населённых пунктах с наибольшим числом объявлений.\n",
    "+ Понять как стоимость объектов в городе зависит от расстояния до центра города Санкт-Петербурга"
   ]
  },
  {
   "attachments": {},
   "cell_type": "markdown",
   "metadata": {
    "id": "J6VyO2MxwRaK"
   },
   "source": [
    "# 1. Откройте файл с данными и изучите общую информацию."
   ]
  },
  {
   "cell_type": "code",
   "execution_count": 1,
   "metadata": {
    "id": "Uzb5VsbgLsAw"
   },
   "outputs": [],
   "source": [
    "import pandas as pd"
   ]
  },
  {
   "cell_type": "code",
   "execution_count": 2,
   "metadata": {
    "deletable": false,
    "id": "fdd1effa"
   },
   "outputs": [],
   "source": [
    "try:\n",
    "    df = pd.read_csv('/real_estate_data.csv', delimiter='\\t')\n",
    "except:\n",
    "    df = pd.read_csv('https://code.s3.yandex.net/datasets/real_estate_data.csv', delimiter='\\t')"
   ]
  },
  {
   "cell_type": "code",
   "execution_count": 3,
   "metadata": {
    "colab": {
     "base_uri": "https://localhost:8080/",
     "height": 386
    },
    "id": "0sLT5FnlCmEF",
    "outputId": "68a6c8b0-89ed-4ed0-ddcf-8e948757da69"
   },
   "outputs": [
    {
     "data": {
      "text/html": [
       "<div>\n",
       "<style scoped>\n",
       "    .dataframe tbody tr th:only-of-type {\n",
       "        vertical-align: middle;\n",
       "    }\n",
       "\n",
       "    .dataframe tbody tr th {\n",
       "        vertical-align: top;\n",
       "    }\n",
       "\n",
       "    .dataframe thead th {\n",
       "        text-align: right;\n",
       "    }\n",
       "</style>\n",
       "<table border=\"1\" class=\"dataframe\">\n",
       "  <thead>\n",
       "    <tr style=\"text-align: right;\">\n",
       "      <th></th>\n",
       "      <th>total_images</th>\n",
       "      <th>last_price</th>\n",
       "      <th>total_area</th>\n",
       "      <th>first_day_exposition</th>\n",
       "      <th>rooms</th>\n",
       "      <th>ceiling_height</th>\n",
       "      <th>floors_total</th>\n",
       "      <th>living_area</th>\n",
       "      <th>floor</th>\n",
       "      <th>is_apartment</th>\n",
       "      <th>...</th>\n",
       "      <th>kitchen_area</th>\n",
       "      <th>balcony</th>\n",
       "      <th>locality_name</th>\n",
       "      <th>airports_nearest</th>\n",
       "      <th>cityCenters_nearest</th>\n",
       "      <th>parks_around3000</th>\n",
       "      <th>parks_nearest</th>\n",
       "      <th>ponds_around3000</th>\n",
       "      <th>ponds_nearest</th>\n",
       "      <th>days_exposition</th>\n",
       "    </tr>\n",
       "  </thead>\n",
       "  <tbody>\n",
       "    <tr>\n",
       "      <th>0</th>\n",
       "      <td>20</td>\n",
       "      <td>13000000.0</td>\n",
       "      <td>108.0</td>\n",
       "      <td>2019-03-07T00:00:00</td>\n",
       "      <td>3</td>\n",
       "      <td>2.70</td>\n",
       "      <td>16.0</td>\n",
       "      <td>51.0</td>\n",
       "      <td>8</td>\n",
       "      <td>NaN</td>\n",
       "      <td>...</td>\n",
       "      <td>25.0</td>\n",
       "      <td>NaN</td>\n",
       "      <td>Санкт-Петербург</td>\n",
       "      <td>18863.0</td>\n",
       "      <td>16028.0</td>\n",
       "      <td>1.0</td>\n",
       "      <td>482.0</td>\n",
       "      <td>2.0</td>\n",
       "      <td>755.0</td>\n",
       "      <td>NaN</td>\n",
       "    </tr>\n",
       "    <tr>\n",
       "      <th>1</th>\n",
       "      <td>7</td>\n",
       "      <td>3350000.0</td>\n",
       "      <td>40.4</td>\n",
       "      <td>2018-12-04T00:00:00</td>\n",
       "      <td>1</td>\n",
       "      <td>NaN</td>\n",
       "      <td>11.0</td>\n",
       "      <td>18.6</td>\n",
       "      <td>1</td>\n",
       "      <td>NaN</td>\n",
       "      <td>...</td>\n",
       "      <td>11.0</td>\n",
       "      <td>2.0</td>\n",
       "      <td>посёлок Шушары</td>\n",
       "      <td>12817.0</td>\n",
       "      <td>18603.0</td>\n",
       "      <td>0.0</td>\n",
       "      <td>NaN</td>\n",
       "      <td>0.0</td>\n",
       "      <td>NaN</td>\n",
       "      <td>81.0</td>\n",
       "    </tr>\n",
       "    <tr>\n",
       "      <th>2</th>\n",
       "      <td>10</td>\n",
       "      <td>5196000.0</td>\n",
       "      <td>56.0</td>\n",
       "      <td>2015-08-20T00:00:00</td>\n",
       "      <td>2</td>\n",
       "      <td>NaN</td>\n",
       "      <td>5.0</td>\n",
       "      <td>34.3</td>\n",
       "      <td>4</td>\n",
       "      <td>NaN</td>\n",
       "      <td>...</td>\n",
       "      <td>8.3</td>\n",
       "      <td>0.0</td>\n",
       "      <td>Санкт-Петербург</td>\n",
       "      <td>21741.0</td>\n",
       "      <td>13933.0</td>\n",
       "      <td>1.0</td>\n",
       "      <td>90.0</td>\n",
       "      <td>2.0</td>\n",
       "      <td>574.0</td>\n",
       "      <td>558.0</td>\n",
       "    </tr>\n",
       "    <tr>\n",
       "      <th>3</th>\n",
       "      <td>0</td>\n",
       "      <td>64900000.0</td>\n",
       "      <td>159.0</td>\n",
       "      <td>2015-07-24T00:00:00</td>\n",
       "      <td>3</td>\n",
       "      <td>NaN</td>\n",
       "      <td>14.0</td>\n",
       "      <td>NaN</td>\n",
       "      <td>9</td>\n",
       "      <td>NaN</td>\n",
       "      <td>...</td>\n",
       "      <td>NaN</td>\n",
       "      <td>0.0</td>\n",
       "      <td>Санкт-Петербург</td>\n",
       "      <td>28098.0</td>\n",
       "      <td>6800.0</td>\n",
       "      <td>2.0</td>\n",
       "      <td>84.0</td>\n",
       "      <td>3.0</td>\n",
       "      <td>234.0</td>\n",
       "      <td>424.0</td>\n",
       "    </tr>\n",
       "    <tr>\n",
       "      <th>4</th>\n",
       "      <td>2</td>\n",
       "      <td>10000000.0</td>\n",
       "      <td>100.0</td>\n",
       "      <td>2018-06-19T00:00:00</td>\n",
       "      <td>2</td>\n",
       "      <td>3.03</td>\n",
       "      <td>14.0</td>\n",
       "      <td>32.0</td>\n",
       "      <td>13</td>\n",
       "      <td>NaN</td>\n",
       "      <td>...</td>\n",
       "      <td>41.0</td>\n",
       "      <td>NaN</td>\n",
       "      <td>Санкт-Петербург</td>\n",
       "      <td>31856.0</td>\n",
       "      <td>8098.0</td>\n",
       "      <td>2.0</td>\n",
       "      <td>112.0</td>\n",
       "      <td>1.0</td>\n",
       "      <td>48.0</td>\n",
       "      <td>121.0</td>\n",
       "    </tr>\n",
       "  </tbody>\n",
       "</table>\n",
       "<p>5 rows × 22 columns</p>\n",
       "</div>"
      ],
      "text/plain": [
       "   total_images  last_price  total_area first_day_exposition  rooms  \\\n",
       "0            20  13000000.0       108.0  2019-03-07T00:00:00      3   \n",
       "1             7   3350000.0        40.4  2018-12-04T00:00:00      1   \n",
       "2            10   5196000.0        56.0  2015-08-20T00:00:00      2   \n",
       "3             0  64900000.0       159.0  2015-07-24T00:00:00      3   \n",
       "4             2  10000000.0       100.0  2018-06-19T00:00:00      2   \n",
       "\n",
       "   ceiling_height  floors_total  living_area  floor is_apartment  ...  \\\n",
       "0            2.70          16.0         51.0      8          NaN  ...   \n",
       "1             NaN          11.0         18.6      1          NaN  ...   \n",
       "2             NaN           5.0         34.3      4          NaN  ...   \n",
       "3             NaN          14.0          NaN      9          NaN  ...   \n",
       "4            3.03          14.0         32.0     13          NaN  ...   \n",
       "\n",
       "   kitchen_area  balcony    locality_name  airports_nearest  \\\n",
       "0          25.0      NaN  Санкт-Петербург           18863.0   \n",
       "1          11.0      2.0   посёлок Шушары           12817.0   \n",
       "2           8.3      0.0  Санкт-Петербург           21741.0   \n",
       "3           NaN      0.0  Санкт-Петербург           28098.0   \n",
       "4          41.0      NaN  Санкт-Петербург           31856.0   \n",
       "\n",
       "  cityCenters_nearest  parks_around3000  parks_nearest  ponds_around3000  \\\n",
       "0             16028.0               1.0          482.0               2.0   \n",
       "1             18603.0               0.0            NaN               0.0   \n",
       "2             13933.0               1.0           90.0               2.0   \n",
       "3              6800.0               2.0           84.0               3.0   \n",
       "4              8098.0               2.0          112.0               1.0   \n",
       "\n",
       "   ponds_nearest  days_exposition  \n",
       "0          755.0              NaN  \n",
       "1            NaN             81.0  \n",
       "2          574.0            558.0  \n",
       "3          234.0            424.0  \n",
       "4           48.0            121.0  \n",
       "\n",
       "[5 rows x 22 columns]"
      ]
     },
     "execution_count": 3,
     "metadata": {},
     "output_type": "execute_result"
    }
   ],
   "source": [
    "df.head()"
   ]
  },
  {
   "cell_type": "code",
   "execution_count": 4,
   "metadata": {
    "colab": {
     "base_uri": "https://localhost:8080/",
     "height": 191
    },
    "id": "g_0geZ9HGtfy",
    "outputId": "5ba2a940-76b7-404c-e340-4f824f03c755"
   },
   "outputs": [
    {
     "data": {
      "text/html": [
       "<div>\n",
       "<style scoped>\n",
       "    .dataframe tbody tr th:only-of-type {\n",
       "        vertical-align: middle;\n",
       "    }\n",
       "\n",
       "    .dataframe tbody tr th {\n",
       "        vertical-align: top;\n",
       "    }\n",
       "\n",
       "    .dataframe thead th {\n",
       "        text-align: right;\n",
       "    }\n",
       "</style>\n",
       "<table border=\"1\" class=\"dataframe\">\n",
       "  <thead>\n",
       "    <tr style=\"text-align: right;\">\n",
       "      <th></th>\n",
       "      <th>total_images</th>\n",
       "      <th>last_price</th>\n",
       "      <th>total_area</th>\n",
       "      <th>first_day_exposition</th>\n",
       "      <th>rooms</th>\n",
       "      <th>ceiling_height</th>\n",
       "      <th>floors_total</th>\n",
       "      <th>living_area</th>\n",
       "      <th>floor</th>\n",
       "      <th>is_apartment</th>\n",
       "      <th>...</th>\n",
       "      <th>kitchen_area</th>\n",
       "      <th>balcony</th>\n",
       "      <th>locality_name</th>\n",
       "      <th>airports_nearest</th>\n",
       "      <th>cityCenters_nearest</th>\n",
       "      <th>parks_around3000</th>\n",
       "      <th>parks_nearest</th>\n",
       "      <th>ponds_around3000</th>\n",
       "      <th>ponds_nearest</th>\n",
       "      <th>days_exposition</th>\n",
       "    </tr>\n",
       "  </thead>\n",
       "  <tbody>\n",
       "    <tr>\n",
       "      <th>18557</th>\n",
       "      <td>10</td>\n",
       "      <td>12500000.0</td>\n",
       "      <td>100.0</td>\n",
       "      <td>2016-08-17T00:00:00</td>\n",
       "      <td>3</td>\n",
       "      <td>2.75</td>\n",
       "      <td>19.0</td>\n",
       "      <td>58.0</td>\n",
       "      <td>3</td>\n",
       "      <td>NaN</td>\n",
       "      <td>...</td>\n",
       "      <td>15.5</td>\n",
       "      <td>0.0</td>\n",
       "      <td>Санкт-Петербург</td>\n",
       "      <td>NaN</td>\n",
       "      <td>13355.0</td>\n",
       "      <td>1.0</td>\n",
       "      <td>735.0</td>\n",
       "      <td>0.0</td>\n",
       "      <td>NaN</td>\n",
       "      <td>161.0</td>\n",
       "    </tr>\n",
       "  </tbody>\n",
       "</table>\n",
       "<p>1 rows × 22 columns</p>\n",
       "</div>"
      ],
      "text/plain": [
       "       total_images  last_price  total_area first_day_exposition  rooms  \\\n",
       "18557            10  12500000.0       100.0  2016-08-17T00:00:00      3   \n",
       "\n",
       "       ceiling_height  floors_total  living_area  floor is_apartment  ...  \\\n",
       "18557            2.75          19.0         58.0      3          NaN  ...   \n",
       "\n",
       "       kitchen_area  balcony    locality_name  airports_nearest  \\\n",
       "18557          15.5      0.0  Санкт-Петербург               NaN   \n",
       "\n",
       "      cityCenters_nearest  parks_around3000  parks_nearest  ponds_around3000  \\\n",
       "18557             13355.0               1.0          735.0               0.0   \n",
       "\n",
       "       ponds_nearest  days_exposition  \n",
       "18557            NaN            161.0  \n",
       "\n",
       "[1 rows x 22 columns]"
      ]
     },
     "execution_count": 4,
     "metadata": {},
     "output_type": "execute_result"
    }
   ],
   "source": [
    "df.sample()"
   ]
  },
  {
   "cell_type": "code",
   "execution_count": 5,
   "metadata": {
    "colab": {
     "base_uri": "https://localhost:8080/"
    },
    "id": "WUvhd_Y7CamL",
    "outputId": "f7258400-0c52-4a08-c809-e1d633f3e8ef"
   },
   "outputs": [
    {
     "name": "stdout",
     "output_type": "stream",
     "text": [
      "<class 'pandas.core.frame.DataFrame'>\n",
      "RangeIndex: 23699 entries, 0 to 23698\n",
      "Data columns (total 22 columns):\n",
      " #   Column                Non-Null Count  Dtype  \n",
      "---  ------                --------------  -----  \n",
      " 0   total_images          23699 non-null  int64  \n",
      " 1   last_price            23699 non-null  float64\n",
      " 2   total_area            23699 non-null  float64\n",
      " 3   first_day_exposition  23699 non-null  object \n",
      " 4   rooms                 23699 non-null  int64  \n",
      " 5   ceiling_height        14504 non-null  float64\n",
      " 6   floors_total          23613 non-null  float64\n",
      " 7   living_area           21796 non-null  float64\n",
      " 8   floor                 23699 non-null  int64  \n",
      " 9   is_apartment          2775 non-null   object \n",
      " 10  studio                23699 non-null  bool   \n",
      " 11  open_plan             23699 non-null  bool   \n",
      " 12  kitchen_area          21421 non-null  float64\n",
      " 13  balcony               12180 non-null  float64\n",
      " 14  locality_name         23650 non-null  object \n",
      " 15  airports_nearest      18157 non-null  float64\n",
      " 16  cityCenters_nearest   18180 non-null  float64\n",
      " 17  parks_around3000      18181 non-null  float64\n",
      " 18  parks_nearest         8079 non-null   float64\n",
      " 19  ponds_around3000      18181 non-null  float64\n",
      " 20  ponds_nearest         9110 non-null   float64\n",
      " 21  days_exposition       20518 non-null  float64\n",
      "dtypes: bool(2), float64(14), int64(3), object(3)\n",
      "memory usage: 3.7+ MB\n"
     ]
    }
   ],
   "source": [
    "df.info()"
   ]
  },
  {
   "cell_type": "code",
   "execution_count": 6,
   "metadata": {
    "colab": {
     "base_uri": "https://localhost:8080/"
    },
    "id": "Hjs1z4_KD6GG",
    "outputId": "47c8be04-38c5-41d3-89c2-3c5e3cb3d70b"
   },
   "outputs": [
    {
     "data": {
      "text/plain": [
       "total_images                0\n",
       "open_plan                   0\n",
       "floor                       0\n",
       "rooms                       0\n",
       "studio                      0\n",
       "total_area                  0\n",
       "last_price                  0\n",
       "first_day_exposition        0\n",
       "locality_name              49\n",
       "floors_total               86\n",
       "living_area              1903\n",
       "kitchen_area             2278\n",
       "days_exposition          3181\n",
       "ponds_around3000         5518\n",
       "parks_around3000         5518\n",
       "cityCenters_nearest      5519\n",
       "airports_nearest         5542\n",
       "ceiling_height           9195\n",
       "balcony                 11519\n",
       "ponds_nearest           14589\n",
       "parks_nearest           15620\n",
       "is_apartment            20924\n",
       "dtype: int64"
      ]
     },
     "execution_count": 6,
     "metadata": {},
     "output_type": "execute_result"
    }
   ],
   "source": [
    "df.isna().sum().sort_values()"
   ]
  },
  {
   "cell_type": "code",
   "execution_count": 7,
   "metadata": {
    "colab": {
     "base_uri": "https://localhost:8080/",
     "height": 1000
    },
    "id": "m-G0ykDqofrl",
    "outputId": "de32d71b-d7fa-47bf-bd9c-4b8b9fab2a22"
   },
   "outputs": [
    {
     "data": {
      "text/plain": [
       "array([[<AxesSubplot:title={'center':'total_images'}>,\n",
       "        <AxesSubplot:title={'center':'last_price'}>,\n",
       "        <AxesSubplot:title={'center':'total_area'}>,\n",
       "        <AxesSubplot:title={'center':'rooms'}>],\n",
       "       [<AxesSubplot:title={'center':'ceiling_height'}>,\n",
       "        <AxesSubplot:title={'center':'floors_total'}>,\n",
       "        <AxesSubplot:title={'center':'living_area'}>,\n",
       "        <AxesSubplot:title={'center':'floor'}>],\n",
       "       [<AxesSubplot:title={'center':'kitchen_area'}>,\n",
       "        <AxesSubplot:title={'center':'balcony'}>,\n",
       "        <AxesSubplot:title={'center':'airports_nearest'}>,\n",
       "        <AxesSubplot:title={'center':'cityCenters_nearest'}>],\n",
       "       [<AxesSubplot:title={'center':'parks_around3000'}>,\n",
       "        <AxesSubplot:title={'center':'parks_nearest'}>,\n",
       "        <AxesSubplot:title={'center':'ponds_around3000'}>,\n",
       "        <AxesSubplot:title={'center':'ponds_nearest'}>],\n",
       "       [<AxesSubplot:title={'center':'days_exposition'}>, <AxesSubplot:>,\n",
       "        <AxesSubplot:>, <AxesSubplot:>]], dtype=object)"
      ]
     },
     "execution_count": 7,
     "metadata": {},
     "output_type": "execute_result"
    },
    {
     "data": {
      "image/png": "[encoded data removed]",
      "text/plain": [
       "<Figure size 1080x1440 with 20 Axes>"
      ]
     },
     "metadata": {
      "needs_background": "light"
     },
     "output_type": "display_data"
    }
   ],
   "source": [
    "df.hist(figsize=(15, 20))"
   ]
  },
  {
   "attachments": {},
   "cell_type": "markdown",
   "metadata": {
    "id": "8DqfqFDp6Dm6"
   },
   "source": [
    "**Вывод:** \n",
    "*   Отсутствуют значения\n",
    "*   Некорректные типы данных\n",
    "*   Название столбца cityCenters_nearest выбивается из общего правила.\n",
    "\n",
    "\n",
    "\n",
    "\n"
   ]
  },
  {
   "attachments": {},
   "cell_type": "markdown",
   "metadata": {
    "id": "LZRQgaE6wkH-"
   },
   "source": [
    "# 2.  Предобработка данных"
   ]
  },
  {
   "cell_type": "code",
   "execution_count": 8,
   "metadata": {
    "colab": {
     "base_uri": "https://localhost:8080/"
    },
    "id": "0mosdqp2t-MU",
    "outputId": "bf26d46c-7e28-41a0-c18d-8510bd3c4127"
   },
   "outputs": [
    {
     "data": {
      "text/plain": [
       "0"
      ]
     },
     "execution_count": 8,
     "metadata": {},
     "output_type": "execute_result"
    }
   ],
   "source": [
    "df.duplicated().sum() # явных дубликатов нет"
   ]
  },
  {
   "attachments": {},
   "cell_type": "markdown",
   "metadata": {
    "id": "rprCax4W-wCI"
   },
   "source": [
    "Для удобства восприятия меняю поле **last_price** на type int"
   ]
  },
  {
   "cell_type": "code",
   "execution_count": 9,
   "metadata": {
    "id": "xyhpV7Wi8NG0"
   },
   "outputs": [],
   "source": [
    "df['last_price'] = df['last_price'].astype(int)"
   ]
  },
  {
   "attachments": {},
   "cell_type": "markdown",
   "metadata": {
    "id": "9GOLlAIUd-8h"
   },
   "source": [
    "Так как врямя размещения объявления не указанно (только дата), меняю формат даты "
   ]
  },
  {
   "cell_type": "code",
   "execution_count": 10,
   "metadata": {
    "colab": {
     "base_uri": "https://localhost:8080/",
     "height": 386
    },
    "id": "bcSmB7DSTdxg",
    "outputId": "651accaa-4d3a-4861-fdd1-c8c63988cf8d"
   },
   "outputs": [
    {
     "data": {
      "text/html": [
       "<div>\n",
       "<style scoped>\n",
       "    .dataframe tbody tr th:only-of-type {\n",
       "        vertical-align: middle;\n",
       "    }\n",
       "\n",
       "    .dataframe tbody tr th {\n",
       "        vertical-align: top;\n",
       "    }\n",
       "\n",
       "    .dataframe thead th {\n",
       "        text-align: right;\n",
       "    }\n",
       "</style>\n",
       "<table border=\"1\" class=\"dataframe\">\n",
       "  <thead>\n",
       "    <tr style=\"text-align: right;\">\n",
       "      <th></th>\n",
       "      <th>total_images</th>\n",
       "      <th>last_price</th>\n",
       "      <th>total_area</th>\n",
       "      <th>first_day_exposition</th>\n",
       "      <th>rooms</th>\n",
       "      <th>ceiling_height</th>\n",
       "      <th>floors_total</th>\n",
       "      <th>living_area</th>\n",
       "      <th>floor</th>\n",
       "      <th>is_apartment</th>\n",
       "      <th>...</th>\n",
       "      <th>kitchen_area</th>\n",
       "      <th>balcony</th>\n",
       "      <th>locality_name</th>\n",
       "      <th>airports_nearest</th>\n",
       "      <th>cityCenters_nearest</th>\n",
       "      <th>parks_around3000</th>\n",
       "      <th>parks_nearest</th>\n",
       "      <th>ponds_around3000</th>\n",
       "      <th>ponds_nearest</th>\n",
       "      <th>days_exposition</th>\n",
       "    </tr>\n",
       "  </thead>\n",
       "  <tbody>\n",
       "    <tr>\n",
       "      <th>0</th>\n",
       "      <td>20</td>\n",
       "      <td>13000000</td>\n",
       "      <td>108.0</td>\n",
       "      <td>2019-03-07</td>\n",
       "      <td>3</td>\n",
       "      <td>2.70</td>\n",
       "      <td>16.0</td>\n",
       "      <td>51.0</td>\n",
       "      <td>8</td>\n",
       "      <td>NaN</td>\n",
       "      <td>...</td>\n",
       "      <td>25.0</td>\n",
       "      <td>NaN</td>\n",
       "      <td>Санкт-Петербург</td>\n",
       "      <td>18863.0</td>\n",
       "      <td>16028.0</td>\n",
       "      <td>1.0</td>\n",
       "      <td>482.0</td>\n",
       "      <td>2.0</td>\n",
       "      <td>755.0</td>\n",
       "      <td>NaN</td>\n",
       "    </tr>\n",
       "    <tr>\n",
       "      <th>1</th>\n",
       "      <td>7</td>\n",
       "      <td>3350000</td>\n",
       "      <td>40.4</td>\n",
       "      <td>2018-12-04</td>\n",
       "      <td>1</td>\n",
       "      <td>NaN</td>\n",
       "      <td>11.0</td>\n",
       "      <td>18.6</td>\n",
       "      <td>1</td>\n",
       "      <td>NaN</td>\n",
       "      <td>...</td>\n",
       "      <td>11.0</td>\n",
       "      <td>2.0</td>\n",
       "      <td>посёлок Шушары</td>\n",
       "      <td>12817.0</td>\n",
       "      <td>18603.0</td>\n",
       "      <td>0.0</td>\n",
       "      <td>NaN</td>\n",
       "      <td>0.0</td>\n",
       "      <td>NaN</td>\n",
       "      <td>81.0</td>\n",
       "    </tr>\n",
       "    <tr>\n",
       "      <th>2</th>\n",
       "      <td>10</td>\n",
       "      <td>5196000</td>\n",
       "      <td>56.0</td>\n",
       "      <td>2015-08-20</td>\n",
       "      <td>2</td>\n",
       "      <td>NaN</td>\n",
       "      <td>5.0</td>\n",
       "      <td>34.3</td>\n",
       "      <td>4</td>\n",
       "      <td>NaN</td>\n",
       "      <td>...</td>\n",
       "      <td>8.3</td>\n",
       "      <td>0.0</td>\n",
       "      <td>Санкт-Петербург</td>\n",
       "      <td>21741.0</td>\n",
       "      <td>13933.0</td>\n",
       "      <td>1.0</td>\n",
       "      <td>90.0</td>\n",
       "      <td>2.0</td>\n",
       "      <td>574.0</td>\n",
       "      <td>558.0</td>\n",
       "    </tr>\n",
       "    <tr>\n",
       "      <th>3</th>\n",
       "      <td>0</td>\n",
       "      <td>64900000</td>\n",
       "      <td>159.0</td>\n",
       "      <td>2015-07-24</td>\n",
       "      <td>3</td>\n",
       "      <td>NaN</td>\n",
       "      <td>14.0</td>\n",
       "      <td>NaN</td>\n",
       "      <td>9</td>\n",
       "      <td>NaN</td>\n",
       "      <td>...</td>\n",
       "      <td>NaN</td>\n",
       "      <td>0.0</td>\n",
       "      <td>Санкт-Петербург</td>\n",
       "      <td>28098.0</td>\n",
       "      <td>6800.0</td>\n",
       "      <td>2.0</td>\n",
       "      <td>84.0</td>\n",
       "      <td>3.0</td>\n",
       "      <td>234.0</td>\n",
       "      <td>424.0</td>\n",
       "    </tr>\n",
       "    <tr>\n",
       "      <th>4</th>\n",
       "      <td>2</td>\n",
       "      <td>10000000</td>\n",
       "      <td>100.0</td>\n",
       "      <td>2018-06-19</td>\n",
       "      <td>2</td>\n",
       "      <td>3.03</td>\n",
       "      <td>14.0</td>\n",
       "      <td>32.0</td>\n",
       "      <td>13</td>\n",
       "      <td>NaN</td>\n",
       "      <td>...</td>\n",
       "      <td>41.0</td>\n",
       "      <td>NaN</td>\n",
       "      <td>Санкт-Петербург</td>\n",
       "      <td>31856.0</td>\n",
       "      <td>8098.0</td>\n",
       "      <td>2.0</td>\n",
       "      <td>112.0</td>\n",
       "      <td>1.0</td>\n",
       "      <td>48.0</td>\n",
       "      <td>121.0</td>\n",
       "    </tr>\n",
       "  </tbody>\n",
       "</table>\n",
       "<p>5 rows × 22 columns</p>\n",
       "</div>"
      ],
      "text/plain": [
       "   total_images  last_price  total_area first_day_exposition  rooms  \\\n",
       "0            20    13000000       108.0           2019-03-07      3   \n",
       "1             7     3350000        40.4           2018-12-04      1   \n",
       "2            10     5196000        56.0           2015-08-20      2   \n",
       "3             0    64900000       159.0           2015-07-24      3   \n",
       "4             2    10000000       100.0           2018-06-19      2   \n",
       "\n",
       "   ceiling_height  floors_total  living_area  floor is_apartment  ...  \\\n",
       "0            2.70          16.0         51.0      8          NaN  ...   \n",
       "1             NaN          11.0         18.6      1          NaN  ...   \n",
       "2             NaN           5.0         34.3      4          NaN  ...   \n",
       "3             NaN          14.0          NaN      9          NaN  ...   \n",
       "4            3.03          14.0         32.0     13          NaN  ...   \n",
       "\n",
       "   kitchen_area  balcony    locality_name  airports_nearest  \\\n",
       "0          25.0      NaN  Санкт-Петербург           18863.0   \n",
       "1          11.0      2.0   посёлок Шушары           12817.0   \n",
       "2           8.3      0.0  Санкт-Петербург           21741.0   \n",
       "3           NaN      0.0  Санкт-Петербург           28098.0   \n",
       "4          41.0      NaN  Санкт-Петербург           31856.0   \n",
       "\n",
       "  cityCenters_nearest  parks_around3000  parks_nearest  ponds_around3000  \\\n",
       "0             16028.0               1.0          482.0               2.0   \n",
       "1             18603.0               0.0            NaN               0.0   \n",
       "2             13933.0               1.0           90.0               2.0   \n",
       "3              6800.0               2.0           84.0               3.0   \n",
       "4              8098.0               2.0          112.0               1.0   \n",
       "\n",
       "   ponds_nearest  days_exposition  \n",
       "0          755.0              NaN  \n",
       "1            NaN             81.0  \n",
       "2          574.0            558.0  \n",
       "3          234.0            424.0  \n",
       "4           48.0            121.0  \n",
       "\n",
       "[5 rows x 22 columns]"
      ]
     },
     "execution_count": 10,
     "metadata": {},
     "output_type": "execute_result"
    }
   ],
   "source": [
    "df['first_day_exposition'] = pd.to_datetime(df['first_day_exposition'], format = '%Y-%m-%d')\n",
    "df.head()"
   ]
  },
  {
   "attachments": {},
   "cell_type": "markdown",
   "metadata": {
    "id": "LmRoYAM4UWTp"
   },
   "source": [
    "Заменю все значения 0 в поле rooms на значение 1. Так как площадь таких квартир маленькая и большая часть из них имеют атрибут True по полю studio."
   ]
  },
  {
   "cell_type": "code",
   "execution_count": 11,
   "metadata": {
    "colab": {
     "base_uri": "https://localhost:8080/"
    },
    "id": "llukR9crSaED",
    "outputId": "b5c748fe-bd45-40a0-e6a9-6858b636c3fd"
   },
   "outputs": [
    {
     "data": {
      "text/plain": [
       "array([ 3,  1,  2,  4,  5,  6,  7, 11,  8, 14, 10, 15,  9, 19, 16, 12])"
      ]
     },
     "execution_count": 11,
     "metadata": {},
     "output_type": "execute_result"
    }
   ],
   "source": [
    "df['rooms'] = df['rooms'].replace(0, 1)\n",
    "df['rooms'].unique()"
   ]
  },
  {
   "attachments": {},
   "cell_type": "markdown",
   "metadata": {
    "id": "_lvhdn400Zkh"
   },
   "source": [
    "Заменяю все значения NaN по полю **is_apartment** на **False** так как значений **True** по этому полю равно 50, то есть количество апартаментов указаных явно небольшое, а там где их пропустили, вероятность того что объекты апартаментами не являются, на мой взгляд высокая."
   ]
  },
  {
   "cell_type": "code",
   "execution_count": 12,
   "metadata": {
    "colab": {
     "base_uri": "https://localhost:8080/",
     "height": 386
    },
    "id": "rZI3DOyDxWgC",
    "outputId": "3b79bb7f-928e-4af5-db7a-b57f3c2d00b4"
   },
   "outputs": [
    {
     "data": {
      "text/html": [
       "<div>\n",
       "<style scoped>\n",
       "    .dataframe tbody tr th:only-of-type {\n",
       "        vertical-align: middle;\n",
       "    }\n",
       "\n",
       "    .dataframe tbody tr th {\n",
       "        vertical-align: top;\n",
       "    }\n",
       "\n",
       "    .dataframe thead th {\n",
       "        text-align: right;\n",
       "    }\n",
       "</style>\n",
       "<table border=\"1\" class=\"dataframe\">\n",
       "  <thead>\n",
       "    <tr style=\"text-align: right;\">\n",
       "      <th></th>\n",
       "      <th>total_images</th>\n",
       "      <th>last_price</th>\n",
       "      <th>total_area</th>\n",
       "      <th>first_day_exposition</th>\n",
       "      <th>rooms</th>\n",
       "      <th>ceiling_height</th>\n",
       "      <th>floors_total</th>\n",
       "      <th>living_area</th>\n",
       "      <th>floor</th>\n",
       "      <th>is_apartment</th>\n",
       "      <th>...</th>\n",
       "      <th>kitchen_area</th>\n",
       "      <th>balcony</th>\n",
       "      <th>locality_name</th>\n",
       "      <th>airports_nearest</th>\n",
       "      <th>cityCenters_nearest</th>\n",
       "      <th>parks_around3000</th>\n",
       "      <th>parks_nearest</th>\n",
       "      <th>ponds_around3000</th>\n",
       "      <th>ponds_nearest</th>\n",
       "      <th>days_exposition</th>\n",
       "    </tr>\n",
       "  </thead>\n",
       "  <tbody>\n",
       "    <tr>\n",
       "      <th>0</th>\n",
       "      <td>20</td>\n",
       "      <td>13000000</td>\n",
       "      <td>108.0</td>\n",
       "      <td>2019-03-07</td>\n",
       "      <td>3</td>\n",
       "      <td>2.70</td>\n",
       "      <td>16.0</td>\n",
       "      <td>51.0</td>\n",
       "      <td>8</td>\n",
       "      <td>False</td>\n",
       "      <td>...</td>\n",
       "      <td>25.0</td>\n",
       "      <td>NaN</td>\n",
       "      <td>Санкт-Петербург</td>\n",
       "      <td>18863.0</td>\n",
       "      <td>16028.0</td>\n",
       "      <td>1.0</td>\n",
       "      <td>482.0</td>\n",
       "      <td>2.0</td>\n",
       "      <td>755.0</td>\n",
       "      <td>NaN</td>\n",
       "    </tr>\n",
       "    <tr>\n",
       "      <th>1</th>\n",
       "      <td>7</td>\n",
       "      <td>3350000</td>\n",
       "      <td>40.4</td>\n",
       "      <td>2018-12-04</td>\n",
       "      <td>1</td>\n",
       "      <td>NaN</td>\n",
       "      <td>11.0</td>\n",
       "      <td>18.6</td>\n",
       "      <td>1</td>\n",
       "      <td>False</td>\n",
       "      <td>...</td>\n",
       "      <td>11.0</td>\n",
       "      <td>2.0</td>\n",
       "      <td>посёлок Шушары</td>\n",
       "      <td>12817.0</td>\n",
       "      <td>18603.0</td>\n",
       "      <td>0.0</td>\n",
       "      <td>NaN</td>\n",
       "      <td>0.0</td>\n",
       "      <td>NaN</td>\n",
       "      <td>81.0</td>\n",
       "    </tr>\n",
       "    <tr>\n",
       "      <th>2</th>\n",
       "      <td>10</td>\n",
       "      <td>5196000</td>\n",
       "      <td>56.0</td>\n",
       "      <td>2015-08-20</td>\n",
       "      <td>2</td>\n",
       "      <td>NaN</td>\n",
       "      <td>5.0</td>\n",
       "      <td>34.3</td>\n",
       "      <td>4</td>\n",
       "      <td>False</td>\n",
       "      <td>...</td>\n",
       "      <td>8.3</td>\n",
       "      <td>0.0</td>\n",
       "      <td>Санкт-Петербург</td>\n",
       "      <td>21741.0</td>\n",
       "      <td>13933.0</td>\n",
       "      <td>1.0</td>\n",
       "      <td>90.0</td>\n",
       "      <td>2.0</td>\n",
       "      <td>574.0</td>\n",
       "      <td>558.0</td>\n",
       "    </tr>\n",
       "    <tr>\n",
       "      <th>3</th>\n",
       "      <td>0</td>\n",
       "      <td>64900000</td>\n",
       "      <td>159.0</td>\n",
       "      <td>2015-07-24</td>\n",
       "      <td>3</td>\n",
       "      <td>NaN</td>\n",
       "      <td>14.0</td>\n",
       "      <td>NaN</td>\n",
       "      <td>9</td>\n",
       "      <td>False</td>\n",
       "      <td>...</td>\n",
       "      <td>NaN</td>\n",
       "      <td>0.0</td>\n",
       "      <td>Санкт-Петербург</td>\n",
       "      <td>28098.0</td>\n",
       "      <td>6800.0</td>\n",
       "      <td>2.0</td>\n",
       "      <td>84.0</td>\n",
       "      <td>3.0</td>\n",
       "      <td>234.0</td>\n",
       "      <td>424.0</td>\n",
       "    </tr>\n",
       "    <tr>\n",
       "      <th>4</th>\n",
       "      <td>2</td>\n",
       "      <td>10000000</td>\n",
       "      <td>100.0</td>\n",
       "      <td>2018-06-19</td>\n",
       "      <td>2</td>\n",
       "      <td>3.03</td>\n",
       "      <td>14.0</td>\n",
       "      <td>32.0</td>\n",
       "      <td>13</td>\n",
       "      <td>False</td>\n",
       "      <td>...</td>\n",
       "      <td>41.0</td>\n",
       "      <td>NaN</td>\n",
       "      <td>Санкт-Петербург</td>\n",
       "      <td>31856.0</td>\n",
       "      <td>8098.0</td>\n",
       "      <td>2.0</td>\n",
       "      <td>112.0</td>\n",
       "      <td>1.0</td>\n",
       "      <td>48.0</td>\n",
       "      <td>121.0</td>\n",
       "    </tr>\n",
       "  </tbody>\n",
       "</table>\n",
       "<p>5 rows × 22 columns</p>\n",
       "</div>"
      ],
      "text/plain": [
       "   total_images  last_price  total_area first_day_exposition  rooms  \\\n",
       "0            20    13000000       108.0           2019-03-07      3   \n",
       "1             7     3350000        40.4           2018-12-04      1   \n",
       "2            10     5196000        56.0           2015-08-20      2   \n",
       "3             0    64900000       159.0           2015-07-24      3   \n",
       "4             2    10000000       100.0           2018-06-19      2   \n",
       "\n",
       "   ceiling_height  floors_total  living_area  floor  is_apartment  ...  \\\n",
       "0            2.70          16.0         51.0      8         False  ...   \n",
       "1             NaN          11.0         18.6      1         False  ...   \n",
       "2             NaN           5.0         34.3      4         False  ...   \n",
       "3             NaN          14.0          NaN      9         False  ...   \n",
       "4            3.03          14.0         32.0     13         False  ...   \n",
       "\n",
       "   kitchen_area  balcony    locality_name  airports_nearest  \\\n",
       "0          25.0      NaN  Санкт-Петербург           18863.0   \n",
       "1          11.0      2.0   посёлок Шушары           12817.0   \n",
       "2           8.3      0.0  Санкт-Петербург           21741.0   \n",
       "3           NaN      0.0  Санкт-Петербург           28098.0   \n",
       "4          41.0      NaN  Санкт-Петербург           31856.0   \n",
       "\n",
       "  cityCenters_nearest  parks_around3000  parks_nearest  ponds_around3000  \\\n",
       "0             16028.0               1.0          482.0               2.0   \n",
       "1             18603.0               0.0            NaN               0.0   \n",
       "2             13933.0               1.0           90.0               2.0   \n",
       "3              6800.0               2.0           84.0               3.0   \n",
       "4              8098.0               2.0          112.0               1.0   \n",
       "\n",
       "   ponds_nearest  days_exposition  \n",
       "0          755.0              NaN  \n",
       "1            NaN             81.0  \n",
       "2          574.0            558.0  \n",
       "3          234.0            424.0  \n",
       "4           48.0            121.0  \n",
       "\n",
       "[5 rows x 22 columns]"
      ]
     },
     "execution_count": 12,
     "metadata": {},
     "output_type": "execute_result"
    }
   ],
   "source": [
    "df['is_apartment'] = df['is_apartment'].fillna(False)\n",
    "df.head()"
   ]
  },
  {
   "attachments": {},
   "cell_type": "markdown",
   "metadata": {
    "id": "yeFNTdd6KEb7"
   },
   "source": [
    "Меняю название столбца cityCenters_nearest"
   ]
  },
  {
   "cell_type": "code",
   "execution_count": 13,
   "metadata": {
    "colab": {
     "base_uri": "https://localhost:8080/"
    },
    "id": "_DC_riPbKJi8",
    "outputId": "4b8a2d2e-8df0-480c-c336-975eba5d3d02"
   },
   "outputs": [
    {
     "data": {
      "text/plain": [
       "['total_images',\n",
       " 'last_price',\n",
       " 'total_area',\n",
       " 'first_day_exposition',\n",
       " 'rooms',\n",
       " 'ceiling_height',\n",
       " 'floors_total',\n",
       " 'living_area',\n",
       " 'floor',\n",
       " 'is_apartment',\n",
       " 'studio',\n",
       " 'open_plan',\n",
       " 'kitchen_area',\n",
       " 'balcony',\n",
       " 'locality_name',\n",
       " 'airports_nearest',\n",
       " 'city_centers_nearest',\n",
       " 'parks_around3000',\n",
       " 'parks_nearest',\n",
       " 'ponds_around3000',\n",
       " 'ponds_nearest',\n",
       " 'days_exposition']"
      ]
     },
     "execution_count": 13,
     "metadata": {},
     "output_type": "execute_result"
    }
   ],
   "source": [
    "df = df.rename(columns={'cityCenters_nearest': 'city_centers_nearest'})\n",
    "df.columns.tolist() # Сразу проверю "
   ]
  },
  {
   "attachments": {},
   "cell_type": "markdown",
   "metadata": {
    "id": "j7Lk93gBNvV4"
   },
   "source": [
    "Разбираюсь с полем **ceiling_height**"
   ]
  },
  {
   "cell_type": "code",
   "execution_count": 14,
   "metadata": {
    "colab": {
     "base_uri": "https://localhost:8080/"
    },
    "id": "05QmK_Yn2t52",
    "outputId": "f30c3467-96d1-4cf9-c500-2be309c7cbda"
   },
   "outputs": [
    {
     "data": {
      "text/plain": [
       "count    14504.000000\n",
       "mean         2.771499\n",
       "std          1.261056\n",
       "min          1.000000\n",
       "25%          2.520000\n",
       "50%          2.650000\n",
       "75%          2.800000\n",
       "max        100.000000\n",
       "Name: ceiling_height, dtype: float64"
      ]
     },
     "execution_count": 14,
     "metadata": {},
     "output_type": "execute_result"
    }
   ],
   "source": [
    "df['ceiling_height'].describe()"
   ]
  },
  {
   "attachments": {},
   "cell_type": "markdown",
   "metadata": {
    "id": "RcSw6CZ_N9l8"
   },
   "source": [
    "Слишком маленькие значения в минимальных значениях и слишком большие в максимальных"
   ]
  },
  {
   "cell_type": "code",
   "execution_count": 15,
   "metadata": {
    "colab": {
     "base_uri": "https://localhost:8080/",
     "height": 386
    },
    "id": "QHjv_y8lgU2x",
    "outputId": "e0c8afaa-c09a-42a4-dc80-eb453b4119dc"
   },
   "outputs": [
    {
     "data": {
      "text/html": [
       "<div>\n",
       "<style scoped>\n",
       "    .dataframe tbody tr th:only-of-type {\n",
       "        vertical-align: middle;\n",
       "    }\n",
       "\n",
       "    .dataframe tbody tr th {\n",
       "        vertical-align: top;\n",
       "    }\n",
       "\n",
       "    .dataframe thead th {\n",
       "        text-align: right;\n",
       "    }\n",
       "</style>\n",
       "<table border=\"1\" class=\"dataframe\">\n",
       "  <thead>\n",
       "    <tr style=\"text-align: right;\">\n",
       "      <th></th>\n",
       "      <th>total_images</th>\n",
       "      <th>last_price</th>\n",
       "      <th>total_area</th>\n",
       "      <th>first_day_exposition</th>\n",
       "      <th>rooms</th>\n",
       "      <th>ceiling_height</th>\n",
       "      <th>floors_total</th>\n",
       "      <th>living_area</th>\n",
       "      <th>floor</th>\n",
       "      <th>is_apartment</th>\n",
       "      <th>...</th>\n",
       "      <th>kitchen_area</th>\n",
       "      <th>balcony</th>\n",
       "      <th>locality_name</th>\n",
       "      <th>airports_nearest</th>\n",
       "      <th>city_centers_nearest</th>\n",
       "      <th>parks_around3000</th>\n",
       "      <th>parks_nearest</th>\n",
       "      <th>ponds_around3000</th>\n",
       "      <th>ponds_nearest</th>\n",
       "      <th>days_exposition</th>\n",
       "    </tr>\n",
       "  </thead>\n",
       "  <tbody>\n",
       "    <tr>\n",
       "      <th>21824</th>\n",
       "      <td>20</td>\n",
       "      <td>2450000</td>\n",
       "      <td>44.0</td>\n",
       "      <td>2019-02-12</td>\n",
       "      <td>2</td>\n",
       "      <td>27.0</td>\n",
       "      <td>2.0</td>\n",
       "      <td>38.0</td>\n",
       "      <td>2</td>\n",
       "      <td>False</td>\n",
       "      <td>...</td>\n",
       "      <td>8.6</td>\n",
       "      <td>2.0</td>\n",
       "      <td>городской поселок Большая Ижора</td>\n",
       "      <td>NaN</td>\n",
       "      <td>NaN</td>\n",
       "      <td>NaN</td>\n",
       "      <td>NaN</td>\n",
       "      <td>NaN</td>\n",
       "      <td>NaN</td>\n",
       "      <td>NaN</td>\n",
       "    </tr>\n",
       "    <tr>\n",
       "      <th>22309</th>\n",
       "      <td>20</td>\n",
       "      <td>5300000</td>\n",
       "      <td>45.0</td>\n",
       "      <td>2017-09-30</td>\n",
       "      <td>1</td>\n",
       "      <td>10.3</td>\n",
       "      <td>16.0</td>\n",
       "      <td>15.5</td>\n",
       "      <td>15</td>\n",
       "      <td>False</td>\n",
       "      <td>...</td>\n",
       "      <td>NaN</td>\n",
       "      <td>NaN</td>\n",
       "      <td>Санкт-Петербург</td>\n",
       "      <td>36353.0</td>\n",
       "      <td>11936.0</td>\n",
       "      <td>2.0</td>\n",
       "      <td>440.0</td>\n",
       "      <td>2.0</td>\n",
       "      <td>450.0</td>\n",
       "      <td>136.0</td>\n",
       "    </tr>\n",
       "    <tr>\n",
       "      <th>22336</th>\n",
       "      <td>19</td>\n",
       "      <td>9999000</td>\n",
       "      <td>92.4</td>\n",
       "      <td>2019-04-05</td>\n",
       "      <td>2</td>\n",
       "      <td>32.0</td>\n",
       "      <td>6.0</td>\n",
       "      <td>55.5</td>\n",
       "      <td>5</td>\n",
       "      <td>False</td>\n",
       "      <td>...</td>\n",
       "      <td>16.5</td>\n",
       "      <td>4.0</td>\n",
       "      <td>Санкт-Петербург</td>\n",
       "      <td>18838.0</td>\n",
       "      <td>3506.0</td>\n",
       "      <td>0.0</td>\n",
       "      <td>NaN</td>\n",
       "      <td>3.0</td>\n",
       "      <td>511.0</td>\n",
       "      <td>NaN</td>\n",
       "    </tr>\n",
       "    <tr>\n",
       "      <th>22869</th>\n",
       "      <td>0</td>\n",
       "      <td>15000000</td>\n",
       "      <td>25.0</td>\n",
       "      <td>2018-07-25</td>\n",
       "      <td>1</td>\n",
       "      <td>100.0</td>\n",
       "      <td>5.0</td>\n",
       "      <td>14.0</td>\n",
       "      <td>5</td>\n",
       "      <td>True</td>\n",
       "      <td>...</td>\n",
       "      <td>11.0</td>\n",
       "      <td>5.0</td>\n",
       "      <td>Санкт-Петербург</td>\n",
       "      <td>34963.0</td>\n",
       "      <td>8283.0</td>\n",
       "      <td>1.0</td>\n",
       "      <td>223.0</td>\n",
       "      <td>3.0</td>\n",
       "      <td>30.0</td>\n",
       "      <td>19.0</td>\n",
       "    </tr>\n",
       "    <tr>\n",
       "      <th>22938</th>\n",
       "      <td>14</td>\n",
       "      <td>4000000</td>\n",
       "      <td>98.0</td>\n",
       "      <td>2018-03-15</td>\n",
       "      <td>4</td>\n",
       "      <td>27.0</td>\n",
       "      <td>2.0</td>\n",
       "      <td>73.0</td>\n",
       "      <td>2</td>\n",
       "      <td>True</td>\n",
       "      <td>...</td>\n",
       "      <td>9.0</td>\n",
       "      <td>1.0</td>\n",
       "      <td>деревня Нижняя</td>\n",
       "      <td>NaN</td>\n",
       "      <td>NaN</td>\n",
       "      <td>NaN</td>\n",
       "      <td>NaN</td>\n",
       "      <td>NaN</td>\n",
       "      <td>NaN</td>\n",
       "      <td>27.0</td>\n",
       "    </tr>\n",
       "  </tbody>\n",
       "</table>\n",
       "<p>5 rows × 22 columns</p>\n",
       "</div>"
      ],
      "text/plain": [
       "       total_images  last_price  total_area first_day_exposition  rooms  \\\n",
       "21824            20     2450000        44.0           2019-02-12      2   \n",
       "22309            20     5300000        45.0           2017-09-30      1   \n",
       "22336            19     9999000        92.4           2019-04-05      2   \n",
       "22869             0    15000000        25.0           2018-07-25      1   \n",
       "22938            14     4000000        98.0           2018-03-15      4   \n",
       "\n",
       "       ceiling_height  floors_total  living_area  floor  is_apartment  ...  \\\n",
       "21824            27.0           2.0         38.0      2         False  ...   \n",
       "22309            10.3          16.0         15.5     15         False  ...   \n",
       "22336            32.0           6.0         55.5      5         False  ...   \n",
       "22869           100.0           5.0         14.0      5          True  ...   \n",
       "22938            27.0           2.0         73.0      2          True  ...   \n",
       "\n",
       "       kitchen_area  balcony                    locality_name  \\\n",
       "21824           8.6      2.0  городской поселок Большая Ижора   \n",
       "22309           NaN      NaN                  Санкт-Петербург   \n",
       "22336          16.5      4.0                  Санкт-Петербург   \n",
       "22869          11.0      5.0                  Санкт-Петербург   \n",
       "22938           9.0      1.0                   деревня Нижняя   \n",
       "\n",
       "       airports_nearest city_centers_nearest  parks_around3000  parks_nearest  \\\n",
       "21824               NaN                  NaN               NaN            NaN   \n",
       "22309           36353.0              11936.0               2.0          440.0   \n",
       "22336           18838.0               3506.0               0.0            NaN   \n",
       "22869           34963.0               8283.0               1.0          223.0   \n",
       "22938               NaN                  NaN               NaN            NaN   \n",
       "\n",
       "       ponds_around3000  ponds_nearest  days_exposition  \n",
       "21824               NaN            NaN              NaN  \n",
       "22309               2.0          450.0            136.0  \n",
       "22336               3.0          511.0              NaN  \n",
       "22869               3.0           30.0             19.0  \n",
       "22938               NaN            NaN             27.0  \n",
       "\n",
       "[5 rows x 22 columns]"
      ]
     },
     "execution_count": 15,
     "metadata": {},
     "output_type": "execute_result"
    }
   ],
   "source": [
    "df[df['ceiling_height'] > 5].tail()"
   ]
  },
  {
   "attachments": {},
   "cell_type": "markdown",
   "metadata": {
    "id": "c6YdHsuwOhj7"
   },
   "source": [
    "Пишу функцию , которая меняет формат 27.0 или 32.0 на 2.70 или 3.20(исправляет допущенные ошибки на этапе заполнения), значения **NaN** меняет на высоту 2.65. Применяю функцию к столбцу.\n"
   ]
  },
  {
   "cell_type": "code",
   "execution_count": 16,
   "metadata": {
    "id": "OnI60nK4dL_A"
   },
   "outputs": [],
   "source": [
    "def convert_height(val):\n",
    "    if val > 10 and val < 35:\n",
    "        return '{:,.2f}'.format(val/10)\n",
    "    else:\n",
    "        return val\n",
    "\n",
    "df['ceiling_height'] = df['ceiling_height'].apply(convert_height).astype(float)"
   ]
  },
  {
   "attachments": {},
   "cell_type": "markdown",
   "metadata": {
    "id": "fBf5MQ6YlC-5"
   },
   "source": [
    "Отфильтрую все значения меньше 2.35 и те что больше 5.0 (потолки не могут быть больше 5 метров и меньше 2.20) и применю фильтр ко всему датафрейму.Другими словами удалю не выдерживающие критики минимальные и максимальные значения."
   ]
  },
  {
   "cell_type": "code",
   "execution_count": 17,
   "metadata": {
    "id": "dzeUoe2wpBG0"
   },
   "outputs": [],
   "source": [
    "df = df[(df.ceiling_height > 2.35) & (df.ceiling_height < 5.0)]\n",
    "df = df.reset_index(drop=True)"
   ]
  },
  {
   "cell_type": "code",
   "execution_count": 18,
   "metadata": {
    "colab": {
     "base_uri": "https://localhost:8080/"
    },
    "id": "6J5IeHbfjza_",
    "outputId": "580ea766-fafa-46ca-ceb2-899892bab658"
   },
   "outputs": [
    {
     "data": {
      "text/plain": [
       "count    14466.000000\n",
       "mean         2.725959\n",
       "std          0.270341\n",
       "min          2.400000\n",
       "25%          2.520000\n",
       "50%          2.650000\n",
       "75%          2.800000\n",
       "max          4.900000\n",
       "Name: ceiling_height, dtype: float64"
      ]
     },
     "execution_count": 18,
     "metadata": {},
     "output_type": "execute_result"
    }
   ],
   "source": [
    "df['ceiling_height'].describe()"
   ]
  },
  {
   "attachments": {},
   "cell_type": "markdown",
   "metadata": {
    "id": "gQEr-fHMDJzS"
   },
   "source": [
    "Заменю все значения **NaN** по полю **balcony** на 0, оценю **Nan** как отсутствие балкона. И заменяю тип данных на **int** "
   ]
  },
  {
   "cell_type": "code",
   "execution_count": 19,
   "metadata": {
    "id": "CVo0-xZ1CkHa"
   },
   "outputs": [],
   "source": [
    "df['balcony'] = df['balcony'].fillna(0).astype(int)"
   ]
  },
  {
   "attachments": {},
   "cell_type": "markdown",
   "metadata": {
    "id": "m0kek0orc_jk"
   },
   "source": [
    "Проработаю **locality_name**,  поменяю *поселок* на *посёлок*, затем создам список что я хочу удалить из названия. Удалю все эти строки из названий(избавляюсь от не явных дубликатов)"
   ]
  },
  {
   "cell_type": "code",
   "execution_count": 20,
   "metadata": {
    "id": "GfpeQ3Zcpz4m"
   },
   "outputs": [],
   "source": [
    "df['locality_name'] = df['locality_name'].replace(to_replace=r'поселок', value='посёлок', regex=True)"
   ]
  },
  {
   "cell_type": "code",
   "execution_count": 21,
   "metadata": {
    "id": "ACO6it1L1m6o"
   },
   "outputs": [],
   "source": [
    "# Список строк на удаление\n",
    "remove_list = ['деревня ', 'посёлок ', 'городского типа ', 'село ', 'городской ']\n",
    "\n",
    "for string in remove_list:\n",
    "    df['locality_name'] = df['locality_name'].replace(to_replace=string, value='', regex=True)\n"
   ]
  },
  {
   "attachments": {},
   "cell_type": "markdown",
   "metadata": {
    "id": "3sAhykeuertN"
   },
   "source": [
    "Пропущеных значений по полю **locality_name** всего 49 так как это значение не большое на нашей выборке, просто удалю все **NaN**"
   ]
  },
  {
   "cell_type": "code",
   "execution_count": 22,
   "metadata": {
    "id": "vQQMaXT1cOOx"
   },
   "outputs": [],
   "source": [
    "df = df.dropna(subset=['locality_name']).reset_index(drop=True)"
   ]
  },
  {
   "attachments": {},
   "cell_type": "markdown",
   "metadata": {
    "id": "K5ycv8UM9-ql"
   },
   "source": [
    "Так как востановить этажность зданий без указания точного адреса не тривиальная и трудозатратная задача. Пропущеных значений по полю **floors_total** = 86, удалю все эти значения."
   ]
  },
  {
   "cell_type": "code",
   "execution_count": 23,
   "metadata": {
    "id": "boVkuioT--jg"
   },
   "outputs": [],
   "source": [
    "df = df.dropna(subset=['floors_total']).reset_index(drop=True)"
   ]
  },
  {
   "attachments": {},
   "cell_type": "markdown",
   "metadata": {
    "id": "nhz3piXayB5M"
   },
   "source": [
    "# 3.  Посчитайте и добавьте в таблицу новые столбцы"
   ]
  },
  {
   "attachments": {},
   "cell_type": "markdown",
   "metadata": {
    "id": "SMdiFhha4t9d"
   },
   "source": [
    "Добовляю поле , цена за квадратный метр и присваиваю ему тип данных **int**(отбрасываю дробную часть и для лучшего восприятия)"
   ]
  },
  {
   "cell_type": "code",
   "execution_count": 24,
   "metadata": {
    "id": "ziw5bstuyMvh"
   },
   "outputs": [],
   "source": [
    "df['price_square'] = df['last_price'] / df['total_area']\n",
    "df['price_square'] = df['price_square'].astype(int)"
   ]
  },
  {
   "attachments": {},
   "cell_type": "markdown",
   "metadata": {
    "id": "Qxbb36wa5fgR"
   },
   "source": [
    "День недели, а также  месяц и год публикации объявления."
   ]
  },
  {
   "cell_type": "code",
   "execution_count": 25,
   "metadata": {
    "id": "KXsPNEDV4eey"
   },
   "outputs": [],
   "source": [
    "df['weekday'] = df['first_day_exposition'].dt.weekday\n",
    "df['month'] = df['first_day_exposition'].dt.month\n",
    "df['year'] = df['first_day_exposition'].dt.year"
   ]
  },
  {
   "attachments": {},
   "cell_type": "markdown",
   "metadata": {
    "id": "m4tuiUs8PvmM"
   },
   "source": [
    "Пишу функцию, которая возвращает этажи по условию (первый, последний, другие)\n",
    "Добавляю в датафрейм столбец **type_floor** заполненый значениями то что вернула функция."
   ]
  },
  {
   "cell_type": "code",
   "execution_count": 26,
   "metadata": {
    "id": "eEGijUjJHKgO"
   },
   "outputs": [],
   "source": [
    "def convert_floor(row):\n",
    "    if row['floor'] == 1:\n",
    "        return 'первый'\n",
    "    elif row['floor'] == row['floors_total']:\n",
    "        return 'последний'\n",
    "    else:\n",
    "        return 'другие'\n",
    "\n",
    "df['type_floor'] = df.apply(convert_floor, axis=1)"
   ]
  },
  {
   "cell_type": "code",
   "execution_count": 27,
   "metadata": {
    "colab": {
     "base_uri": "https://localhost:8080/",
     "height": 300
    },
    "id": "JTYU7tUK6kfW",
    "outputId": "ab202c59-ac2d-44c1-932f-9329ab8aba3d"
   },
   "outputs": [
    {
     "data": {
      "text/html": [
       "<div>\n",
       "<style scoped>\n",
       "    .dataframe tbody tr th:only-of-type {\n",
       "        vertical-align: middle;\n",
       "    }\n",
       "\n",
       "    .dataframe tbody tr th {\n",
       "        vertical-align: top;\n",
       "    }\n",
       "\n",
       "    .dataframe thead th {\n",
       "        text-align: right;\n",
       "    }\n",
       "</style>\n",
       "<table border=\"1\" class=\"dataframe\">\n",
       "  <thead>\n",
       "    <tr style=\"text-align: right;\">\n",
       "      <th></th>\n",
       "      <th>total_images</th>\n",
       "      <th>last_price</th>\n",
       "      <th>total_area</th>\n",
       "      <th>first_day_exposition</th>\n",
       "      <th>rooms</th>\n",
       "      <th>ceiling_height</th>\n",
       "      <th>floors_total</th>\n",
       "      <th>living_area</th>\n",
       "      <th>floor</th>\n",
       "      <th>is_apartment</th>\n",
       "      <th>...</th>\n",
       "      <th>parks_around3000</th>\n",
       "      <th>parks_nearest</th>\n",
       "      <th>ponds_around3000</th>\n",
       "      <th>ponds_nearest</th>\n",
       "      <th>days_exposition</th>\n",
       "      <th>price_square</th>\n",
       "      <th>weekday</th>\n",
       "      <th>month</th>\n",
       "      <th>year</th>\n",
       "      <th>type_floor</th>\n",
       "    </tr>\n",
       "  </thead>\n",
       "  <tbody>\n",
       "    <tr>\n",
       "      <th>14438</th>\n",
       "      <td>11</td>\n",
       "      <td>9470000</td>\n",
       "      <td>72.90</td>\n",
       "      <td>2016-10-13</td>\n",
       "      <td>2</td>\n",
       "      <td>2.75</td>\n",
       "      <td>25.0</td>\n",
       "      <td>40.3</td>\n",
       "      <td>7</td>\n",
       "      <td>False</td>\n",
       "      <td>...</td>\n",
       "      <td>0.0</td>\n",
       "      <td>NaN</td>\n",
       "      <td>1.0</td>\n",
       "      <td>806.0</td>\n",
       "      <td>519.0</td>\n",
       "      <td>129903</td>\n",
       "      <td>3</td>\n",
       "      <td>10</td>\n",
       "      <td>2016</td>\n",
       "      <td>другие</td>\n",
       "    </tr>\n",
       "    <tr>\n",
       "      <th>14439</th>\n",
       "      <td>9</td>\n",
       "      <td>4600000</td>\n",
       "      <td>62.40</td>\n",
       "      <td>2016-08-05</td>\n",
       "      <td>3</td>\n",
       "      <td>2.60</td>\n",
       "      <td>9.0</td>\n",
       "      <td>40.0</td>\n",
       "      <td>8</td>\n",
       "      <td>False</td>\n",
       "      <td>...</td>\n",
       "      <td>1.0</td>\n",
       "      <td>352.0</td>\n",
       "      <td>1.0</td>\n",
       "      <td>675.0</td>\n",
       "      <td>239.0</td>\n",
       "      <td>73717</td>\n",
       "      <td>4</td>\n",
       "      <td>8</td>\n",
       "      <td>2016</td>\n",
       "      <td>другие</td>\n",
       "    </tr>\n",
       "    <tr>\n",
       "      <th>14440</th>\n",
       "      <td>9</td>\n",
       "      <td>9700000</td>\n",
       "      <td>133.81</td>\n",
       "      <td>2017-03-21</td>\n",
       "      <td>3</td>\n",
       "      <td>3.70</td>\n",
       "      <td>5.0</td>\n",
       "      <td>73.3</td>\n",
       "      <td>3</td>\n",
       "      <td>False</td>\n",
       "      <td>...</td>\n",
       "      <td>1.0</td>\n",
       "      <td>796.0</td>\n",
       "      <td>3.0</td>\n",
       "      <td>381.0</td>\n",
       "      <td>NaN</td>\n",
       "      <td>72490</td>\n",
       "      <td>1</td>\n",
       "      <td>3</td>\n",
       "      <td>2017</td>\n",
       "      <td>другие</td>\n",
       "    </tr>\n",
       "    <tr>\n",
       "      <th>14441</th>\n",
       "      <td>13</td>\n",
       "      <td>11475000</td>\n",
       "      <td>76.75</td>\n",
       "      <td>2017-03-28</td>\n",
       "      <td>2</td>\n",
       "      <td>3.00</td>\n",
       "      <td>17.0</td>\n",
       "      <td>NaN</td>\n",
       "      <td>12</td>\n",
       "      <td>False</td>\n",
       "      <td>...</td>\n",
       "      <td>2.0</td>\n",
       "      <td>173.0</td>\n",
       "      <td>3.0</td>\n",
       "      <td>196.0</td>\n",
       "      <td>602.0</td>\n",
       "      <td>149511</td>\n",
       "      <td>1</td>\n",
       "      <td>3</td>\n",
       "      <td>2017</td>\n",
       "      <td>другие</td>\n",
       "    </tr>\n",
       "    <tr>\n",
       "      <th>14442</th>\n",
       "      <td>4</td>\n",
       "      <td>1350000</td>\n",
       "      <td>32.30</td>\n",
       "      <td>2017-07-21</td>\n",
       "      <td>1</td>\n",
       "      <td>2.50</td>\n",
       "      <td>5.0</td>\n",
       "      <td>12.3</td>\n",
       "      <td>1</td>\n",
       "      <td>False</td>\n",
       "      <td>...</td>\n",
       "      <td>NaN</td>\n",
       "      <td>NaN</td>\n",
       "      <td>NaN</td>\n",
       "      <td>NaN</td>\n",
       "      <td>NaN</td>\n",
       "      <td>41795</td>\n",
       "      <td>4</td>\n",
       "      <td>7</td>\n",
       "      <td>2017</td>\n",
       "      <td>первый</td>\n",
       "    </tr>\n",
       "  </tbody>\n",
       "</table>\n",
       "<p>5 rows × 27 columns</p>\n",
       "</div>"
      ],
      "text/plain": [
       "       total_images  last_price  total_area first_day_exposition  rooms  \\\n",
       "14438            11     9470000       72.90           2016-10-13      2   \n",
       "14439             9     4600000       62.40           2016-08-05      3   \n",
       "14440             9     9700000      133.81           2017-03-21      3   \n",
       "14441            13    11475000       76.75           2017-03-28      2   \n",
       "14442             4     1350000       32.30           2017-07-21      1   \n",
       "\n",
       "       ceiling_height  floors_total  living_area  floor  is_apartment  ...  \\\n",
       "14438            2.75          25.0         40.3      7         False  ...   \n",
       "14439            2.60           9.0         40.0      8         False  ...   \n",
       "14440            3.70           5.0         73.3      3         False  ...   \n",
       "14441            3.00          17.0          NaN     12         False  ...   \n",
       "14442            2.50           5.0         12.3      1         False  ...   \n",
       "\n",
       "       parks_around3000  parks_nearest  ponds_around3000  ponds_nearest  \\\n",
       "14438               0.0            NaN               1.0          806.0   \n",
       "14439               1.0          352.0               1.0          675.0   \n",
       "14440               1.0          796.0               3.0          381.0   \n",
       "14441               2.0          173.0               3.0          196.0   \n",
       "14442               NaN            NaN               NaN            NaN   \n",
       "\n",
       "      days_exposition  price_square  weekday  month  year  type_floor  \n",
       "14438           519.0        129903        3     10  2016      другие  \n",
       "14439           239.0         73717        4      8  2016      другие  \n",
       "14440             NaN         72490        1      3  2017      другие  \n",
       "14441           602.0        149511        1      3  2017      другие  \n",
       "14442             NaN         41795        4      7  2017      первый  \n",
       "\n",
       "[5 rows x 27 columns]"
      ]
     },
     "execution_count": 27,
     "metadata": {},
     "output_type": "execute_result"
    }
   ],
   "source": [
    "df.tail()"
   ]
  },
  {
   "attachments": {},
   "cell_type": "markdown",
   "metadata": {
    "id": "1G5wJ7oFL-oD"
   },
   "source": [
    "Расстояние до центра города в километрах (перевожу из м в км и округляю до целых значений)."
   ]
  },
  {
   "cell_type": "code",
   "execution_count": 28,
   "metadata": {
    "id": "lzf-dVVXYb8V"
   },
   "outputs": [],
   "source": [
    "df['distance_city_center'] = df['city_centers_nearest']/1000"
   ]
  },
  {
   "cell_type": "code",
   "execution_count": 29,
   "metadata": {
    "id": "bXYZghxuUFBh"
   },
   "outputs": [],
   "source": [
    "def round_distance(val):\n",
    "    if pd.isna(val):\n",
    "        return val\n",
    "    else:\n",
    "        return round(val)\n",
    "\n",
    "df['distance_city_center'] = df['distance_city_center'].apply(round_distance)"
   ]
  },
  {
   "cell_type": "code",
   "execution_count": 30,
   "metadata": {
    "colab": {
     "base_uri": "https://localhost:8080/",
     "height": 300
    },
    "id": "BrV7TYMXLYmh",
    "outputId": "75cf830e-9fb8-42ef-c6e0-a6daf45a06d4"
   },
   "outputs": [
    {
     "data": {
      "text/html": [
       "<div>\n",
       "<style scoped>\n",
       "    .dataframe tbody tr th:only-of-type {\n",
       "        vertical-align: middle;\n",
       "    }\n",
       "\n",
       "    .dataframe tbody tr th {\n",
       "        vertical-align: top;\n",
       "    }\n",
       "\n",
       "    .dataframe thead th {\n",
       "        text-align: right;\n",
       "    }\n",
       "</style>\n",
       "<table border=\"1\" class=\"dataframe\">\n",
       "  <thead>\n",
       "    <tr style=\"text-align: right;\">\n",
       "      <th></th>\n",
       "      <th>total_images</th>\n",
       "      <th>last_price</th>\n",
       "      <th>total_area</th>\n",
       "      <th>first_day_exposition</th>\n",
       "      <th>rooms</th>\n",
       "      <th>ceiling_height</th>\n",
       "      <th>floors_total</th>\n",
       "      <th>living_area</th>\n",
       "      <th>floor</th>\n",
       "      <th>is_apartment</th>\n",
       "      <th>...</th>\n",
       "      <th>parks_nearest</th>\n",
       "      <th>ponds_around3000</th>\n",
       "      <th>ponds_nearest</th>\n",
       "      <th>days_exposition</th>\n",
       "      <th>price_square</th>\n",
       "      <th>weekday</th>\n",
       "      <th>month</th>\n",
       "      <th>year</th>\n",
       "      <th>type_floor</th>\n",
       "      <th>distance_city_center</th>\n",
       "    </tr>\n",
       "  </thead>\n",
       "  <tbody>\n",
       "    <tr>\n",
       "      <th>0</th>\n",
       "      <td>20</td>\n",
       "      <td>13000000</td>\n",
       "      <td>108.0</td>\n",
       "      <td>2019-03-07</td>\n",
       "      <td>3</td>\n",
       "      <td>2.70</td>\n",
       "      <td>16.0</td>\n",
       "      <td>51.0</td>\n",
       "      <td>8</td>\n",
       "      <td>False</td>\n",
       "      <td>...</td>\n",
       "      <td>482.0</td>\n",
       "      <td>2.0</td>\n",
       "      <td>755.0</td>\n",
       "      <td>NaN</td>\n",
       "      <td>120370</td>\n",
       "      <td>3</td>\n",
       "      <td>3</td>\n",
       "      <td>2019</td>\n",
       "      <td>другие</td>\n",
       "      <td>16.0</td>\n",
       "    </tr>\n",
       "    <tr>\n",
       "      <th>1</th>\n",
       "      <td>2</td>\n",
       "      <td>10000000</td>\n",
       "      <td>100.0</td>\n",
       "      <td>2018-06-19</td>\n",
       "      <td>2</td>\n",
       "      <td>3.03</td>\n",
       "      <td>14.0</td>\n",
       "      <td>32.0</td>\n",
       "      <td>13</td>\n",
       "      <td>False</td>\n",
       "      <td>...</td>\n",
       "      <td>112.0</td>\n",
       "      <td>1.0</td>\n",
       "      <td>48.0</td>\n",
       "      <td>121.0</td>\n",
       "      <td>100000</td>\n",
       "      <td>1</td>\n",
       "      <td>6</td>\n",
       "      <td>2018</td>\n",
       "      <td>другие</td>\n",
       "      <td>8.0</td>\n",
       "    </tr>\n",
       "    <tr>\n",
       "      <th>2</th>\n",
       "      <td>18</td>\n",
       "      <td>5400000</td>\n",
       "      <td>61.0</td>\n",
       "      <td>2017-02-26</td>\n",
       "      <td>3</td>\n",
       "      <td>2.50</td>\n",
       "      <td>9.0</td>\n",
       "      <td>43.6</td>\n",
       "      <td>7</td>\n",
       "      <td>False</td>\n",
       "      <td>...</td>\n",
       "      <td>NaN</td>\n",
       "      <td>0.0</td>\n",
       "      <td>NaN</td>\n",
       "      <td>289.0</td>\n",
       "      <td>88524</td>\n",
       "      <td>6</td>\n",
       "      <td>2</td>\n",
       "      <td>2017</td>\n",
       "      <td>другие</td>\n",
       "      <td>15.0</td>\n",
       "    </tr>\n",
       "    <tr>\n",
       "      <th>3</th>\n",
       "      <td>5</td>\n",
       "      <td>5050000</td>\n",
       "      <td>39.6</td>\n",
       "      <td>2017-11-16</td>\n",
       "      <td>1</td>\n",
       "      <td>2.67</td>\n",
       "      <td>12.0</td>\n",
       "      <td>20.3</td>\n",
       "      <td>3</td>\n",
       "      <td>False</td>\n",
       "      <td>...</td>\n",
       "      <td>310.0</td>\n",
       "      <td>2.0</td>\n",
       "      <td>553.0</td>\n",
       "      <td>137.0</td>\n",
       "      <td>127525</td>\n",
       "      <td>3</td>\n",
       "      <td>11</td>\n",
       "      <td>2017</td>\n",
       "      <td>другие</td>\n",
       "      <td>14.0</td>\n",
       "    </tr>\n",
       "    <tr>\n",
       "      <th>4</th>\n",
       "      <td>20</td>\n",
       "      <td>3550000</td>\n",
       "      <td>42.8</td>\n",
       "      <td>2017-07-01</td>\n",
       "      <td>2</td>\n",
       "      <td>2.56</td>\n",
       "      <td>5.0</td>\n",
       "      <td>27.0</td>\n",
       "      <td>5</td>\n",
       "      <td>False</td>\n",
       "      <td>...</td>\n",
       "      <td>294.0</td>\n",
       "      <td>3.0</td>\n",
       "      <td>298.0</td>\n",
       "      <td>366.0</td>\n",
       "      <td>82943</td>\n",
       "      <td>5</td>\n",
       "      <td>7</td>\n",
       "      <td>2017</td>\n",
       "      <td>последний</td>\n",
       "      <td>33.0</td>\n",
       "    </tr>\n",
       "  </tbody>\n",
       "</table>\n",
       "<p>5 rows × 28 columns</p>\n",
       "</div>"
      ],
      "text/plain": [
       "   total_images  last_price  total_area first_day_exposition  rooms  \\\n",
       "0            20    13000000       108.0           2019-03-07      3   \n",
       "1             2    10000000       100.0           2018-06-19      2   \n",
       "2            18     5400000        61.0           2017-02-26      3   \n",
       "3             5     5050000        39.6           2017-11-16      1   \n",
       "4            20     3550000        42.8           2017-07-01      2   \n",
       "\n",
       "   ceiling_height  floors_total  living_area  floor  is_apartment  ...  \\\n",
       "0            2.70          16.0         51.0      8         False  ...   \n",
       "1            3.03          14.0         32.0     13         False  ...   \n",
       "2            2.50           9.0         43.6      7         False  ...   \n",
       "3            2.67          12.0         20.3      3         False  ...   \n",
       "4            2.56           5.0         27.0      5         False  ...   \n",
       "\n",
       "   parks_nearest  ponds_around3000  ponds_nearest  days_exposition  \\\n",
       "0          482.0               2.0          755.0              NaN   \n",
       "1          112.0               1.0           48.0            121.0   \n",
       "2            NaN               0.0            NaN            289.0   \n",
       "3          310.0               2.0          553.0            137.0   \n",
       "4          294.0               3.0          298.0            366.0   \n",
       "\n",
       "  price_square  weekday  month  year  type_floor  distance_city_center  \n",
       "0       120370        3      3  2019      другие                  16.0  \n",
       "1       100000        1      6  2018      другие                   8.0  \n",
       "2        88524        6      2  2017      другие                  15.0  \n",
       "3       127525        3     11  2017      другие                  14.0  \n",
       "4        82943        5      7  2017   последний                  33.0  \n",
       "\n",
       "[5 rows x 28 columns]"
      ]
     },
     "execution_count": 30,
     "metadata": {},
     "output_type": "execute_result"
    }
   ],
   "source": [
    "df.head()"
   ]
  },
  {
   "attachments": {},
   "cell_type": "markdown",
   "metadata": {
    "id": "p0kRfGDyodkx"
   },
   "source": [
    "# 4. Проведите исследовательский анализ данных"
   ]
  },
  {
   "cell_type": "code",
   "execution_count": 31,
   "metadata": {
    "colab": {
     "base_uri": "https://localhost:8080/",
     "height": 421
    },
    "id": "4jbzCpjuhRnP",
    "outputId": "512d4264-823a-4fa6-8a0d-1b0725d84bfb"
   },
   "outputs": [
    {
     "data": {
      "text/plain": [
       "count    14443.000000\n",
       "mean        61.836266\n",
       "std         36.804970\n",
       "min         12.000000\n",
       "25%         41.000000\n",
       "50%         53.300000\n",
       "75%         71.300000\n",
       "max        900.000000\n",
       "Name: total_area, dtype: float64"
      ]
     },
     "execution_count": 31,
     "metadata": {},
     "output_type": "execute_result"
    },
    {
     "data": {
      "image/png": "[encoded data removed]",
      "text/plain": [
       "<Figure size 720x576 with 1 Axes>"
      ]
     },
     "metadata": {
      "needs_background": "light"
     },
     "output_type": "display_data"
    }
   ],
   "source": [
    "df['total_area'].hist(bins=150, figsize=(10,8))\n",
    "df['total_area'].describe()"
   ]
  },
  {
   "attachments": {},
   "cell_type": "markdown",
   "metadata": {
    "id": "cbGuZuv3vlDJ"
   },
   "source": [
    "Распределение данных нормальное.Выбросы есть, но не критичны.Основная масса квартир выставленных на продажу имеет площадь от 40 квадратных метра до 70, а среднее значение по выборке 60.3.Добавил метод discribe чтобы иметь более детальное представление о площади квартир."
   ]
  },
  {
   "cell_type": "code",
   "execution_count": 32,
   "metadata": {
    "colab": {
     "base_uri": "https://localhost:8080/",
     "height": 421
    },
    "id": "BIdWZeU1hwW_",
    "outputId": "329b1544-1f63-4c15-f0e0-22853e4570a1"
   },
   "outputs": [
    {
     "data": {
      "text/plain": [
       "count    13655.000000\n",
       "mean        35.653980\n",
       "std         22.789568\n",
       "min          2.000000\n",
       "25%         19.200000\n",
       "50%         30.800000\n",
       "75%         43.300000\n",
       "max        409.700000\n",
       "Name: living_area, dtype: float64"
      ]
     },
     "execution_count": 32,
     "metadata": {},
     "output_type": "execute_result"
    },
    {
     "data": {
      "image/png": "[encoded data removed]",
      "text/plain": [
       "<Figure size 720x576 with 1 Axes>"
      ]
     },
     "metadata": {
      "needs_background": "light"
     },
     "output_type": "display_data"
    }
   ],
   "source": [
    "df['living_area'].hist(bins=100, figsize=(10,8))\n",
    "df['living_area'].describe()"
   ]
  },
  {
   "attachments": {},
   "cell_type": "markdown",
   "metadata": {
    "id": "KbFoI1Uzz47g"
   },
   "source": [
    "Жилая площадь распределение нормальное. Квартиры с жилой площадью от 18.6 до 42.3, со средним значением 34.4.Преобладают в объявлениях.Хотя есть конечно и знатные экземпляры."
   ]
  },
  {
   "cell_type": "code",
   "execution_count": 33,
   "metadata": {
    "colab": {
     "base_uri": "https://localhost:8080/",
     "height": 421
    },
    "id": "2nAjNUhDiLZd",
    "outputId": "79e9a328-adff-4b14-f920-23d5fa0500cc"
   },
   "outputs": [
    {
     "data": {
      "text/plain": [
       "count    13517.000000\n",
       "mean        10.562962\n",
       "std          6.034430\n",
       "min          1.300000\n",
       "25%          7.000000\n",
       "50%          9.000000\n",
       "75%         12.000000\n",
       "max        112.000000\n",
       "Name: kitchen_area, dtype: float64"
      ]
     },
     "execution_count": 33,
     "metadata": {},
     "output_type": "execute_result"
    },
    {
     "data": {
      "image/png": "[encoded data removed]",
      "text/plain": [
       "<Figure size 720x576 with 1 Axes>"
      ]
     },
     "metadata": {
      "needs_background": "light"
     },
     "output_type": "display_data"
    }
   ],
   "source": [
    "df['kitchen_area'].hist(bins=100, figsize=(10,8))\n",
    "df['kitchen_area'].describe()"
   ]
  },
  {
   "attachments": {},
   "cell_type": "markdown",
   "metadata": {
    "id": "3Tn0Hgx4OeNe"
   },
   "source": [
    "Площадь кухни. Распределение данных нормальное. Основная масса квартир с площадью кухни от 7 квадратных метров до 12. "
   ]
  },
  {
   "cell_type": "code",
   "execution_count": 34,
   "metadata": {
    "colab": {
     "base_uri": "https://localhost:8080/",
     "height": 434
    },
    "id": "gvJKCeg_iWXE",
    "outputId": "3466d9b2-5317-4931-86f1-5198413f2c02",
    "scrolled": true
   },
   "outputs": [
    {
     "data": {
      "text/plain": [
       "count    1.444300e+04\n",
       "mean     6.810959e+06\n",
       "std      1.005557e+07\n",
       "min      1.219000e+04\n",
       "25%      3.580000e+06\n",
       "50%      4.850000e+06\n",
       "75%      7.000000e+06\n",
       "max      4.200000e+08\n",
       "Name: last_price, dtype: float64"
      ]
     },
     "execution_count": 34,
     "metadata": {},
     "output_type": "execute_result"
    },
    {
     "data": {
      "image/png": "[encoded data removed]",
      "text/plain": [
       "<Figure size 720x576 with 1 Axes>"
      ]
     },
     "metadata": {
      "needs_background": "light"
     },
     "output_type": "display_data"
    }
   ],
   "source": [
    "df['last_price'].hist(bins= 100, figsize=(10,8))\n",
    "df['last_price'].describe()"
   ]
  },
  {
   "attachments": {},
   "cell_type": "markdown",
   "metadata": {},
   "source": [
    "<div class=\"alert alert-info\">\n",
    "    Поигрался с bins, решил что для лучшей читаемости графиков изменю их размер."
   ]
  },
  {
   "cell_type": "code",
   "execution_count": 35,
   "metadata": {
    "colab": {
     "base_uri": "https://localhost:8080/"
    },
    "id": "58lHI7l-S9D-",
    "outputId": "d0324442-8205-487b-db8d-db6dcdb69237"
   },
   "outputs": [
    {
     "data": {
      "text/plain": [
       "4850000.0"
      ]
     },
     "execution_count": 35,
     "metadata": {},
     "output_type": "execute_result"
    }
   ],
   "source": [
    "df['last_price'].median()"
   ]
  },
  {
   "cell_type": "code",
   "execution_count": 36,
   "metadata": {
    "colab": {
     "base_uri": "https://localhost:8080/",
     "height": 421
    },
    "id": "FY8MWRoziwE0",
    "outputId": "ec1d207d-3389-44a7-f49b-4a72a72024b0"
   },
   "outputs": [
    {
     "data": {
      "text/plain": [
       "count    14443.000000\n",
       "mean         2.142422\n",
       "std          1.089730\n",
       "min          1.000000\n",
       "25%          1.000000\n",
       "50%          2.000000\n",
       "75%          3.000000\n",
       "max         16.000000\n",
       "Name: rooms, dtype: float64"
      ]
     },
     "execution_count": 36,
     "metadata": {},
     "output_type": "execute_result"
    },
    {
     "data": {
      "image/png": "[encoded data removed]",
      "text/plain": [
       "<Figure size 720x576 with 1 Axes>"
      ]
     },
     "metadata": {
      "needs_background": "light"
     },
     "output_type": "display_data"
    }
   ],
   "source": [
    "df['rooms'].hist(bins=17, figsize=(10,8))\n",
    "df['rooms'].describe()"
   ]
  },
  {
   "attachments": {},
   "cell_type": "markdown",
   "metadata": {
    "id": "8WOdBniyV2Ug"
   },
   "source": [
    "В основном в продаже стандартные 1, 2, 3 комнатные квартиры.Большего всего в продаже 1 комнатных(студий) потом 2 комнатных и дальше по убыванию. Максимальное число комнат тоже впечатляет их 19."
   ]
  },
  {
   "cell_type": "code",
   "execution_count": 37,
   "metadata": {
    "colab": {
     "base_uri": "https://localhost:8080/",
     "height": 421
    },
    "id": "VWY7q3R-jFWC",
    "outputId": "55d42bea-247f-4ebc-bb87-9d2b6b1d6bd9"
   },
   "outputs": [
    {
     "data": {
      "text/plain": [
       "count    14443.000000\n",
       "mean         2.725671\n",
       "std          0.270166\n",
       "min          2.400000\n",
       "25%          2.520000\n",
       "50%          2.650000\n",
       "75%          2.800000\n",
       "max          4.900000\n",
       "Name: ceiling_height, dtype: float64"
      ]
     },
     "execution_count": 37,
     "metadata": {},
     "output_type": "execute_result"
    },
    {
     "data": {
      "image/png": "[encoded data removed]",
      "text/plain": [
       "<Figure size 720x576 with 1 Axes>"
      ]
     },
     "metadata": {
      "needs_background": "light"
     },
     "output_type": "display_data"
    }
   ],
   "source": [
    "df['ceiling_height'].hist(bins=20, figsize=(10,8))\n",
    "df['ceiling_height'].describe()"
   ]
  },
  {
   "attachments": {},
   "cell_type": "markdown",
   "metadata": {},
   "source": [
    "<div class=\"alert alert-info\">\n",
    "    Большого пика больше нет, поменял работу функции, оставив не заполненые значения без изменений.\n",
    "    Спасибо</b>☀️</div>"
   ]
  },
  {
   "attachments": {},
   "cell_type": "markdown",
   "metadata": {
    "id": "pDuO7Q_WTow3"
   },
   "source": [
    "Высота потолков, от минимальных 2.40 до максимальных 4.90 со средней высотой 2.69. Не думаю что медиана будет сильно отличаться."
   ]
  },
  {
   "cell_type": "code",
   "execution_count": 38,
   "metadata": {
    "colab": {
     "base_uri": "https://localhost:8080/",
     "height": 421
    },
    "id": "rFQKMicwjRey",
    "outputId": "36426ccb-39c4-4746-d738-eaa892f483da"
   },
   "outputs": [
    {
     "data": {
      "text/plain": [
       "count    14443.000000\n",
       "mean         5.623485\n",
       "std          4.614802\n",
       "min          1.000000\n",
       "25%          2.000000\n",
       "50%          4.000000\n",
       "75%          7.000000\n",
       "max         30.000000\n",
       "Name: floor, dtype: float64"
      ]
     },
     "execution_count": 38,
     "metadata": {},
     "output_type": "execute_result"
    },
    {
     "data": {
      "image/png": "[encoded data removed]",
      "text/plain": [
       "<Figure size 720x576 with 1 Axes>"
      ]
     },
     "metadata": {
      "needs_background": "light"
     },
     "output_type": "display_data"
    }
   ],
   "source": [
    "df['floor'].hist(bins=20, figsize=(10,8))\n",
    "df['floor'].describe()"
   ]
  },
  {
   "attachments": {},
   "cell_type": "markdown",
   "metadata": {
    "id": "Rff3Hfg-U0Nk"
   },
   "source": [
    "Этажность продажи квартир в Питере и окресностях , больше всего предложений до 8 этажа. Самое близкое к Богу 33 этаж. Так что welcome."
   ]
  },
  {
   "cell_type": "code",
   "execution_count": 39,
   "metadata": {
    "colab": {
     "base_uri": "https://localhost:8080/",
     "height": 282
    },
    "id": "gx29-wfzjlBd",
    "outputId": "cd671a97-8105-460b-978e-42b7be6eda1b"
   },
   "outputs": [
    {
     "data": {
      "text/plain": [
       "<AxesSubplot:>"
      ]
     },
     "execution_count": 39,
     "metadata": {},
     "output_type": "execute_result"
    },
    {
     "data": {
      "image/png": "[encoded data removed]",
      "text/plain": [
       "<Figure size 720x576 with 1 Axes>"
      ]
     },
     "metadata": {
      "needs_background": "light"
     },
     "output_type": "display_data"
    }
   ],
   "source": [
    "df['type_floor'].hist(figsize=(10,8))"
   ]
  },
  {
   "cell_type": "code",
   "execution_count": 40,
   "metadata": {
    "colab": {
     "base_uri": "https://localhost:8080/"
    },
    "id": "Oy4ntq1KV7bt",
    "outputId": "59a06b68-96e8-410b-f459-f851f6edae4a"
   },
   "outputs": [
    {
     "data": {
      "text/plain": [
       "другие       10555\n",
       "последний     2077\n",
       "первый        1811\n",
       "Name: type_floor, dtype: int64"
      ]
     },
     "execution_count": 40,
     "metadata": {},
     "output_type": "execute_result"
    }
   ],
   "source": [
    "df['type_floor'].value_counts()"
   ]
  },
  {
   "attachments": {},
   "cell_type": "markdown",
   "metadata": {
    "id": "ENzihQVrV9QD"
   },
   "source": [
    "Первые и последние этажи не предлагать, так и их предложение не критическое. Больше всего предложений не включает в себя это словосочетание."
   ]
  },
  {
   "cell_type": "code",
   "execution_count": 41,
   "metadata": {
    "colab": {
     "base_uri": "https://localhost:8080/",
     "height": 421
    },
    "id": "arKRijf2j6jm",
    "outputId": "fc2f1936-a64b-4e16-b26a-3fa05cd4413f"
   },
   "outputs": [
    {
     "data": {
      "text/plain": [
       "count    14443.000000\n",
       "mean        10.178702\n",
       "std          6.198734\n",
       "min          1.000000\n",
       "25%          5.000000\n",
       "50%          9.000000\n",
       "75%         14.000000\n",
       "max         60.000000\n",
       "Name: floors_total, dtype: float64"
      ]
     },
     "execution_count": 41,
     "metadata": {},
     "output_type": "execute_result"
    },
    {
     "data": {
      "image/png": "[encoded data removed]",
      "text/plain": [
       "<Figure size 720x576 with 1 Axes>"
      ]
     },
     "metadata": {
      "needs_background": "light"
     },
     "output_type": "display_data"
    }
   ],
   "source": [
    "df['floors_total'].hist(bins=20, figsize=(10,8))\n",
    "df['floors_total'].describe()"
   ]
  },
  {
   "cell_type": "code",
   "execution_count": 42,
   "metadata": {
    "colab": {
     "base_uri": "https://localhost:8080/",
     "height": 282
    },
    "id": "7QCxyK0Mkq15",
    "outputId": "b9ee1137-3df1-4fe1-b209-bbf4a6294e1c"
   },
   "outputs": [
    {
     "data": {
      "text/plain": [
       "<AxesSubplot:>"
      ]
     },
     "execution_count": 42,
     "metadata": {},
     "output_type": "execute_result"
    },
    {
     "data": {
      "image/png": "[encoded data removed]",
      "text/plain": [
       "<Figure size 720x576 with 1 Axes>"
      ]
     },
     "metadata": {
      "needs_background": "light"
     },
     "output_type": "display_data"
    }
   ],
   "source": [
    "df['city_centers_nearest'].hist(bins=17, figsize=(10,8))"
   ]
  },
  {
   "cell_type": "code",
   "execution_count": 43,
   "metadata": {
    "colab": {
     "base_uri": "https://localhost:8080/",
     "height": 282
    },
    "id": "ORZHAgjvk52y",
    "outputId": "0bb1a6d7-1b5b-4394-8a37-dba2ea1c7f79"
   },
   "outputs": [
    {
     "data": {
      "text/plain": [
       "<AxesSubplot:>"
      ]
     },
     "execution_count": 43,
     "metadata": {},
     "output_type": "execute_result"
    },
    {
     "data": {
      "image/png": "[encoded data removed]",
      "text/plain": [
       "<Figure size 720x576 with 1 Axes>"
      ]
     },
     "metadata": {
      "needs_background": "light"
     },
     "output_type": "display_data"
    }
   ],
   "source": [
    "df['airports_nearest'].hist(figsize=(10,8))"
   ]
  },
  {
   "cell_type": "code",
   "execution_count": 44,
   "metadata": {
    "colab": {
     "base_uri": "https://localhost:8080/",
     "height": 421
    },
    "id": "pGAJcpi4lKHi",
    "outputId": "e32435d2-d9d2-497b-c9c8-7d17f2355629"
   },
   "outputs": [
    {
     "data": {
      "text/plain": [
       "count    5271.000000\n",
       "mean      476.812559\n",
       "std       320.316861\n",
       "min         3.000000\n",
       "25%       285.000000\n",
       "50%       448.000000\n",
       "75%       602.000000\n",
       "max      3190.000000\n",
       "Name: parks_nearest, dtype: float64"
      ]
     },
     "execution_count": 44,
     "metadata": {},
     "output_type": "execute_result"
    },
    {
     "data": {
      "image/png": "[encoded data removed]",
      "text/plain": [
       "<Figure size 720x576 with 1 Axes>"
      ]
     },
     "metadata": {
      "needs_background": "light"
     },
     "output_type": "display_data"
    }
   ],
   "source": [
    "df['parks_nearest'].hist(figsize=(10,8))\n",
    "df['parks_nearest'].describe()"
   ]
  },
  {
   "attachments": {},
   "cell_type": "markdown",
   "metadata": {
    "id": "YjZ6R_y5YKRk"
   },
   "source": [
    "Львиная доля квартир продается с парками в пешой доступности, максимально удаленый парк в 3190 метрах.Город сад."
   ]
  },
  {
   "cell_type": "code",
   "execution_count": 45,
   "metadata": {
    "colab": {
     "base_uri": "https://localhost:8080/",
     "height": 421
    },
    "id": "7JFQZ51h7XOw",
    "outputId": "68ed721b-42ab-4cf3-e24a-fc1ee1b746d9"
   },
   "outputs": [
    {
     "data": {
      "text/plain": [
       "count    11999.000000\n",
       "mean       190.305109\n",
       "std        228.611484\n",
       "min          1.000000\n",
       "25%         45.000000\n",
       "50%        103.000000\n",
       "75%        247.000000\n",
       "max       1580.000000\n",
       "Name: days_exposition, dtype: float64"
      ]
     },
     "execution_count": 45,
     "metadata": {},
     "output_type": "execute_result"
    },
    {
     "data": {
      "image/png": "[encoded data removed]",
      "text/plain": [
       "<Figure size 720x576 with 1 Axes>"
      ]
     },
     "metadata": {
      "needs_background": "light"
     },
     "output_type": "display_data"
    }
   ],
   "source": [
    "df['days_exposition'].hist(bins=30, figsize=(10,8))\n",
    "df['days_exposition'].describe()"
   ]
  },
  {
   "cell_type": "code",
   "execution_count": 46,
   "metadata": {
    "colab": {
     "base_uri": "https://localhost:8080/"
    },
    "id": "M0O9h0nJ710T",
    "outputId": "1dc2d627-1a8b-42ec-e91b-7c463ef31b94"
   },
   "outputs": [
    {
     "data": {
      "text/plain": [
       "103.0"
      ]
     },
     "execution_count": 46,
     "metadata": {},
     "output_type": "execute_result"
    }
   ],
   "source": [
    "df['days_exposition'].median()"
   ]
  },
  {
   "attachments": {},
   "cell_type": "markdown",
   "metadata": {
    "id": "6EvhJwkQKjQD"
   },
   "source": [
    "Имеем среднее 180 дней в продаже, а медиану 95 дней. Построю диаграмму ограничу по дням до Q3 = 231.(посмотреть есть ли аномалии) "
   ]
  },
  {
   "cell_type": "code",
   "execution_count": 47,
   "metadata": {
    "colab": {
     "base_uri": "https://localhost:8080/",
     "height": 283
    },
    "id": "Mxai8Q4LqxmJ",
    "outputId": "3048894b-9d23-4025-b94f-0f184aeffd82"
   },
   "outputs": [
    {
     "data": {
      "text/plain": [
       "<AxesSubplot:ylabel='Frequency'>"
      ]
     },
     "execution_count": 47,
     "metadata": {},
     "output_type": "execute_result"
    },
    {
     "data": {
      "image/png": "[encoded data removed]",
      "text/plain": [
       "<Figure size 720x576 with 1 Axes>"
      ]
     },
     "metadata": {
      "needs_background": "light"
     },
     "output_type": "display_data"
    }
   ],
   "source": [
    "df['days_exposition'].plot(kind='hist', grid=True, bins=50, range=(1, 231), figsize=(10,8))"
   ]
  },
  {
   "attachments": {},
   "cell_type": "markdown",
   "metadata": {
    "id": "rL9xEjgbA0MO"
   },
   "source": [
    "По графику видно что есть выбросы."
   ]
  },
  {
   "cell_type": "code",
   "execution_count": 48,
   "metadata": {
    "colab": {
     "base_uri": "https://localhost:8080/"
    },
    "id": "jP1mMSXzA6DH",
    "outputId": "fb295073-ecc4-4206-e082-236a1de1dccb"
   },
   "outputs": [
    {
     "data": {
      "text/plain": [
       "45.0      392\n",
       "60.0      274\n",
       "7.0       155\n",
       "30.0      149\n",
       "90.0      103\n",
       "         ... \n",
       "803.0       1\n",
       "748.0       1\n",
       "1022.0      1\n",
       "631.0       1\n",
       "1174.0      1\n",
       "Name: days_exposition, Length: 1035, dtype: int64"
      ]
     },
     "execution_count": 48,
     "metadata": {},
     "output_type": "execute_result"
    }
   ],
   "source": [
    "df['days_exposition'].value_counts()"
   ]
  },
  {
   "attachments": {},
   "cell_type": "markdown",
   "metadata": {
    "id": "53sKA1fTBTl-"
   },
   "source": [
    "Основные выбросы,  снятитие объявления с продажи  через 45 - 90, а также 30 - 60 дней. Возможно есть какие-то бесплатные размещения объялений(демо- режимы, льготные периоды), которые автоматически снимают объявления с продажи после прохождения определенных промежутков времени.(аномалии кратны друг другу). Не думаю что нужно удалять эти данные из датафрейма. Возможно нужно проконсультироваться с коллегами."
   ]
  },
  {
   "cell_type": "code",
   "execution_count": 49,
   "metadata": {
    "colab": {
     "base_uri": "https://localhost:8080/",
     "height": 501
    },
    "id": "01fvbim43aE8",
    "outputId": "eebb9c5d-806c-469d-ccf1-2e7a2a281d31"
   },
   "outputs": [
    {
     "data": {
      "text/plain": [
       "<AxesSubplot:>"
      ]
     },
     "execution_count": 49,
     "metadata": {},
     "output_type": "execute_result"
    },
    {
     "data": {
      "image/png": "[encoded data removed]",
      "text/plain": [
       "<Figure size 720x576 with 1 Axes>"
      ]
     },
     "metadata": {
      "needs_background": "light"
     },
     "output_type": "display_data"
    }
   ],
   "source": [
    "df.boxplot(column=['days_exposition'], figsize=(10, 8))"
   ]
  },
  {
   "attachments": {},
   "cell_type": "markdown",
   "metadata": {
    "id": "KErYmTw15WTD"
   },
   "source": [
    "**Вывод:** Mетод describe нам показывает  межквартильный размах - от 45 до 231 дня, а  размах boxplot от одного до 500, с медианой 95 дней. В среднем квартира продается за 95 дней но и другие значения до 500 дней не являются сверхдолгой продажей. Квартиры которые продаются больше 500 дней это явно очень долгая продажа."
   ]
  },
  {
   "attachments": {},
   "cell_type": "markdown",
   "metadata": {
    "id": "1r4lBkYl7odz"
   },
   "source": [
    "#### **Какие факторы больше всего влияют на общую (полную) стоимость объекта?**\n",
    "Изучите, зависит ли цена от:\n",
    "* общей площади;\n",
    "* жилой площади;\n",
    "* площади кухни;\n",
    "* количества комнат;\n",
    "* этажа, на котором расположена квартира (первый, последний, другой);\n",
    "* даты размещения (день недели, месяц, год).\n",
    "Постройте графики, которые покажут зависимость цены от указанных выше параметров. Для подготовки данных перед визуализацией вы можете использовать сводные таблицы."
   ]
  },
  {
   "attachments": {},
   "cell_type": "markdown",
   "metadata": {
    "id": "DMjUjh0Xoqsx"
   },
   "source": [
    "# 5. Какие факторы больше всего влияют на общую (полную) стоимость объекта?\n",
    "Изучите, зависит ли цена от:\n",
    "* общей площади;\n",
    "* жилой площади;\n",
    "* площади кухни;\n",
    "* количества комнат;\n",
    "* этажа, на котором расположена квартира (первый, последний, другой);\n",
    "* даты размещения (день недели, месяц, год).\n",
    "Постройте графики, которые покажут зависимость цены от указанных выше параметров. Для подготовки данных перед визуализацией вы можете использовать сводные таблицы."
   ]
  },
  {
   "attachments": {},
   "cell_type": "markdown",
   "metadata": {
    "id": "hKkmCgmEzlfI"
   },
   "source": [
    "**Зависит ли цена от общей площади**"
   ]
  },
  {
   "cell_type": "code",
   "execution_count": 50,
   "metadata": {
    "colab": {
     "base_uri": "https://localhost:8080/",
     "height": 526
    },
    "id": "JLM5VbGw8G_F",
    "outputId": "3e25be01-3bad-4c47-ba89-a81a9215b8b7"
   },
   "outputs": [
    {
     "data": {
      "text/plain": [
       "<AxesSubplot:xlabel='total_area'>"
      ]
     },
     "execution_count": 50,
     "metadata": {},
     "output_type": "execute_result"
    },
    {
     "data": {
      "image/png": "[encoded data removed]",
      "text/plain": [
       "<Figure size 720x576 with 1 Axes>"
      ]
     },
     "metadata": {
      "needs_background": "light"
     },
     "output_type": "display_data"
    }
   ],
   "source": [
    "pivot_total_area = df.pivot_table(index = 'total_area', values = 'last_price', aggfunc = ['mean', 'count', 'median'])\n",
    "pivot_total_area.columns = ['mean', 'count', 'median']\n",
    "pivot_total_area.plot(y = 'median', style = 'o', figsize=(10,8))"
   ]
  },
  {
   "cell_type": "code",
   "execution_count": 51,
   "metadata": {
    "colab": {
     "base_uri": "https://localhost:8080/"
    },
    "id": "URKK3PANAjS3",
    "outputId": "2d30cf86-abd1-484b-8c99-57d525e62a81"
   },
   "outputs": [
    {
     "data": {
      "text/plain": [
       "0.7118257964562302"
      ]
     },
     "execution_count": 51,
     "metadata": {},
     "output_type": "execute_result"
    }
   ],
   "source": [
    "df['last_price'].corr(df['total_area'])"
   ]
  },
  {
   "attachments": {},
   "cell_type": "markdown",
   "metadata": {
    "id": "mRrhIl83A2cF"
   },
   "source": [
    "**Вывод:** Согластно корреляции Пирсона коэфициент 0.65 (сила корреляционной связи является средней) Чем больше общая площадь, тем выше стоимость квартиры."
   ]
  },
  {
   "attachments": {},
   "cell_type": "markdown",
   "metadata": {
    "id": "Pltpa1gZ0S3p"
   },
   "source": [
    "**Зависит ли цена от жилой площади**"
   ]
  },
  {
   "cell_type": "code",
   "execution_count": 52,
   "metadata": {
    "colab": {
     "base_uri": "https://localhost:8080/",
     "height": 526
    },
    "id": "ZdRlmA5Y0kk5",
    "outputId": "4b51e308-4214-4ebd-b2ad-9bfc08042d8a"
   },
   "outputs": [
    {
     "data": {
      "text/plain": [
       "<AxesSubplot:xlabel='living_area'>"
      ]
     },
     "execution_count": 52,
     "metadata": {},
     "output_type": "execute_result"
    },
    {
     "data": {
      "image/png": "[encoded data removed]",
      "text/plain": [
       "<Figure size 720x576 with 1 Axes>"
      ]
     },
     "metadata": {
      "needs_background": "light"
     },
     "output_type": "display_data"
    }
   ],
   "source": [
    "pivot_total_area = df.pivot_table(index = 'living_area', values = 'last_price', aggfunc = ['mean', 'count', 'median'])\n",
    "pivot_total_area.columns = ['mean', 'count', 'median']\n",
    "pivot_total_area.plot(y = 'median', style = 'o', figsize=(10,8))"
   ]
  },
  {
   "cell_type": "code",
   "execution_count": 53,
   "metadata": {
    "colab": {
     "base_uri": "https://localhost:8080/"
    },
    "id": "pn3PHhEA9XfL",
    "outputId": "0b977c2a-2d8a-4af7-9538-69f9c4bfe437"
   },
   "outputs": [
    {
     "data": {
      "text/plain": [
       "0.6124161648389128"
      ]
     },
     "execution_count": 53,
     "metadata": {},
     "output_type": "execute_result"
    }
   ],
   "source": [
    "df['last_price'].corr(df['living_area'])"
   ]
  },
  {
   "attachments": {},
   "cell_type": "markdown",
   "metadata": {
    "id": "dASZhrm6MsOs"
   },
   "source": [
    "**Вывод:** Согластно корреляции Пирсона коэфициент 0.56(сила корреляционной связи является средней) Чем больше жилая  площадь, тем выше стоимость квартиры."
   ]
  },
  {
   "attachments": {},
   "cell_type": "markdown",
   "metadata": {
    "id": "ciujGiMV0dyB"
   },
   "source": [
    "**Зависит ли цена от площади кухни**"
   ]
  },
  {
   "cell_type": "code",
   "execution_count": 54,
   "metadata": {
    "colab": {
     "base_uri": "https://localhost:8080/",
     "height": 526
    },
    "id": "1q6fM6qu0m5f",
    "outputId": "e07f06fe-136c-4cd6-da66-b16cee3c76e5"
   },
   "outputs": [
    {
     "data": {
      "text/plain": [
       "<AxesSubplot:xlabel='kitchen_area'>"
      ]
     },
     "execution_count": 54,
     "metadata": {},
     "output_type": "execute_result"
    },
    {
     "data": {
      "image/png": "[encoded data removed]",
      "text/plain": [
       "<Figure size 720x576 with 1 Axes>"
      ]
     },
     "metadata": {
      "needs_background": "light"
     },
     "output_type": "display_data"
    }
   ],
   "source": [
    "pivot_total_area = df.pivot_table(index = 'kitchen_area', values = 'last_price', aggfunc = ['mean', 'count', 'median'])\n",
    "pivot_total_area.columns = ['mean', 'count', 'median']\n",
    "pivot_total_area.plot(y = 'median', style = 'o', figsize=(10,8))"
   ]
  },
  {
   "cell_type": "code",
   "execution_count": 55,
   "metadata": {
    "colab": {
     "base_uri": "https://localhost:8080/"
    },
    "id": "ouf85j-NNVz1",
    "outputId": "ed3a37cf-03ed-44b3-84ec-bde08868f7cd"
   },
   "outputs": [
    {
     "data": {
      "text/plain": [
       "0.5338239265762236"
      ]
     },
     "execution_count": 55,
     "metadata": {},
     "output_type": "execute_result"
    }
   ],
   "source": [
    "df['last_price'].corr(df['kitchen_area'])"
   ]
  },
  {
   "attachments": {},
   "cell_type": "markdown",
   "metadata": {
    "id": "najdT-qFNRGC"
   },
   "source": [
    "**Вывод:** Согластно корреляции Пирсона коэфициент 0.51(сила корреляционной связи является средней) Чем больше площадь кухни, тем выше стоимость квартиры."
   ]
  },
  {
   "attachments": {},
   "cell_type": "markdown",
   "metadata": {
    "id": "lBeb19F0rd4l"
   },
   "source": [
    "**Зависимость полной цены от количества комнат.**"
   ]
  },
  {
   "cell_type": "code",
   "execution_count": 56,
   "metadata": {
    "colab": {
     "base_uri": "https://localhost:8080/",
     "height": 612
    },
    "id": "Eo0zeJQxtROH",
    "outputId": "55fad30f-506b-4ed4-81bb-98332ff3b366"
   },
   "outputs": [
    {
     "data": {
      "text/plain": [
       "(0.0, 70000000.0)"
      ]
     },
     "execution_count": 56,
     "metadata": {},
     "output_type": "execute_result"
    },
    {
     "data": {
      "image/png": "[encoded data removed]",
      "text/plain": [
       "<Figure size 720x576 with 1 Axes>"
      ]
     },
     "metadata": {
      "needs_background": "light"
     },
     "output_type": "display_data"
    }
   ],
   "source": [
    "df_filtered = df[df['rooms']<=14]\n",
    "df_filtered.boxplot('last_price', by='rooms',figsize=(10,8)).set_ylim(0,70000000)"
   ]
  },
  {
   "cell_type": "code",
   "execution_count": 57,
   "metadata": {
    "colab": {
     "base_uri": "https://localhost:8080/"
    },
    "id": "AhMg_4nArx46",
    "outputId": "c6b3854c-7c14-4d89-ff04-869760622741"
   },
   "outputs": [
    {
     "data": {
      "text/plain": [
       "0.40285965809999236"
      ]
     },
     "execution_count": 57,
     "metadata": {},
     "output_type": "execute_result"
    }
   ],
   "source": [
    "df['rooms'].corr(df['last_price'])"
   ]
  },
  {
   "attachments": {},
   "cell_type": "markdown",
   "metadata": {
    "id": "s9uEwrOZsiSY"
   },
   "source": [
    "**Вывод:** Полная цена зависит от количества комнат. Так как сила корреляционной связи, является средней согластно методу Пирсона."
   ]
  },
  {
   "attachments": {},
   "cell_type": "markdown",
   "metadata": {},
   "source": [
    "<div class=\"alert alert-info\">\n",
    "    График нам четко показывает что в зависимости от количества комнат цена растет. Четкая тенденция до 7 комнат, выше 7 комнат график колеблется.Но то что цена вырастает от числа комнат, видно. "
   ]
  },
  {
   "attachments": {},
   "cell_type": "markdown",
   "metadata": {
    "id": "gagScyzGuXov"
   },
   "source": [
    "**Зависимость полной цены от этажа**\n"
   ]
  },
  {
   "cell_type": "code",
   "execution_count": 58,
   "metadata": {
    "colab": {
     "base_uri": "https://localhost:8080/",
     "height": 613
    },
    "id": "JH4pWR1Yuema",
    "outputId": "85ea4e13-34d6-46d8-ef5e-03a605fa0a74"
   },
   "outputs": [
    {
     "data": {
      "text/plain": [
       "(0.0, 20000000.0)"
      ]
     },
     "execution_count": 58,
     "metadata": {},
     "output_type": "execute_result"
    },
    {
     "data": {
      "image/png": "[encoded data removed]",
      "text/plain": [
       "<Figure size 720x576 with 1 Axes>"
      ]
     },
     "metadata": {
      "needs_background": "light"
     },
     "output_type": "display_data"
    }
   ],
   "source": [
    "df.boxplot('last_price', by='type_floor',figsize=(10,8)).set_ylim(0,20000000)"
   ]
  },
  {
   "cell_type": "code",
   "execution_count": 59,
   "metadata": {
    "colab": {
     "base_uri": "https://localhost:8080/",
     "height": 612
    },
    "id": "CXt8hov5v63K",
    "outputId": "2bc58752-9b43-407d-941c-a7178a65a283"
   },
   "outputs": [
    {
     "data": {
      "text/plain": [
       "(0.0, 20000000.0)"
      ]
     },
     "execution_count": 59,
     "metadata": {},
     "output_type": "execute_result"
    },
    {
     "data": {
      "image/png": "[encoded data removed]",
      "text/plain": [
       "<Figure size 720x576 with 1 Axes>"
      ]
     },
     "metadata": {
      "needs_background": "light"
     },
     "output_type": "display_data"
    }
   ],
   "source": [
    "df.boxplot('last_price', by='weekday',figsize=(10,8)).set_ylim(0,20000000)"
   ]
  },
  {
   "cell_type": "code",
   "execution_count": 60,
   "metadata": {
    "colab": {
     "base_uri": "https://localhost:8080/"
    },
    "id": "5ygkNFRql6YZ",
    "outputId": "09e3ea0b-026a-4e9c-95cd-5dcccd2f2984"
   },
   "outputs": [
    {
     "data": {
      "text/plain": [
       "-0.015754530528140635"
      ]
     },
     "execution_count": 60,
     "metadata": {},
     "output_type": "execute_result"
    }
   ],
   "source": [
    "df['weekday'].corr(df['last_price'])"
   ]
  },
  {
   "attachments": {},
   "cell_type": "markdown",
   "metadata": {
    "id": "KSRvMxY_mYl0"
   },
   "source": [
    "**Вывод:** никакой корреляции между днем недели публикации объявления и ценой нет."
   ]
  },
  {
   "cell_type": "code",
   "execution_count": 61,
   "metadata": {
    "colab": {
     "base_uri": "https://localhost:8080/",
     "height": 612
    },
    "id": "PpykZc-lyNOu",
    "outputId": "702dcf6c-489f-428a-8616-247ce017283f"
   },
   "outputs": [
    {
     "data": {
      "text/plain": [
       "(0.0, 15000000.0)"
      ]
     },
     "execution_count": 61,
     "metadata": {},
     "output_type": "execute_result"
    },
    {
     "data": {
      "image/png": "[encoded data removed]",
      "text/plain": [
       "<Figure size 720x576 with 1 Axes>"
      ]
     },
     "metadata": {
      "needs_background": "light"
     },
     "output_type": "display_data"
    }
   ],
   "source": [
    "df.boxplot('last_price', by='month',figsize=(10,8)).set_ylim(0,15000000)"
   ]
  },
  {
   "cell_type": "code",
   "execution_count": 62,
   "metadata": {
    "colab": {
     "base_uri": "https://localhost:8080/"
    },
    "id": "gu5haTZfnU9R",
    "outputId": "21e4385a-055d-40c6-c3d7-93c83c40ab7e"
   },
   "outputs": [
    {
     "data": {
      "text/plain": [
       "0.0035162529116772455"
      ]
     },
     "execution_count": 62,
     "metadata": {},
     "output_type": "execute_result"
    }
   ],
   "source": [
    "df['month'].corr(df['last_price'])"
   ]
  },
  {
   "attachments": {},
   "cell_type": "markdown",
   "metadata": {
    "id": "z0_JzlLQncKx"
   },
   "source": [
    "**Вывод:** И месяц публикации никак на конечную цену не влияет."
   ]
  },
  {
   "cell_type": "code",
   "execution_count": 63,
   "metadata": {
    "colab": {
     "base_uri": "https://localhost:8080/",
     "height": 612
    },
    "id": "PoQXxmIzyUnU",
    "outputId": "c5227008-6da1-47fb-a90a-f19d3b5b87fc"
   },
   "outputs": [
    {
     "data": {
      "text/plain": [
       "(0.0, 30000000.0)"
      ]
     },
     "execution_count": 63,
     "metadata": {},
     "output_type": "execute_result"
    },
    {
     "data": {
      "image/png": "[encoded data removed]",
      "text/plain": [
       "<Figure size 720x576 with 1 Axes>"
      ]
     },
     "metadata": {
      "needs_background": "light"
     },
     "output_type": "display_data"
    }
   ],
   "source": [
    "df.boxplot('last_price', by='year',figsize=(10,8)).set_ylim(0,30000000)"
   ]
  },
  {
   "attachments": {},
   "cell_type": "markdown",
   "metadata": {
    "id": "SCGEsVIRpCo0"
   },
   "source": [
    "**Вывод:** Согластно графика, самые дорогие квартиры были в 2014 году, потом началось снижение цены до 2017 года и совсем не большой рост в 2019. Что в принципе отражает что происходило в стране. До 2014 года самые тучные годы, а там Крым Наш , санкции, падение доходов не уверенность в завтра. Так думаю я смотря на график, возможно это и не так можно не соглашатся."
   ]
  },
  {
   "attachments": {},
   "cell_type": "markdown",
   "metadata": {
    "id": "v5-5P7DCdS52"
   },
   "source": [
    "#### Посчитайте среднюю цену одного квадратного метра в 10 населённых пунктах с наибольшим числом объявлений. \n",
    "* Выделите населённые пункты с самой высокой и низкой стоимостью квадратного метра. \n",
    "* Эти данные можно найти по имени в столбце locality_name."
   ]
  },
  {
   "cell_type": "code",
   "execution_count": 64,
   "metadata": {
    "colab": {
     "base_uri": "https://localhost:8080/"
    },
    "id": "ZnZoYXRj0hvf",
    "outputId": "cc2f4ca8-659b-4fe5-9ef5-5075a0b4f87a"
   },
   "outputs": [
    {
     "name": "stdout",
     "output_type": "stream",
     "text": [
      "Санкт-Петербург: 124347\n",
      "Всеволожск: 66787\n",
      "Пушкин: 107184\n",
      "Мурино: 84935\n",
      "Шушары: 76766\n",
      "Колпино: 74143\n",
      "Кудрово: 94304\n",
      "Гатчина: 69923\n",
      "Петергоф: 86872\n",
      "Парголово: 88325\n"
     ]
    }
   ],
   "source": [
    "top_10_locations = df['locality_name'].value_counts().head(10)\n",
    "\n",
    "for location in top_10_locations.index:\n",
    "    location_data = df[df['locality_name'] == location]\n",
    "    avg_price_per_sqm = location_data['last_price'].sum() / location_data['total_area'].sum()\n",
    "    print(f\"{location}: {round(avg_price_per_sqm)}\")\n"
   ]
  },
  {
   "attachments": {},
   "cell_type": "markdown",
   "metadata": {
    "id": "6-g9yX8veosd"
   },
   "source": [
    "#### Теперь выделите квартиры в Санкт-Петербурге с помощью столбца locality_name и вычислите среднюю цену каждого километра. Опишите, как стоимость объектов зависит от расстояния до центра города."
   ]
  },
  {
   "cell_type": "code",
   "execution_count": 65,
   "metadata": {
    "colab": {
     "base_uri": "https://localhost:8080/"
    },
    "id": "-n0D8wBTpR_S",
    "outputId": "11590413-1c2a-4040-8acd-d5caeeb60ffd"
   },
   "outputs": [
    {
     "data": {
      "text/plain": [
       "distance_city_center\n",
       "0.0     22826611.0\n",
       "1.0     22077548.0\n",
       "2.0     17513685.0\n",
       "3.0     11234244.0\n",
       "4.0     12836774.0\n",
       "5.0     14288125.0\n",
       "6.0     15625268.0\n",
       "7.0     14583196.0\n",
       "8.0     10693072.0\n",
       "9.0      7406132.0\n",
       "10.0     6879417.0\n",
       "11.0     6366429.0\n",
       "12.0     5990715.0\n",
       "13.0     6196063.0\n",
       "14.0     5632654.0\n",
       "15.0     5961147.0\n",
       "16.0     5426578.0\n",
       "17.0     5382512.0\n",
       "18.0     4894926.0\n",
       "19.0     4987383.0\n",
       "20.0     5456400.0\n",
       "21.0     5809508.0\n",
       "22.0     5464979.0\n",
       "23.0     5138915.0\n",
       "24.0     4648000.0\n",
       "25.0     4267500.0\n",
       "26.0     4162600.0\n",
       "27.0    14350000.0\n",
       "28.0     7600000.0\n",
       "29.0     4114000.0\n",
       "Name: last_price, dtype: float64"
      ]
     },
     "execution_count": 65,
     "metadata": {},
     "output_type": "execute_result"
    }
   ],
   "source": [
    "st_petersburg_df = df[df['locality_name'] == 'Санкт-Петербург']\n",
    "st_petersburg_df = st_petersburg_df.groupby('distance_city_center')['last_price'].mean()\n",
    "st_petersburg_df.round()"
   ]
  },
  {
   "cell_type": "code",
   "execution_count": 66,
   "metadata": {
    "colab": {
     "base_uri": "https://localhost:8080/",
     "height": 526
    },
    "id": "NftFmOds7C2r",
    "outputId": "3e140ca2-21fc-4acb-a01e-1125110267ef"
   },
   "outputs": [
    {
     "data": {
      "text/plain": [
       "<AxesSubplot:xlabel='distance_city_center'>"
      ]
     },
     "execution_count": 66,
     "metadata": {},
     "output_type": "execute_result"
    },
    {
     "data": {
      "image/png": "[encoded data removed]",
      "text/plain": [
       "<Figure size 720x576 with 1 Axes>"
      ]
     },
     "metadata": {
      "needs_background": "light"
     },
     "output_type": "display_data"
    }
   ],
   "source": [
    "st_petersburg_df.plot(figsize=(10,8))"
   ]
  },
  {
   "attachments": {},
   "cell_type": "markdown",
   "metadata": {
    "id": "-p1Ah0Yc6QOq"
   },
   "source": [
    "Общая зависимость стоимости от расстояния до центра : чем дальше квартира от центра города, тем дешевле она стоит. Но также может быть и исключения в зависимости от всех факторов указанных выше, количество комнат, общая площадь и т.д.Здесь вероятно еще играет район расположения квартиры на цену, возможно какие-то друие фактры.( 12км от центра "
   ]
  },
  {
   "attachments": {},
   "cell_type": "markdown",
   "metadata": {},
   "source": [
    "# 6. Общий вывод.\n",
    "\n",
    "\n",
    "*   Общая стоимость квартиры в Петербурге и окресностях, зависит.\n",
    "\n",
    "1.   От общей площади квартиры.\n",
    "2.   От жилой площади квартиры.\n",
    "3.   От площади кухни.\n",
    "4.   От количества комнат.\n",
    "5.   Удаленность от центра тоже вносит свои корректировки в образовании конечной цены.\n",
    "\n",
    "\n",
    "*   Самое большое предложение продаж по городу Санкт-Петербургу, так же и самая высокая цена квадратного метра. Так же в  топ 10 по цене квадрата, входят Мурино,Шушары, Выборг замыкает топ.\n",
    "\n",
    "\n",
    "\n",
    "* Рекомендации возможно ввести ограничения на ввод данных о высоте потолков: допущено множество  ошибок (27 м вместо 2,7 м, потолки менее 2 м и т.д.).\n",
    "* Обязательное поле для заполнения количество балконов, названий локации продажи(указать город и т.д), полe количество комнат не может быть 0."
   ]
  }
 ],
 "metadata": {
  "ExecuteTimeLog": [
   {
    "duration": 471,
    "start_time": "2023-01-27T18:34:10.004Z"
   },
   {
    "duration": 235,
    "start_time": "2023-01-27T18:34:10.478Z"
   },
   {
    "duration": 35,
    "start_time": "2023-01-27T18:34:10.715Z"
   },
   {
    "duration": 22,
    "start_time": "2023-01-27T18:34:10.752Z"
   },
   {
    "duration": 21,
    "start_time": "2023-01-27T18:34:10.776Z"
   },
   {
    "duration": 29,
    "start_time": "2023-01-27T18:34:10.799Z"
   },
   {
    "duration": 2154,
    "start_time": "2023-01-27T18:34:10.829Z"
   },
   {
    "duration": 27,
    "start_time": "2023-01-27T18:34:12.984Z"
   },
   {
    "duration": 16,
    "start_time": "2023-01-27T18:34:13.013Z"
   },
   {
    "duration": 34,
    "start_time": "2023-01-27T18:34:13.032Z"
   },
   {
    "duration": 6,
    "start_time": "2023-01-27T18:34:13.067Z"
   },
   {
    "duration": 34,
    "start_time": "2023-01-27T18:34:13.075Z"
   },
   {
    "duration": 20,
    "start_time": "2023-01-27T18:34:13.110Z"
   },
   {
    "duration": 14,
    "start_time": "2023-01-27T18:34:13.131Z"
   },
   {
    "duration": 35,
    "start_time": "2023-01-27T18:34:13.146Z"
   },
   {
    "duration": 26,
    "start_time": "2023-01-27T18:34:13.183Z"
   },
   {
    "duration": 23,
    "start_time": "2023-01-27T18:34:13.211Z"
   },
   {
    "duration": 41,
    "start_time": "2023-01-27T18:34:13.236Z"
   },
   {
    "duration": 22,
    "start_time": "2023-01-27T18:34:13.279Z"
   },
   {
    "duration": 72,
    "start_time": "2023-01-27T18:34:13.303Z"
   },
   {
    "duration": 132,
    "start_time": "2023-01-27T18:34:13.378Z"
   },
   {
    "duration": 11,
    "start_time": "2023-01-27T18:34:13.513Z"
   },
   {
    "duration": 54,
    "start_time": "2023-01-27T18:34:13.527Z"
   },
   {
    "duration": 13,
    "start_time": "2023-01-27T18:34:13.583Z"
   },
   {
    "duration": 54,
    "start_time": "2023-01-27T18:34:13.598Z"
   },
   {
    "duration": 337,
    "start_time": "2023-01-27T18:34:13.653Z"
   },
   {
    "duration": 22,
    "start_time": "2023-01-27T18:34:13.992Z"
   },
   {
    "duration": 19,
    "start_time": "2023-01-27T18:34:14.026Z"
   },
   {
    "duration": 46,
    "start_time": "2023-01-27T18:34:14.046Z"
   },
   {
    "duration": 61,
    "start_time": "2023-01-27T18:34:14.094Z"
   },
   {
    "duration": 329,
    "start_time": "2023-01-27T18:34:14.157Z"
   },
   {
    "duration": 316,
    "start_time": "2023-01-27T18:34:14.487Z"
   },
   {
    "duration": 247,
    "start_time": "2023-01-27T18:34:14.805Z"
   },
   {
    "duration": 162,
    "start_time": "2023-01-27T18:34:15.054Z"
   },
   {
    "duration": 10,
    "start_time": "2023-01-27T18:34:15.218Z"
   },
   {
    "duration": 176,
    "start_time": "2023-01-27T18:34:15.229Z"
   },
   {
    "duration": 144,
    "start_time": "2023-01-27T18:34:15.407Z"
   },
   {
    "duration": 162,
    "start_time": "2023-01-27T18:34:15.552Z"
   },
   {
    "duration": 129,
    "start_time": "2023-01-27T18:34:15.716Z"
   },
   {
    "duration": 7,
    "start_time": "2023-01-27T18:34:15.846Z"
   },
   {
    "duration": 177,
    "start_time": "2023-01-27T18:34:15.855Z"
   },
   {
    "duration": 147,
    "start_time": "2023-01-27T18:34:16.034Z"
   },
   {
    "duration": 250,
    "start_time": "2023-01-27T18:34:16.183Z"
   },
   {
    "duration": 163,
    "start_time": "2023-01-27T18:34:16.434Z"
   },
   {
    "duration": 186,
    "start_time": "2023-01-27T18:34:16.598Z"
   },
   {
    "duration": 5,
    "start_time": "2023-01-27T18:34:16.786Z"
   },
   {
    "duration": 270,
    "start_time": "2023-01-27T18:34:16.792Z"
   },
   {
    "duration": 6,
    "start_time": "2023-01-27T18:34:17.063Z"
   },
   {
    "duration": 171,
    "start_time": "2023-01-27T18:34:17.071Z"
   },
   {
    "duration": 174,
    "start_time": "2023-01-27T18:34:17.243Z"
   },
   {
    "duration": 13,
    "start_time": "2023-01-27T18:34:17.419Z"
   },
   {
    "duration": 204,
    "start_time": "2023-01-27T18:34:17.433Z"
   },
   {
    "duration": 5,
    "start_time": "2023-01-27T18:34:17.639Z"
   },
   {
    "duration": 205,
    "start_time": "2023-01-27T18:34:17.645Z"
   },
   {
    "duration": 6,
    "start_time": "2023-01-27T18:34:17.851Z"
   },
   {
    "duration": 421,
    "start_time": "2023-01-27T18:34:17.858Z"
   },
   {
    "duration": 5,
    "start_time": "2023-01-27T18:34:18.281Z"
   },
   {
    "duration": 308,
    "start_time": "2023-01-27T18:34:18.288Z"
   },
   {
    "duration": 242,
    "start_time": "2023-01-27T18:34:18.598Z"
   },
   {
    "duration": 7,
    "start_time": "2023-01-27T18:34:18.842Z"
   },
   {
    "duration": 331,
    "start_time": "2023-01-27T18:34:18.850Z"
   },
   {
    "duration": 7,
    "start_time": "2023-01-27T18:34:19.183Z"
   },
   {
    "duration": 263,
    "start_time": "2023-01-27T18:34:19.191Z"
   },
   {
    "duration": 33,
    "start_time": "2023-01-27T18:34:19.456Z"
   },
   {
    "duration": 39,
    "start_time": "2023-01-27T18:34:19.490Z"
   },
   {
    "duration": 218,
    "start_time": "2023-01-27T18:34:19.532Z"
   },
   {
    "duration": 71,
    "start_time": "2023-01-27T18:38:36.858Z"
   },
   {
    "duration": 84,
    "start_time": "2023-01-27T18:38:41.709Z"
   },
   {
    "duration": 91,
    "start_time": "2023-01-27T18:38:48.301Z"
   },
   {
    "duration": 12,
    "start_time": "2023-01-27T18:38:50.858Z"
   },
   {
    "duration": 48,
    "start_time": "2023-01-28T12:17:04.180Z"
   },
   {
    "duration": 403,
    "start_time": "2023-01-28T12:17:22.933Z"
   },
   {
    "duration": 150,
    "start_time": "2023-01-28T12:17:23.338Z"
   },
   {
    "duration": 34,
    "start_time": "2023-01-28T12:17:23.490Z"
   },
   {
    "duration": 43,
    "start_time": "2023-01-28T12:17:23.526Z"
   },
   {
    "duration": 28,
    "start_time": "2023-01-28T12:17:23.571Z"
   },
   {
    "duration": 10,
    "start_time": "2023-01-28T12:17:23.601Z"
   },
   {
    "duration": 2433,
    "start_time": "2023-01-28T12:17:23.612Z"
   },
   {
    "duration": 25,
    "start_time": "2023-01-28T12:17:26.047Z"
   },
   {
    "duration": 6,
    "start_time": "2023-01-28T12:17:26.073Z"
   },
   {
    "duration": 32,
    "start_time": "2023-01-28T12:17:26.082Z"
   },
   {
    "duration": 5,
    "start_time": "2023-01-28T12:17:26.115Z"
   },
   {
    "duration": 31,
    "start_time": "2023-01-28T12:17:26.122Z"
   },
   {
    "duration": 31,
    "start_time": "2023-01-28T12:17:26.155Z"
   },
   {
    "duration": 21,
    "start_time": "2023-01-28T12:17:26.191Z"
   },
   {
    "duration": 32,
    "start_time": "2023-01-28T12:17:26.214Z"
   },
   {
    "duration": 9,
    "start_time": "2023-01-28T12:17:26.248Z"
   },
   {
    "duration": 24,
    "start_time": "2023-01-28T12:17:26.258Z"
   },
   {
    "duration": 8,
    "start_time": "2023-01-28T12:17:26.284Z"
   },
   {
    "duration": 11,
    "start_time": "2023-01-28T12:17:26.294Z"
   },
   {
    "duration": 21,
    "start_time": "2023-01-28T12:17:26.307Z"
   },
   {
    "duration": 112,
    "start_time": "2023-01-28T12:17:26.330Z"
   },
   {
    "duration": 12,
    "start_time": "2023-01-28T12:17:26.444Z"
   },
   {
    "duration": 22,
    "start_time": "2023-01-28T12:17:26.459Z"
   },
   {
    "duration": 19,
    "start_time": "2023-01-28T12:17:26.484Z"
   },
   {
    "duration": 17,
    "start_time": "2023-01-28T12:17:26.506Z"
   },
   {
    "duration": 235,
    "start_time": "2023-01-28T12:17:26.526Z"
   },
   {
    "duration": 28,
    "start_time": "2023-01-28T12:17:26.763Z"
   },
   {
    "duration": 7,
    "start_time": "2023-01-28T12:17:26.795Z"
   },
   {
    "duration": 21,
    "start_time": "2023-01-28T12:17:26.803Z"
   },
   {
    "duration": 23,
    "start_time": "2023-01-28T12:17:26.825Z"
   },
   {
    "duration": 307,
    "start_time": "2023-01-28T12:17:26.850Z"
   },
   {
    "duration": 342,
    "start_time": "2023-01-28T12:17:27.158Z"
   },
   {
    "duration": 246,
    "start_time": "2023-01-28T12:17:27.501Z"
   },
   {
    "duration": 157,
    "start_time": "2023-01-28T12:17:27.750Z"
   },
   {
    "duration": 6,
    "start_time": "2023-01-28T12:17:27.908Z"
   },
   {
    "duration": 159,
    "start_time": "2023-01-28T12:17:27.916Z"
   },
   {
    "duration": 203,
    "start_time": "2023-01-28T12:17:28.081Z"
   },
   {
    "duration": 170,
    "start_time": "2023-01-28T12:17:28.286Z"
   },
   {
    "duration": 124,
    "start_time": "2023-01-28T12:17:28.457Z"
   },
   {
    "duration": 6,
    "start_time": "2023-01-28T12:17:28.583Z"
   },
   {
    "duration": 165,
    "start_time": "2023-01-28T12:17:28.591Z"
   },
   {
    "duration": 149,
    "start_time": "2023-01-28T12:17:28.758Z"
   },
   {
    "duration": 132,
    "start_time": "2023-01-28T12:17:28.909Z"
   },
   {
    "duration": 249,
    "start_time": "2023-01-28T12:17:29.043Z"
   },
   {
    "duration": 195,
    "start_time": "2023-01-28T12:17:29.294Z"
   },
   {
    "duration": 5,
    "start_time": "2023-01-28T12:17:29.490Z"
   },
   {
    "duration": 251,
    "start_time": "2023-01-28T12:17:29.497Z"
   },
   {
    "duration": 7,
    "start_time": "2023-01-28T12:17:29.750Z"
   },
   {
    "duration": 154,
    "start_time": "2023-01-28T12:17:29.759Z"
   },
   {
    "duration": 183,
    "start_time": "2023-01-28T12:17:29.915Z"
   },
   {
    "duration": 6,
    "start_time": "2023-01-28T12:17:30.100Z"
   },
   {
    "duration": 195,
    "start_time": "2023-01-28T12:17:30.108Z"
   },
   {
    "duration": 7,
    "start_time": "2023-01-28T12:17:30.305Z"
   },
   {
    "duration": 179,
    "start_time": "2023-01-28T12:17:30.314Z"
   },
   {
    "duration": 6,
    "start_time": "2023-01-28T12:17:30.494Z"
   },
   {
    "duration": 338,
    "start_time": "2023-01-28T12:17:30.502Z"
   },
   {
    "duration": 4,
    "start_time": "2023-01-28T12:17:30.843Z"
   },
   {
    "duration": 213,
    "start_time": "2023-01-28T12:17:30.849Z"
   },
   {
    "duration": 330,
    "start_time": "2023-01-28T12:17:31.064Z"
   },
   {
    "duration": 6,
    "start_time": "2023-01-28T12:17:31.397Z"
   },
   {
    "duration": 306,
    "start_time": "2023-01-28T12:17:31.405Z"
   },
   {
    "duration": 6,
    "start_time": "2023-01-28T12:17:31.713Z"
   },
   {
    "duration": 213,
    "start_time": "2023-01-28T12:17:31.720Z"
   },
   {
    "duration": 25,
    "start_time": "2023-01-28T12:17:31.935Z"
   },
   {
    "duration": 28,
    "start_time": "2023-01-28T12:17:31.961Z"
   },
   {
    "duration": 154,
    "start_time": "2023-01-28T12:17:31.991Z"
   },
   {
    "duration": 288,
    "start_time": "2023-01-28T12:47:31.242Z"
   },
   {
    "duration": 375,
    "start_time": "2023-01-28T12:48:50.479Z"
   },
   {
    "duration": 372,
    "start_time": "2023-01-28T12:49:02.759Z"
   },
   {
    "duration": 253,
    "start_time": "2023-01-28T12:50:41.238Z"
   },
   {
    "duration": 256,
    "start_time": "2023-01-28T12:51:46.581Z"
   },
   {
    "duration": 270,
    "start_time": "2023-01-28T12:52:05.132Z"
   },
   {
    "duration": 298,
    "start_time": "2023-01-28T12:52:18.156Z"
   },
   {
    "duration": 264,
    "start_time": "2023-01-28T12:56:28.752Z"
   },
   {
    "duration": 190,
    "start_time": "2023-01-28T12:56:44.411Z"
   },
   {
    "duration": 328,
    "start_time": "2023-01-28T12:56:52.675Z"
   },
   {
    "duration": 198,
    "start_time": "2023-01-28T12:57:01.595Z"
   },
   {
    "duration": 172,
    "start_time": "2023-01-28T12:57:12.709Z"
   },
   {
    "duration": 160,
    "start_time": "2023-01-28T12:57:19.799Z"
   },
   {
    "duration": 189,
    "start_time": "2023-01-28T12:57:38.740Z"
   },
   {
    "duration": 185,
    "start_time": "2023-01-28T13:00:45.138Z"
   },
   {
    "duration": 149,
    "start_time": "2023-01-28T13:00:56.610Z"
   },
   {
    "duration": 179,
    "start_time": "2023-01-28T13:01:17.737Z"
   },
   {
    "duration": 238,
    "start_time": "2023-01-28T13:01:36.454Z"
   },
   {
    "duration": 192,
    "start_time": "2023-01-28T13:01:49.106Z"
   },
   {
    "duration": 160,
    "start_time": "2023-01-28T13:01:58.840Z"
   },
   {
    "duration": 175,
    "start_time": "2023-01-28T13:02:13.704Z"
   },
   {
    "duration": 209,
    "start_time": "2023-01-28T13:02:23.737Z"
   },
   {
    "duration": 399,
    "start_time": "2023-01-28T13:02:50.675Z"
   },
   {
    "duration": 255,
    "start_time": "2023-01-28T13:03:01.521Z"
   },
   {
    "duration": 380,
    "start_time": "2023-01-28T13:12:13.906Z"
   },
   {
    "duration": 221,
    "start_time": "2023-01-28T13:12:14.287Z"
   },
   {
    "duration": 28,
    "start_time": "2023-01-28T13:12:14.509Z"
   },
   {
    "duration": 20,
    "start_time": "2023-01-28T13:12:14.539Z"
   },
   {
    "duration": 30,
    "start_time": "2023-01-28T13:12:14.561Z"
   },
   {
    "duration": 9,
    "start_time": "2023-01-28T13:12:14.592Z"
   },
   {
    "duration": 2207,
    "start_time": "2023-01-28T13:12:14.602Z"
   },
   {
    "duration": 25,
    "start_time": "2023-01-28T13:12:16.811Z"
   },
   {
    "duration": 4,
    "start_time": "2023-01-28T13:12:16.837Z"
   },
   {
    "duration": 45,
    "start_time": "2023-01-28T13:12:16.844Z"
   },
   {
    "duration": 5,
    "start_time": "2023-01-28T13:12:16.891Z"
   },
   {
    "duration": 30,
    "start_time": "2023-01-28T13:12:16.898Z"
   },
   {
    "duration": 6,
    "start_time": "2023-01-28T13:12:16.929Z"
   },
   {
    "duration": 20,
    "start_time": "2023-01-28T13:12:16.936Z"
   },
   {
    "duration": 47,
    "start_time": "2023-01-28T13:12:16.959Z"
   },
   {
    "duration": 10,
    "start_time": "2023-01-28T13:12:17.007Z"
   },
   {
    "duration": 10,
    "start_time": "2023-01-28T13:12:17.018Z"
   },
   {
    "duration": 9,
    "start_time": "2023-01-28T13:12:17.030Z"
   },
   {
    "duration": 4,
    "start_time": "2023-01-28T13:12:17.041Z"
   },
   {
    "duration": 48,
    "start_time": "2023-01-28T13:12:17.046Z"
   },
   {
    "duration": 66,
    "start_time": "2023-01-28T13:12:17.095Z"
   },
   {
    "duration": 19,
    "start_time": "2023-01-28T13:12:17.162Z"
   },
   {
    "duration": 7,
    "start_time": "2023-01-28T13:12:17.183Z"
   },
   {
    "duration": 5,
    "start_time": "2023-01-28T13:12:17.191Z"
   },
   {
    "duration": 13,
    "start_time": "2023-01-28T13:12:17.197Z"
   },
   {
    "duration": 207,
    "start_time": "2023-01-28T13:12:17.211Z"
   },
   {
    "duration": 22,
    "start_time": "2023-01-28T13:12:17.420Z"
   },
   {
    "duration": 4,
    "start_time": "2023-01-28T13:12:17.446Z"
   },
   {
    "duration": 13,
    "start_time": "2023-01-28T13:12:17.452Z"
   },
   {
    "duration": 38,
    "start_time": "2023-01-28T13:12:17.467Z"
   },
   {
    "duration": 322,
    "start_time": "2023-01-28T13:12:17.506Z"
   },
   {
    "duration": 266,
    "start_time": "2023-01-28T13:12:17.830Z"
   },
   {
    "duration": 330,
    "start_time": "2023-01-28T13:12:18.098Z"
   },
   {
    "duration": 251,
    "start_time": "2023-01-28T13:12:18.430Z"
   },
   {
    "duration": 6,
    "start_time": "2023-01-28T13:12:18.682Z"
   },
   {
    "duration": 174,
    "start_time": "2023-01-28T13:12:18.689Z"
   },
   {
    "duration": 178,
    "start_time": "2023-01-28T13:12:18.865Z"
   },
   {
    "duration": 180,
    "start_time": "2023-01-28T13:12:19.045Z"
   },
   {
    "duration": 135,
    "start_time": "2023-01-28T13:12:19.227Z"
   },
   {
    "duration": 20,
    "start_time": "2023-01-28T13:12:19.365Z"
   },
   {
    "duration": 178,
    "start_time": "2023-01-28T13:12:19.386Z"
   },
   {
    "duration": 177,
    "start_time": "2023-01-28T13:12:19.566Z"
   },
   {
    "duration": 152,
    "start_time": "2023-01-28T13:12:19.744Z"
   },
   {
    "duration": 256,
    "start_time": "2023-01-28T13:12:19.898Z"
   },
   {
    "duration": 198,
    "start_time": "2023-01-28T13:12:20.156Z"
   },
   {
    "duration": 5,
    "start_time": "2023-01-28T13:12:20.356Z"
   },
   {
    "duration": 198,
    "start_time": "2023-01-28T13:12:20.362Z"
   },
   {
    "duration": 7,
    "start_time": "2023-01-28T13:12:20.561Z"
   },
   {
    "duration": 171,
    "start_time": "2023-01-28T13:12:20.569Z"
   },
   {
    "duration": 186,
    "start_time": "2023-01-28T13:12:20.741Z"
   },
   {
    "duration": 5,
    "start_time": "2023-01-28T13:12:20.929Z"
   },
   {
    "duration": 201,
    "start_time": "2023-01-28T13:12:20.936Z"
   },
   {
    "duration": 6,
    "start_time": "2023-01-28T13:12:21.139Z"
   },
   {
    "duration": 184,
    "start_time": "2023-01-28T13:12:21.147Z"
   },
   {
    "duration": 6,
    "start_time": "2023-01-28T13:12:21.333Z"
   },
   {
    "duration": 334,
    "start_time": "2023-01-28T13:12:21.341Z"
   },
   {
    "duration": 7,
    "start_time": "2023-01-28T13:12:21.677Z"
   },
   {
    "duration": 217,
    "start_time": "2023-01-28T13:12:21.686Z"
   },
   {
    "duration": 252,
    "start_time": "2023-01-28T13:12:21.905Z"
   },
   {
    "duration": 5,
    "start_time": "2023-01-28T13:12:22.158Z"
   },
   {
    "duration": 396,
    "start_time": "2023-01-28T13:12:22.165Z"
   },
   {
    "duration": 7,
    "start_time": "2023-01-28T13:12:22.563Z"
   },
   {
    "duration": 235,
    "start_time": "2023-01-28T13:12:22.572Z"
   },
   {
    "duration": 29,
    "start_time": "2023-01-28T13:12:22.809Z"
   },
   {
    "duration": 20,
    "start_time": "2023-01-28T13:12:22.840Z"
   },
   {
    "duration": 171,
    "start_time": "2023-01-28T13:12:22.862Z"
   },
   {
    "duration": 268,
    "start_time": "2023-01-28T13:42:48.169Z"
   },
   {
    "duration": 374,
    "start_time": "2023-01-28T13:48:40.329Z"
   },
   {
    "duration": 303,
    "start_time": "2023-01-28T13:48:40.705Z"
   },
   {
    "duration": 31,
    "start_time": "2023-01-28T13:48:41.009Z"
   },
   {
    "duration": 22,
    "start_time": "2023-01-28T13:48:41.042Z"
   },
   {
    "duration": 17,
    "start_time": "2023-01-28T13:48:41.082Z"
   },
   {
    "duration": 9,
    "start_time": "2023-01-28T13:48:41.101Z"
   },
   {
    "duration": 2217,
    "start_time": "2023-01-28T13:48:41.112Z"
   },
   {
    "duration": 25,
    "start_time": "2023-01-28T13:48:43.331Z"
   },
   {
    "duration": 5,
    "start_time": "2023-01-28T13:48:43.358Z"
   },
   {
    "duration": 68,
    "start_time": "2023-01-28T13:48:43.366Z"
   },
   {
    "duration": 8,
    "start_time": "2023-01-28T13:48:43.437Z"
   },
   {
    "duration": 47,
    "start_time": "2023-01-28T13:48:43.447Z"
   },
   {
    "duration": 15,
    "start_time": "2023-01-28T13:48:43.497Z"
   },
   {
    "duration": 21,
    "start_time": "2023-01-28T13:48:43.514Z"
   },
   {
    "duration": 33,
    "start_time": "2023-01-28T13:48:43.537Z"
   },
   {
    "duration": 16,
    "start_time": "2023-01-28T13:48:43.572Z"
   },
   {
    "duration": 35,
    "start_time": "2023-01-28T13:48:43.590Z"
   },
   {
    "duration": 10,
    "start_time": "2023-01-28T13:48:43.628Z"
   },
   {
    "duration": 5,
    "start_time": "2023-01-28T13:48:43.640Z"
   },
   {
    "duration": 31,
    "start_time": "2023-01-28T13:48:43.646Z"
   },
   {
    "duration": 85,
    "start_time": "2023-01-28T13:48:43.679Z"
   },
   {
    "duration": 18,
    "start_time": "2023-01-28T13:48:43.766Z"
   },
   {
    "duration": 20,
    "start_time": "2023-01-28T13:48:43.786Z"
   },
   {
    "duration": 19,
    "start_time": "2023-01-28T13:48:43.808Z"
   },
   {
    "duration": 17,
    "start_time": "2023-01-28T13:48:43.829Z"
   },
   {
    "duration": 240,
    "start_time": "2023-01-28T13:48:43.847Z"
   },
   {
    "duration": 33,
    "start_time": "2023-01-28T13:48:44.089Z"
   },
   {
    "duration": 7,
    "start_time": "2023-01-28T13:48:44.128Z"
   },
   {
    "duration": 24,
    "start_time": "2023-01-28T13:48:44.137Z"
   },
   {
    "duration": 43,
    "start_time": "2023-01-28T13:48:44.163Z"
   },
   {
    "duration": 325,
    "start_time": "2023-01-28T13:48:44.209Z"
   },
   {
    "duration": 265,
    "start_time": "2023-01-28T13:48:44.535Z"
   },
   {
    "duration": 366,
    "start_time": "2023-01-28T13:48:44.802Z"
   },
   {
    "duration": 291,
    "start_time": "2023-01-28T13:48:45.170Z"
   },
   {
    "duration": 5,
    "start_time": "2023-01-28T13:48:45.463Z"
   },
   {
    "duration": 180,
    "start_time": "2023-01-28T13:48:45.482Z"
   },
   {
    "duration": 200,
    "start_time": "2023-01-28T13:48:45.664Z"
   },
   {
    "duration": 256,
    "start_time": "2023-01-28T13:48:45.866Z"
   },
   {
    "duration": 187,
    "start_time": "2023-01-28T13:48:46.125Z"
   },
   {
    "duration": 13,
    "start_time": "2023-01-28T13:48:46.315Z"
   },
   {
    "duration": 226,
    "start_time": "2023-01-28T13:48:46.330Z"
   },
   {
    "duration": 231,
    "start_time": "2023-01-28T13:48:46.559Z"
   },
   {
    "duration": 226,
    "start_time": "2023-01-28T13:48:46.792Z"
   },
   {
    "duration": 273,
    "start_time": "2023-01-28T13:48:47.021Z"
   },
   {
    "duration": 201,
    "start_time": "2023-01-28T13:48:47.296Z"
   },
   {
    "duration": 5,
    "start_time": "2023-01-28T13:48:47.499Z"
   },
   {
    "duration": 209,
    "start_time": "2023-01-28T13:48:47.506Z"
   },
   {
    "duration": 6,
    "start_time": "2023-01-28T13:48:47.716Z"
   },
   {
    "duration": 166,
    "start_time": "2023-01-28T13:48:47.724Z"
   },
   {
    "duration": 166,
    "start_time": "2023-01-28T13:48:47.892Z"
   },
   {
    "duration": 9,
    "start_time": "2023-01-28T13:48:48.060Z"
   },
   {
    "duration": 187,
    "start_time": "2023-01-28T13:48:48.080Z"
   },
   {
    "duration": 13,
    "start_time": "2023-01-28T13:48:48.269Z"
   },
   {
    "duration": 170,
    "start_time": "2023-01-28T13:48:48.283Z"
   },
   {
    "duration": 5,
    "start_time": "2023-01-28T13:48:48.455Z"
   },
   {
    "duration": 280,
    "start_time": "2023-01-28T13:48:48.461Z"
   },
   {
    "duration": 7,
    "start_time": "2023-01-28T13:48:48.743Z"
   },
   {
    "duration": 185,
    "start_time": "2023-01-28T13:48:48.752Z"
   },
   {
    "duration": 218,
    "start_time": "2023-01-28T13:48:48.940Z"
   },
   {
    "duration": 6,
    "start_time": "2023-01-28T13:48:49.160Z"
   },
   {
    "duration": 381,
    "start_time": "2023-01-28T13:48:49.168Z"
   },
   {
    "duration": 5,
    "start_time": "2023-01-28T13:48:49.551Z"
   },
   {
    "duration": 208,
    "start_time": "2023-01-28T13:48:49.558Z"
   },
   {
    "duration": 31,
    "start_time": "2023-01-28T13:48:49.768Z"
   },
   {
    "duration": 11,
    "start_time": "2023-01-28T13:48:49.801Z"
   },
   {
    "duration": 172,
    "start_time": "2023-01-28T13:48:49.814Z"
   }
  ],
  "colab": {
   "provenance": [],
   "toc_visible": true
  },
  "kernelspec": {
   "display_name": "Python 3 (ipykernel)",
   "language": "python",
   "name": "python3"
  },
  "language_info": {
   "codemirror_mode": {
    "name": "ipython",
    "version": 3
   },
   "file_extension": ".py",
   "mimetype": "text/x-python",
   "name": "python",
   "nbconvert_exporter": "python",
   "pygments_lexer": "ipython3",
   "version": "3.9.5"
  },
  "toc": {
   "base_numbering": 1,
   "nav_menu": {},
   "number_sections": true,
   "sideBar": true,
   "skip_h1_title": true,
   "title_cell": "Table of Contents",
   "title_sidebar": "Contents",
   "toc_cell": false,
   "toc_position": {},
   "toc_section_display": true,
   "toc_window_display": false
  }
 },
 "nbformat": 4,
 "nbformat_minor": 1
}
